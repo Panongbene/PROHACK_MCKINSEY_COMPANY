{
 "cells": [
  {
   "cell_type": "markdown",
   "metadata": {},
   "source": [
    "# <center>STUDENT AT INSTITUT POLYTECHNIQUE DE PARIS 24 MAY 2020</center>#\n",
    "# <center>PROHACK/International Data Science Hackathon</center>#\n",
    "#  NAMES: PANONGBENE JEAN MOHAMED SAWADOGO #\n",
    "# Email: amet1900@gmail.com #\n",
    "# Github: https://github.com/Panongbene #"
   ]
  },
  {
   "cell_type": "code",
   "execution_count": 1,
   "metadata": {},
   "outputs": [],
   "source": [
    "import csv\n",
    "import marshal\n",
    "import numpy as np\n",
    "import pandas as pd\n",
    "from math import sqrt\n",
    "import networkx as nwx\n",
    "import tensorflow as tf\n",
    "from sklearn import svm\n",
    "from sklearn.svm import SVC\n",
    "from datetime import datetime\n",
    "import matplotlib.pyplot as plt\n",
    "from xgboost import XGBRegressor\n",
    "from sklearn.metrics import accuracy_score\n",
    "from sklearn.metrics import confusion_matrix\n",
    "from sklearn.metrics import mean_squared_error\n",
    "from sklearn.neighbors import KNeighborsRegressor\n",
    "from sklearn.ensemble import RandomForestRegressor\n",
    "from sklearn.model_selection import cross_val_score\n",
    "from sklearn.model_selection import train_test_split\n",
    "from sklearn.feature_selection import SelectFromModel\n",
    "from sklearn.ensemble import GradientBoostingRegressor"
   ]
  },
  {
   "cell_type": "markdown",
   "metadata": {},
   "source": [
    "## I USE THIS FUNCTION TO DETERMINATE THE EXECUTION TIME"
   ]
  },
  {
   "cell_type": "code",
   "execution_count": 2,
   "metadata": {},
   "outputs": [],
   "source": [
    "#https://www.kaggle.com/tilii7/hyperparameter-grid-search-with-xgboost\n",
    "def timer(start_time=None):\n",
    "    if not start_time:\n",
    "        start_time = datetime.now()\n",
    "        return start_time\n",
    "    elif start_time:\n",
    "        thour, temp_sec = divmod((datetime.now() - start_time).total_seconds(), 3600)\n",
    "        tmin, tsec = divmod(temp_sec, 60)\n",
    "        print('\\nTime taken: %i hours %i minutes and %s seconds.' % (thour, tmin, round(tsec, 2)))"
   ]
  },
  {
   "cell_type": "markdown",
   "metadata": {},
   "source": [
    "## TO USE THIS FUNCTION TO SAVE THE TARGET RESULT\n",
    "\n",
    "1-- This function take a list of of value(liste_to_save) and the string(file_name) and create a file named \"file_name.csv\" containing our values"
   ]
  },
  {
   "cell_type": "code",
   "execution_count": 3,
   "metadata": {},
   "outputs": [],
   "source": [
    "#this function allow to save a list data in a csv file\n",
    "def save_liste(liste_to_save,file_name):    \n",
    "    size_liste=len(liste_to_save)\n",
    "    file_name=file_name+\".csv\"\n",
    "    \n",
    "    with open(file_name, \"w\") as f_write:\n",
    "        writer = csv.writer(f_write, delimiter=\",\")\n",
    "        writer.writerow((\"index\",\"pred\",\"opt_pred\"))\n",
    "\n",
    "        for i in range(size_liste):\n",
    "            writer.writerow((i+1,float(liste_to_save[i][0]),float((liste_to_save[i][1]))))"
   ]
  },
  {
   "cell_type": "markdown",
   "metadata": {},
   "source": [
    "## IMPORTING DATA "
   ]
  },
  {
   "cell_type": "code",
   "execution_count": 4,
   "metadata": {},
   "outputs": [],
   "source": [
    "#load the data\n",
    "train_data=pd.read_csv(\"DATA/train.csv\")\n",
    "test_data=pd.read_csv(\"DATA/test.csv\")"
   ]
  },
  {
   "cell_type": "markdown",
   "metadata": {},
   "source": [
    "## TO SEE THE CHARACTERISTICS OF TRAINING AND TESTING DATAS\n",
    "\n",
    "1- Here we display a summary of the characteristics of our data"
   ]
  },
  {
   "cell_type": "code",
   "execution_count": 5,
   "metadata": {},
   "outputs": [
    {
     "name": "stdout",
     "output_type": "stream",
     "text": [
      "training data size    =  (3865, 80)\n",
      "testing data size     =  (890, 79)\n"
     ]
    }
   ],
   "source": [
    "#to see the size of the datas\n",
    "print(\"training data size    = \",train_data.shape)\n",
    "print(\"testing data size     = \",test_data.shape)"
   ]
  },
  {
   "cell_type": "code",
   "execution_count": 6,
   "metadata": {},
   "outputs": [
    {
     "name": "stdout",
     "output_type": "stream",
     "text": [
      "galactic year                                                                         int64\n",
      "galaxy                                                                               object\n",
      "existence expectancy index                                                          float64\n",
      "existence expectancy at birth                                                       float64\n",
      "Gross income per capita                                                             float64\n",
      "Income Index                                                                        float64\n",
      "Expected years of education (galactic years)                                        float64\n",
      "Mean years of education (galactic years)                                            float64\n",
      "Intergalactic Development Index (IDI)                                               float64\n",
      "Education Index                                                                     float64\n",
      "Intergalactic Development Index (IDI), Rank                                         float64\n",
      "Population using at least basic drinking-water services (%)                         float64\n",
      "Population using at least basic sanitation services (%)                             float64\n",
      "Gross capital formation (% of GGP)                                                  float64\n",
      "Population, total (millions)                                                        float64\n",
      "Population, urban (%)                                                               float64\n",
      "Mortality rate, under-five (per 1,000 live births)                                  float64\n",
      "Mortality rate, infant (per 1,000 live births)                                      float64\n",
      "Old age dependency ratio (old age (65 and older) per 100 creatures (ages 15-64))    float64\n",
      "Population, ages 15–64 (millions)                                                   float64\n",
      "Population, ages 65 and older (millions)                                            float64\n",
      "Life expectancy at birth, male (galactic years)                                     float64\n",
      "Life expectancy at birth, female (galactic years)                                   float64\n",
      "Population, under age 5 (millions)                                                  float64\n",
      "Young age (0-14) dependency ratio (per 100 creatures ages 15-64)                    float64\n",
      "Adolescent birth rate (births per 1,000 female creatures ages 15-19)                float64\n",
      "Total unemployment rate (female to male ratio)                                      float64\n",
      "Vulnerable employment (% of total employment)                                       float64\n",
      "Unemployment, total (% of labour force)                                             float64\n",
      "Employment in agriculture (% of total employment)                                   float64\n",
      "                                                                                     ...   \n",
      "Mean years of education, male (galactic years)                                      float64\n",
      "Expected years of education, female (galactic years)                                float64\n",
      "Expected years of education, male (galactic years)                                  float64\n",
      "Maternal mortality ratio (deaths per 100,000 live births)                           float64\n",
      "Renewable energy consumption (% of total final energy consumption)                  float64\n",
      "Estimated gross galactic income per capita, male                                    float64\n",
      "Estimated gross galactic income per capita, female                                  float64\n",
      "Rural population with access to electricity (%)                                     float64\n",
      "Domestic credit provided by financial sector (% of GGP)                             float64\n",
      "Population with at least some secondary education, female (% ages 25 and older)     float64\n",
      "Population with at least some secondary education, male (% ages 25 and older)       float64\n",
      "Gross fixed capital formation (% of GGP)                                            float64\n",
      "Remittances, inflows (% of GGP)                                                     float64\n",
      "Population with at least some secondary education (% ages 25 and older)             float64\n",
      "Intergalactic inbound tourists (thousands)                                          float64\n",
      "Gross enrolment ratio, primary (% of primary under-age population)                  float64\n",
      "Respiratory disease incidence (per 100,000 people)                                  float64\n",
      "Interstellar phone subscriptions (per 100 people)                                   float64\n",
      "Interstellar Data Net users, total (% of population)                                float64\n",
      "Current health expenditure (% of GGP)                                               float64\n",
      "Intergalactic Development Index (IDI), female                                       float64\n",
      "Intergalactic Development Index (IDI), male                                         float64\n",
      "Gender Development Index (GDI)                                                      float64\n",
      "Intergalactic Development Index (IDI), female, Rank                                 float64\n",
      "Intergalactic Development Index (IDI), male, Rank                                   float64\n",
      "Adjusted net savings                                                                float64\n",
      "Creature Immunodeficiency Disease prevalence, adult (% ages 15-49), total           float64\n",
      "Private galaxy capital flows (% of GGP)                                             float64\n",
      "Gender Inequality Index (GII)                                                       float64\n",
      "y                                                                                   float64\n",
      "Length: 80, dtype: object\n"
     ]
    }
   ],
   "source": [
    "#see the type of each training data\n",
    "print(train_data.dtypes)"
   ]
  },
  {
   "cell_type": "code",
   "execution_count": 7,
   "metadata": {},
   "outputs": [
    {
     "name": "stdout",
     "output_type": "stream",
     "text": [
      "galactic year                                                                         int64\n",
      "galaxy                                                                               object\n",
      "existence expectancy index                                                          float64\n",
      "existence expectancy at birth                                                       float64\n",
      "Gross income per capita                                                             float64\n",
      "Income Index                                                                        float64\n",
      "Expected years of education (galactic years)                                        float64\n",
      "Mean years of education (galactic years)                                            float64\n",
      "Intergalactic Development Index (IDI)                                               float64\n",
      "Education Index                                                                     float64\n",
      "Intergalactic Development Index (IDI), Rank                                         float64\n",
      "Population using at least basic drinking-water services (%)                         float64\n",
      "Population using at least basic sanitation services (%)                             float64\n",
      "Gross capital formation (% of GGP)                                                  float64\n",
      "Population, total (millions)                                                        float64\n",
      "Population, urban (%)                                                               float64\n",
      "Mortality rate, under-five (per 1,000 live births)                                  float64\n",
      "Mortality rate, infant (per 1,000 live births)                                      float64\n",
      "Old age dependency ratio (old age (65 and older) per 100 creatures (ages 15-64))    float64\n",
      "Population, ages 15–64 (millions)                                                   float64\n",
      "Population, ages 65 and older (millions)                                            float64\n",
      "Life expectancy at birth, male (galactic years)                                     float64\n",
      "Life expectancy at birth, female (galactic years)                                   float64\n",
      "Population, under age 5 (millions)                                                  float64\n",
      "Young age (0-14) dependency ratio (per 100 creatures ages 15-64)                    float64\n",
      "Adolescent birth rate (births per 1,000 female creatures ages 15-19)                float64\n",
      "Total unemployment rate (female to male ratio)                                      float64\n",
      "Vulnerable employment (% of total employment)                                       float64\n",
      "Unemployment, total (% of labour force)                                             float64\n",
      "Employment in agriculture (% of total employment)                                   float64\n",
      "                                                                                     ...   \n",
      "Mean years of education, female (galactic years)                                    float64\n",
      "Mean years of education, male (galactic years)                                      float64\n",
      "Expected years of education, female (galactic years)                                float64\n",
      "Expected years of education, male (galactic years)                                  float64\n",
      "Maternal mortality ratio (deaths per 100,000 live births)                           float64\n",
      "Renewable energy consumption (% of total final energy consumption)                  float64\n",
      "Estimated gross galactic income per capita, male                                    float64\n",
      "Estimated gross galactic income per capita, female                                  float64\n",
      "Rural population with access to electricity (%)                                     float64\n",
      "Domestic credit provided by financial sector (% of GGP)                             float64\n",
      "Population with at least some secondary education, female (% ages 25 and older)     float64\n",
      "Population with at least some secondary education, male (% ages 25 and older)       float64\n",
      "Gross fixed capital formation (% of GGP)                                            float64\n",
      "Remittances, inflows (% of GGP)                                                     float64\n",
      "Population with at least some secondary education (% ages 25 and older)             float64\n",
      "Intergalactic inbound tourists (thousands)                                          float64\n",
      "Gross enrolment ratio, primary (% of primary under-age population)                  float64\n",
      "Respiratory disease incidence (per 100,000 people)                                  float64\n",
      "Interstellar phone subscriptions (per 100 people)                                   float64\n",
      "Interstellar Data Net users, total (% of population)                                float64\n",
      "Current health expenditure (% of GGP)                                               float64\n",
      "Intergalactic Development Index (IDI), female                                       float64\n",
      "Intergalactic Development Index (IDI), male                                         float64\n",
      "Gender Development Index (GDI)                                                      float64\n",
      "Intergalactic Development Index (IDI), female, Rank                                 float64\n",
      "Intergalactic Development Index (IDI), male, Rank                                   float64\n",
      "Adjusted net savings                                                                float64\n",
      "Creature Immunodeficiency Disease prevalence, adult (% ages 15-49), total           float64\n",
      "Private galaxy capital flows (% of GGP)                                             float64\n",
      "Gender Inequality Index (GII)                                                       float64\n",
      "Length: 79, dtype: object\n"
     ]
    }
   ],
   "source": [
    "#see the type of each testing data(bormaly it is the same with training)\n",
    "print(test_data.dtypes)"
   ]
  },
  {
   "cell_type": "code",
   "execution_count": 8,
   "metadata": {},
   "outputs": [
    {
     "name": "stdout",
     "output_type": "stream",
     "text": [
      "        galactic year        galaxy  existence expectancy index  \\\n",
      "count    3.865000e+03          3865                 3864.000000   \n",
      "unique            NaN           181                         NaN   \n",
      "top               NaN  Tucana Dwarf                         NaN   \n",
      "freq              NaN            26                         NaN   \n",
      "mean     1.000709e+06           NaN                    0.872479   \n",
      "std      6.945463e+03           NaN                    0.162367   \n",
      "min      9.900250e+05           NaN                    0.227890   \n",
      "25%      9.950060e+05           NaN                    0.763027   \n",
      "50%      1.000000e+06           NaN                    0.907359   \n",
      "75%      1.006009e+06           NaN                    0.992760   \n",
      "max      1.015056e+06           NaN                    1.246908   \n",
      "\n",
      "        existence expectancy at birth  Gross income per capita  Income Index  \\\n",
      "count                     3864.000000              3837.000000   3837.000000   \n",
      "unique                            NaN                      NaN           NaN   \n",
      "top                               NaN                      NaN           NaN   \n",
      "freq                              NaN                      NaN           NaN   \n",
      "mean                        76.798111             31633.240872      0.825154   \n",
      "std                         10.461654             18736.378445      0.194055   \n",
      "min                         34.244062              -126.906522      0.292001   \n",
      "25%                         69.961449             20169.118912      0.677131   \n",
      "50%                         78.995101             26600.768195      0.827300   \n",
      "75%                         84.558971             36898.631754      0.970295   \n",
      "max                        100.210053            151072.683156      1.361883   \n",
      "\n",
      "        Expected years of education (galactic years)  \\\n",
      "count                                    3732.000000   \n",
      "unique                                           NaN   \n",
      "top                                              NaN   \n",
      "freq                                             NaN   \n",
      "mean                                       14.723296   \n",
      "std                                         3.612546   \n",
      "min                                         3.799663   \n",
      "25%                                        12.592467   \n",
      "50%                                        14.942913   \n",
      "75%                                        17.123797   \n",
      "max                                        26.955944   \n",
      "\n",
      "        Mean years of education (galactic years)  \\\n",
      "count                                3502.000000   \n",
      "unique                                       NaN   \n",
      "top                                          NaN   \n",
      "freq                                         NaN   \n",
      "mean                                   10.283959   \n",
      "std                                     3.319948   \n",
      "min                                     1.928166   \n",
      "25%                                     7.654169   \n",
      "50%                                    10.385465   \n",
      "75%                                    12.884752   \n",
      "max                                    19.057648   \n",
      "\n",
      "        Intergalactic Development Index (IDI)  Education Index  ...  \\\n",
      "count                             3474.000000      3474.000000  ...   \n",
      "unique                                    NaN              NaN  ...   \n",
      "top                                       NaN              NaN  ...   \n",
      "freq                                      NaN              NaN  ...   \n",
      "mean                                 0.804246         0.745900  ...   \n",
      "std                                  0.176242         0.199795  ...   \n",
      "min                                  0.273684         0.189874  ...   \n",
      "25%                                  0.671862         0.597746  ...   \n",
      "50%                                  0.824758         0.761255  ...   \n",
      "75%                                  0.939043         0.893505  ...   \n",
      "max                                  1.232814         1.269625  ...   \n",
      "\n",
      "        Intergalactic Development Index (IDI), female  \\\n",
      "count                                      916.000000   \n",
      "unique                                            NaN   \n",
      "top                                               NaN   \n",
      "freq                                              NaN   \n",
      "mean                                         0.823561   \n",
      "std                                          0.185780   \n",
      "min                                          0.305733   \n",
      "25%                                          0.690707   \n",
      "50%                                          0.835410   \n",
      "75%                                          0.970365   \n",
      "max                                          1.237661   \n",
      "\n",
      "        Intergalactic Development Index (IDI), male  \\\n",
      "count                                    915.000000   \n",
      "unique                                          NaN   \n",
      "top                                             NaN   \n",
      "freq                                            NaN   \n",
      "mean                                       0.844209   \n",
      "std                                        0.159041   \n",
      "min                                        0.369519   \n",
      "25%                                        0.731264   \n",
      "50%                                        0.862773   \n",
      "75%                                        0.961369   \n",
      "max                                        1.182746   \n",
      "\n",
      "        Gender Development Index (GDI)  \\\n",
      "count                       914.000000   \n",
      "unique                             NaN   \n",
      "top                                NaN   \n",
      "freq                               NaN   \n",
      "mean                          1.008465   \n",
      "std                           0.087299   \n",
      "min                           0.465177   \n",
      "25%                           0.965800   \n",
      "50%                           1.029947   \n",
      "75%                           1.068481   \n",
      "max                           1.181230   \n",
      "\n",
      "        Intergalactic Development Index (IDI), female, Rank  \\\n",
      "count                                          893.000000     \n",
      "unique                                                NaN     \n",
      "top                                                   NaN     \n",
      "freq                                                  NaN     \n",
      "mean                                           121.754797     \n",
      "std                                             46.269362     \n",
      "min                                             23.224603     \n",
      "25%                                             84.090816     \n",
      "50%                                            120.069916     \n",
      "75%                                            158.579644     \n",
      "max                                            232.720847     \n",
      "\n",
      "        Intergalactic Development Index (IDI), male, Rank  \\\n",
      "count                                          892.000000   \n",
      "unique                                                NaN   \n",
      "top                                                   NaN   \n",
      "freq                                                  NaN   \n",
      "mean                                           120.873428   \n",
      "std                                             46.795666   \n",
      "min                                             16.215151   \n",
      "25%                                             82.232550   \n",
      "50%                                            121.057923   \n",
      "75%                                            157.815625   \n",
      "max                                            233.915373   \n",
      "\n",
      "        Adjusted net savings   \\\n",
      "count              912.000000   \n",
      "unique                    NaN   \n",
      "top                       NaN   \n",
      "freq                      NaN   \n",
      "mean                21.252922   \n",
      "std                 14.258986   \n",
      "min                -76.741414   \n",
      "25%                 15.001028   \n",
      "50%                 22.182571   \n",
      "75%                 29.134738   \n",
      "max                 61.903641   \n",
      "\n",
      "        Creature Immunodeficiency Disease prevalence, adult (% ages 15-49), total  \\\n",
      "count                                          941.000000                           \n",
      "unique                                                NaN                           \n",
      "top                                                   NaN                           \n",
      "freq                                                  NaN                           \n",
      "mean                                             6.443023                           \n",
      "std                                              4.804873                           \n",
      "min                                             -1.192011                           \n",
      "25%                                              4.113472                           \n",
      "50%                                              5.309497                           \n",
      "75%                                              6.814577                           \n",
      "max                                             36.538462                           \n",
      "\n",
      "        Private galaxy capital flows (% of GGP)  \\\n",
      "count                                874.000000   \n",
      "unique                                      NaN   \n",
      "top                                         NaN   \n",
      "freq                                        NaN   \n",
      "mean                                  22.261474   \n",
      "std                                   34.342797   \n",
      "min                                 -735.186886   \n",
      "25%                                   17.227899   \n",
      "50%                                   24.472557   \n",
      "75%                                   31.748295   \n",
      "max                                   95.941245   \n",
      "\n",
      "        Gender Inequality Index (GII)            y  \n",
      "count                      844.000000  3865.000000  \n",
      "unique                            NaN          NaN  \n",
      "top                               NaN          NaN  \n",
      "freq                              NaN          NaN  \n",
      "mean                         0.600733     0.082773  \n",
      "std                          0.205785     0.063415  \n",
      "min                          0.089092     0.013036  \n",
      "25%                          0.430332     0.047889  \n",
      "50%                          0.624640     0.057820  \n",
      "75%                          0.767404     0.087389  \n",
      "max                          1.098439     0.683813  \n",
      "\n",
      "[11 rows x 80 columns]\n"
     ]
    }
   ],
   "source": [
    "#to see the statistique of the training data\n",
    "print(train_data.describe(include=\"all\"))"
   ]
  },
  {
   "cell_type": "code",
   "execution_count": 9,
   "metadata": {},
   "outputs": [
    {
     "name": "stdout",
     "output_type": "stream",
     "text": [
      "Tucana Dwarf                                   26\n",
      "Andromeda XXIV                                 26\n",
      "Andromeda XII                                  26\n",
      "Andromeda XXII[57]                             26\n",
      "Andromeda XIX[60]                              26\n",
      "Canes Venatici II Dwarf                        25\n",
      "Leo IV Dwarf                                   25\n",
      "M32 (NGC 221)                                  25\n",
      "Andromeda VIII                                 25\n",
      "IC 10 (UGC 192)                                25\n",
      "Pisces IV (Andromeda XIV)                      25\n",
      "IC 1613 (UGC 668)                              25\n",
      "Andromeda XXIII                                25\n",
      "Pisces II                                      25\n",
      "Eridanus II                                    25\n",
      "Phoenix Dwarf Galaxy (P 6830)                  25\n",
      "Boötes IV                                      25\n",
      "Andromeda XV                                   25\n",
      "Cetus Dwarf                                    25\n",
      "Triangulum Galaxy (M33)                        25\n",
      "Andromeda XX                                   25\n",
      "Pisces V (Andromeda XVI)                       25\n",
      "Pegasus III                                    25\n",
      "Cetus III                                      25\n",
      "NGC 147 (DDO 3)                                25\n",
      "Pisces Dwarf                                   25\n",
      "Cassiopeia III (Andromeda XXXII)               25\n",
      "Pegasus Dwarf Sph (And VI)                     25\n",
      "Andromeda XXV                                  25\n",
      "Andromeda XXVIII                               25\n",
      "                                               ..\n",
      "Andromeda I                                    18\n",
      "Leo A (Leo III, DDO 69)                        18\n",
      "Cassiopeia Dwarf (Cas dSph, Andromeda VII)     18\n",
      "M110 (NGC 205)                                 18\n",
      "Leo II Dwarf (Leo B, DDO 93)                   18\n",
      "Andromeda III                                  18\n",
      "Leo I Dwarf (DDO 74, UGC 5470)                 18\n",
      "Andromeda IX                                   18\n",
      "Fornax Dwarf (E356-G04)                        18\n",
      "Andromeda XVII                                 18\n",
      "NGC 185                                        18\n",
      "Andromeda XXVI                                 18\n",
      "Cassiopeia II (Andromeda XXX)                  18\n",
      "Canes Venatici I Dwarf                         18\n",
      "Columba I                                      18\n",
      "Andromeda XXIX                                 18\n",
      "Andromeda V                                    18\n",
      "Hydra II                                       18\n",
      "Pisces III (Andromeda XIII)                    18\n",
      "Perseus I (Andromeda XXXIII)                   18\n",
      "Lacerta I (Andromeda XXXI)                     18\n",
      "Andromeda XI                                   18\n",
      "Andromeda Galaxy (M31)                         18\n",
      "Andromeda XXI[57]                              17\n",
      "Aquarius Dwarf Galaxy (DDO 210)                17\n",
      "Andromeda X                                    17\n",
      "Pegasus Dwarf Irregular (DDO 216)              17\n",
      "Wolf-Lundmark-Melotte (WLM, DDO 221)           17\n",
      "Sagittarius Dwarf Irregular Galaxy (SagDIG)    17\n",
      "NGC 5253                                        1\n",
      "Name: galaxy, Length: 181, dtype: int64\n"
     ]
    }
   ],
   "source": [
    "#galaxy is the only qualitative variable, so we see\n",
    "print(train_data.galaxy.value_counts())"
   ]
  },
  {
   "cell_type": "code",
   "execution_count": 10,
   "metadata": {},
   "outputs": [
    {
     "name": "stdout",
     "output_type": "stream",
     "text": [
      "   galactic year                        galaxy  existence expectancy index  \\\n",
      "0         990025  Large Magellanic Cloud (LMC)                    0.628657   \n",
      "1         990025              Camelopardalis B                    0.818082   \n",
      "2         990025                       Virgo I                    0.659443   \n",
      "3         990025            UGC 8651 (DDO 181)                    0.555862   \n",
      "4         990025                  Tucana Dwarf                    0.991196   \n",
      "\n",
      "   existence expectancy at birth  Gross income per capita  Income Index  \\\n",
      "0                      63.125200             27109.234310      0.646039   \n",
      "1                      81.004994             30166.793958      0.852246   \n",
      "2                      59.570534              8441.707353      0.499762   \n",
      "3                      52.333293                      NaN           NaN   \n",
      "4                      81.802464             81033.956906      1.131163   \n",
      "\n",
      "   Expected years of education (galactic years)  \\\n",
      "0                                      8.240543   \n",
      "1                                     10.671823   \n",
      "2                                      8.840316   \n",
      "3                                           NaN   \n",
      "4                                     13.800672   \n",
      "\n",
      "   Mean years of education (galactic years)  \\\n",
      "0                                       NaN   \n",
      "1                                  4.742470   \n",
      "2                                  5.583973   \n",
      "3                                       NaN   \n",
      "4                                 13.188907   \n",
      "\n",
      "   Intergalactic Development Index (IDI)  Education Index  ...  \\\n",
      "0                                    NaN              NaN  ...   \n",
      "1                               0.833624         0.467873  ...   \n",
      "2                               0.469110         0.363837  ...   \n",
      "3                                    NaN              NaN  ...   \n",
      "4                               0.910341         0.918353  ...   \n",
      "\n",
      "   Intergalactic Development Index (IDI), female  \\\n",
      "0                                            NaN   \n",
      "1                                            NaN   \n",
      "2                                            NaN   \n",
      "3                                            NaN   \n",
      "4                                            NaN   \n",
      "\n",
      "   Intergalactic Development Index (IDI), male  \\\n",
      "0                                          NaN   \n",
      "1                                          NaN   \n",
      "2                                          NaN   \n",
      "3                                          NaN   \n",
      "4                                          NaN   \n",
      "\n",
      "   Gender Development Index (GDI)  \\\n",
      "0                             NaN   \n",
      "1                             NaN   \n",
      "2                             NaN   \n",
      "3                             NaN   \n",
      "4                             NaN   \n",
      "\n",
      "   Intergalactic Development Index (IDI), female, Rank  \\\n",
      "0                                                NaN     \n",
      "1                                                NaN     \n",
      "2                                                NaN     \n",
      "3                                                NaN     \n",
      "4                                                NaN     \n",
      "\n",
      "   Intergalactic Development Index (IDI), male, Rank  Adjusted net savings   \\\n",
      "0                                                NaN                    NaN   \n",
      "1                                                NaN              19.177926   \n",
      "2                                                NaN              21.151265   \n",
      "3                                                NaN                    NaN   \n",
      "4                                                NaN                    NaN   \n",
      "\n",
      "   Creature Immunodeficiency Disease prevalence, adult (% ages 15-49), total  \\\n",
      "0                                                NaN                           \n",
      "1                                                NaN                           \n",
      "2                                           6.534020                           \n",
      "3                                           5.912194                           \n",
      "4                                           5.611753                           \n",
      "\n",
      "   Private galaxy capital flows (% of GGP)  Gender Inequality Index (GII)  \\\n",
      "0                                      NaN                            NaN   \n",
      "1                                22.785018                            NaN   \n",
      "2                                      NaN                            NaN   \n",
      "3                                      NaN                            NaN   \n",
      "4                                      NaN                            NaN   \n",
      "\n",
      "          y  \n",
      "0  0.052590  \n",
      "1  0.059868  \n",
      "2  0.050449  \n",
      "3  0.049394  \n",
      "4  0.154247  \n",
      "\n",
      "[5 rows x 80 columns]\n"
     ]
    }
   ],
   "source": [
    "#Print the first lines for to see the caracteristic of training data and differents columns\n",
    "print(train_data.head())"
   ]
  },
  {
   "cell_type": "code",
   "execution_count": 11,
   "metadata": {},
   "outputs": [
    {
     "name": "stdout",
     "output_type": "stream",
     "text": [
      "        galactic year       galaxy  existence expectancy index  \\\n",
      "count    8.900000e+02          890                  885.000000   \n",
      "unique            NaN          172                         NaN   \n",
      "top               NaN  Andromeda X                         NaN   \n",
      "freq              NaN           10                         NaN   \n",
      "mean     1.011498e+06          NaN                    0.923881   \n",
      "std      2.881505e+03          NaN                    0.134856   \n",
      "min      1.007012e+06          NaN                    0.456086   \n",
      "25%      1.009020e+06          NaN                    0.834118   \n",
      "50%      1.011030e+06          NaN                    0.944683   \n",
      "75%      1.014049e+06          NaN                    1.022712   \n",
      "max      1.016064e+06          NaN                    1.250508   \n",
      "\n",
      "        existence expectancy at birth  Gross income per capita  Income Index  \\\n",
      "count                      885.000000               885.000000    885.000000   \n",
      "unique                            NaN                      NaN           NaN   \n",
      "top                               NaN                      NaN           NaN   \n",
      "freq                              NaN                      NaN           NaN   \n",
      "mean                        79.938370             33655.513114      0.856869   \n",
      "std                          9.051945             18940.572797      0.186299   \n",
      "min                         51.562543               734.072777      0.357646   \n",
      "25%                         73.863054             21276.527313      0.710236   \n",
      "50%                         81.471317             28264.476530      0.868819   \n",
      "75%                         86.426984             41130.714108      0.997650   \n",
      "max                        100.427653            134989.054424      1.307948   \n",
      "\n",
      "        Expected years of education (galactic years)  \\\n",
      "count                                     885.000000   \n",
      "unique                                           NaN   \n",
      "top                                              NaN   \n",
      "freq                                             NaN   \n",
      "mean                                       16.037675   \n",
      "std                                         3.170799   \n",
      "min                                         6.902194   \n",
      "25%                                        13.711596   \n",
      "50%                                        16.269818   \n",
      "75%                                        18.272034   \n",
      "max                                        24.802112   \n",
      "\n",
      "        Mean years of education (galactic years)  \\\n",
      "count                                 882.000000   \n",
      "unique                                       NaN   \n",
      "top                                          NaN   \n",
      "freq                                         NaN   \n",
      "mean                                   11.229365   \n",
      "std                                     3.333436   \n",
      "min                                     3.224037   \n",
      "25%                                     8.634776   \n",
      "50%                                    11.274397   \n",
      "75%                                    14.067355   \n",
      "max                                    18.426796   \n",
      "\n",
      "        Intergalactic Development Index (IDI)  Education Index  ...  \\\n",
      "count                              882.000000       882.000000  ...   \n",
      "unique                                    NaN              NaN  ...   \n",
      "top                                       NaN              NaN  ...   \n",
      "freq                                      NaN              NaN  ...   \n",
      "mean                                 0.845626         0.801581  ...   \n",
      "std                                  0.164942         0.192220  ...   \n",
      "min                                  0.452401         0.268006  ...   \n",
      "25%                                  0.711922         0.648948  ...   \n",
      "50%                                  0.863623         0.817313  ...   \n",
      "75%                                  0.977608         0.953022  ...   \n",
      "max                                  1.198469         1.188590  ...   \n",
      "\n",
      "        Current health expenditure (% of GGP)  \\\n",
      "count                              606.000000   \n",
      "unique                                    NaN   \n",
      "top                                       NaN   \n",
      "freq                                      NaN   \n",
      "mean                                 8.936240   \n",
      "std                                  2.610288   \n",
      "min                                  2.820374   \n",
      "25%                                  7.037902   \n",
      "50%                                  8.685332   \n",
      "75%                                 10.769263   \n",
      "max                                 18.683942   \n",
      "\n",
      "        Intergalactic Development Index (IDI), female  \\\n",
      "count                                      560.000000   \n",
      "unique                                            NaN   \n",
      "top                                               NaN   \n",
      "freq                                              NaN   \n",
      "mean                                         0.848007   \n",
      "std                                          0.185827   \n",
      "min                                          0.180104   \n",
      "25%                                          0.711255   \n",
      "50%                                          0.879984   \n",
      "75%                                          0.995167   \n",
      "max                                          1.220746   \n",
      "\n",
      "        Intergalactic Development Index (IDI), male  \\\n",
      "count                                    560.000000   \n",
      "unique                                          NaN   \n",
      "top                                             NaN   \n",
      "freq                                            NaN   \n",
      "mean                                       0.862777   \n",
      "std                                        0.151898   \n",
      "min                                        0.491085   \n",
      "25%                                        0.739310   \n",
      "50%                                        0.888459   \n",
      "75%                                        0.976561   \n",
      "max                                        1.185086   \n",
      "\n",
      "        Gender Development Index (GDI)  \\\n",
      "count                       560.000000   \n",
      "unique                             NaN   \n",
      "top                                NaN   \n",
      "freq                               NaN   \n",
      "mean                          1.015743   \n",
      "std                           0.100165   \n",
      "min                           0.319004   \n",
      "25%                           0.970260   \n",
      "50%                           1.039880   \n",
      "75%                           1.079805   \n",
      "max                           1.171331   \n",
      "\n",
      "        Intergalactic Development Index (IDI), female, Rank  \\\n",
      "count                                          549.000000     \n",
      "unique                                                NaN     \n",
      "top                                                   NaN     \n",
      "freq                                                  NaN     \n",
      "mean                                           128.712080     \n",
      "std                                             48.871212     \n",
      "min                                              6.740082     \n",
      "25%                                             88.348928     \n",
      "50%                                            129.450600     \n",
      "75%                                            169.529106     \n",
      "max                                            234.055255     \n",
      "\n",
      "        Intergalactic Development Index (IDI), male, Rank  \\\n",
      "count                                          549.000000   \n",
      "unique                                                NaN   \n",
      "top                                                   NaN   \n",
      "freq                                                  NaN   \n",
      "mean                                           128.635268   \n",
      "std                                             48.684267   \n",
      "min                                             18.526901   \n",
      "25%                                             90.098284   \n",
      "50%                                            130.491213   \n",
      "75%                                            168.104504   \n",
      "max                                            237.382202   \n",
      "\n",
      "        Adjusted net savings   \\\n",
      "count              519.000000   \n",
      "unique                    NaN   \n",
      "top                       NaN   \n",
      "freq                      NaN   \n",
      "mean                20.640391   \n",
      "std                 15.365777   \n",
      "min                -62.918138   \n",
      "25%                 14.394432   \n",
      "50%                 21.599869   \n",
      "75%                 28.811899   \n",
      "max                 62.944910   \n",
      "\n",
      "        Creature Immunodeficiency Disease prevalence, adult (% ages 15-49), total  \\\n",
      "count                                          482.000000                           \n",
      "unique                                                NaN                           \n",
      "top                                                   NaN                           \n",
      "freq                                                  NaN                           \n",
      "mean                                             6.036133                           \n",
      "std                                              4.157453                           \n",
      "min                                             -0.455652                           \n",
      "25%                                              4.075216                           \n",
      "50%                                              5.185122                           \n",
      "75%                                              6.601704                           \n",
      "max                                             31.487193                           \n",
      "\n",
      "        Private galaxy capital flows (% of GGP)  Gender Inequality Index (GII)  \n",
      "count                                536.000000                     529.000000  \n",
      "unique                                      NaN                            NaN  \n",
      "top                                         NaN                            NaN  \n",
      "freq                                        NaN                            NaN  \n",
      "mean                                  23.274262                       0.563059  \n",
      "std                                   13.787944                       0.203167  \n",
      "min                                  -74.254897                       0.139063  \n",
      "25%                                   16.943013                       0.380811  \n",
      "50%                                   23.714018                       0.569413  \n",
      "75%                                   30.746076                       0.733748  \n",
      "max                                   66.751764                       1.088255  \n",
      "\n",
      "[11 rows x 79 columns]\n"
     ]
    }
   ],
   "source": [
    "#to see the statistique of the testing data\n",
    "print(test_data.describe(include=\"all\"))"
   ]
  },
  {
   "cell_type": "code",
   "execution_count": 12,
   "metadata": {},
   "outputs": [
    {
     "name": "stdout",
     "output_type": "stream",
     "text": [
      "   galactic year         galaxy  existence expectancy index  \\\n",
      "0        1007012        KK98 77                    0.456086   \n",
      "1        1007012  Reticulum III                    0.529835   \n",
      "2        1008016  Reticulum III                    0.560976   \n",
      "3        1007012        Segue 1                    0.565910   \n",
      "4        1013042        Virgo I                    0.588274   \n",
      "\n",
      "   existence expectancy at birth  Gross income per capita  Income Index  \\\n",
      "0                      51.562543             12236.576447      0.593325   \n",
      "1                      57.228262              3431.883825      0.675407   \n",
      "2                      59.379539             27562.914252      0.594624   \n",
      "3                      59.952390             20352.232905      0.837700   \n",
      "4                      55.428320             23959.704016      0.520579   \n",
      "\n",
      "   Expected years of education (galactic years)  \\\n",
      "0                                     10.414164   \n",
      "1                                      7.239485   \n",
      "2                                     11.774890   \n",
      "3                                     11.613621   \n",
      "4                                     10.392416   \n",
      "\n",
      "   Mean years of education (galactic years)  \\\n",
      "0                                 10.699072   \n",
      "1                                  5.311122   \n",
      "2                                  5.937797   \n",
      "3                                 10.067882   \n",
      "4                                  6.374637   \n",
      "\n",
      "   Intergalactic Development Index (IDI)  Education Index  ...  \\\n",
      "0                               0.547114         0.556267  ...   \n",
      "1                               0.497688         0.409969  ...   \n",
      "2                               0.544744         0.486167  ...   \n",
      "3                               0.691641         0.523441  ...   \n",
      "4                               0.530676         0.580418  ...   \n",
      "\n",
      "   Current health expenditure (% of GGP)  \\\n",
      "0                                    NaN   \n",
      "1                                    NaN   \n",
      "2                                    NaN   \n",
      "3                                    NaN   \n",
      "4                               7.357729   \n",
      "\n",
      "   Intergalactic Development Index (IDI), female  \\\n",
      "0                                            NaN   \n",
      "1                                            NaN   \n",
      "2                                            NaN   \n",
      "3                                            NaN   \n",
      "4                                       0.583373   \n",
      "\n",
      "   Intergalactic Development Index (IDI), male  \\\n",
      "0                                          NaN   \n",
      "1                                          NaN   \n",
      "2                                          NaN   \n",
      "3                                          NaN   \n",
      "4                                     0.600445   \n",
      "\n",
      "   Gender Development Index (GDI)  \\\n",
      "0                             NaN   \n",
      "1                             NaN   \n",
      "2                             NaN   \n",
      "3                             NaN   \n",
      "4                        0.856158   \n",
      "\n",
      "   Intergalactic Development Index (IDI), female, Rank  \\\n",
      "0                                                NaN     \n",
      "1                                                NaN     \n",
      "2                                                NaN     \n",
      "3                                                NaN     \n",
      "4                                         206.674424     \n",
      "\n",
      "   Intergalactic Development Index (IDI), male, Rank  Adjusted net savings   \\\n",
      "0                                                NaN                    NaN   \n",
      "1                                                NaN                    NaN   \n",
      "2                                                NaN                    NaN   \n",
      "3                                                NaN                    NaN   \n",
      "4                                         224.104054                    NaN   \n",
      "\n",
      "   Creature Immunodeficiency Disease prevalence, adult (% ages 15-49), total  \\\n",
      "0                                                NaN                           \n",
      "1                                                NaN                           \n",
      "2                                                NaN                           \n",
      "3                                                NaN                           \n",
      "4                                           7.687626                           \n",
      "\n",
      "   Private galaxy capital flows (% of GGP)  Gender Inequality Index (GII)  \n",
      "0                                      NaN                            NaN  \n",
      "1                                      NaN                            NaN  \n",
      "2                                      NaN                            NaN  \n",
      "3                                      NaN                            NaN  \n",
      "4                                      NaN                            NaN  \n",
      "\n",
      "[5 rows x 79 columns]\n"
     ]
    }
   ],
   "source": [
    "#Print the first lines for to see the caracteristic of testing data and differents columns\n",
    "print(test_data.head())"
   ]
  },
  {
   "cell_type": "markdown",
   "metadata": {},
   "source": [
    "## TO DETERMINATE THE NUMBER AND THE PERCENTAGE OF THE MISSING VALUES FOR EACH COLUMNS \n",
    "\n",
    "1-- We use the isnull function to determine the missing values in the columns\n",
    "\n",
    "2--We have created the list dolonne_a_supprimer which contains the list of columns to delete during preprocessing. These columns correspond to the column for which the percentage of missing data is greater than 15%\n",
    "\n",
    "3--The column contains the data used for the training of our models"
   ]
  },
  {
   "cell_type": "code",
   "execution_count": 13,
   "metadata": {},
   "outputs": [
    {
     "name": "stdout",
     "output_type": "stream",
     "text": [
      "galactic year  =  0  =  0.0 %train\n",
      "galaxy  =  0  =  0.0 %train\n",
      "existence expectancy index  =  1  =  0.0258732212160414 %train\n",
      "existence expectancy at birth  =  1  =  0.0258732212160414 %train\n",
      "Gross income per capita  =  28  =  0.7244501940491591 %train\n",
      "Income Index  =  28  =  0.7244501940491591 %train\n",
      "Expected years of education (galactic years)  =  133  =  3.4411384217335055 %train\n",
      "Mean years of education (galactic years)  =  363  =  9.391979301423028 %train\n",
      "Intergalactic Development Index (IDI)  =  391  =  10.116429495472186 %train\n",
      "Education Index  =  391  =  10.116429495472186 %train\n",
      "Intergalactic Development Index (IDI), Rank  =  433  =  11.203104786545925 %train\n",
      "Population using at least basic drinking-water services (%)  =  1844  =  47.71021992238034 %train\n",
      "Population using at least basic sanitation services (%)  =  1850  =  47.86545924967658 %train\n",
      "Gross capital formation (% of GGP)  =  2363  =  61.13842173350582 %train\n",
      "Population, total (millions)  =  2594  =  67.11513583441139 %train\n",
      "Population, urban (%)  =  2594  =  67.11513583441139 %train\n",
      "Mortality rate, under-five (per 1,000 live births)  =  2594  =  67.11513583441139 %train\n",
      "Mortality rate, infant (per 1,000 live births)  =  2606  =  67.42561448900388 %train\n",
      "Old age dependency ratio (old age (65 and older) per 100 creatures (ages 15-64))  =  2601  =  67.29624838292368 %train\n",
      "Population, ages 15–64 (millions)  =  2601  =  67.29624838292368 %train\n",
      "Population, ages 65 and older (millions)  =  2601  =  67.29624838292368 %train\n",
      "Life expectancy at birth, male (galactic years)  =  2601  =  67.29624838292368 %train\n",
      "Life expectancy at birth, female (galactic years)  =  2601  =  67.29624838292368 %train\n",
      "Population, under age 5 (millions)  =  2601  =  67.29624838292368 %train\n",
      "Young age (0-14) dependency ratio (per 100 creatures ages 15-64)  =  2601  =  67.29624838292368 %train\n",
      "Adolescent birth rate (births per 1,000 female creatures ages 15-19)  =  2613  =  67.60672703751617 %train\n",
      "Total unemployment rate (female to male ratio)  =  2628  =  67.99482535575679 %train\n",
      "Vulnerable employment (% of total employment)  =  2628  =  67.99482535575679 %train\n",
      "Unemployment, total (% of labour force)  =  2628  =  67.99482535575679 %train\n",
      "Employment in agriculture (% of total employment)  =  2628  =  67.99482535575679 %train\n",
      "Labour force participation rate (% ages 15 and older)  =  2628  =  67.99482535575679 %train\n",
      "Labour force participation rate (% ages 15 and older), female  =  2628  =  67.99482535575679 %train\n",
      "Employment in services (% of total employment)  =  2628  =  67.99482535575679 %train\n",
      "Labour force participation rate (% ages 15 and older), male  =  2628  =  67.99482535575679 %train\n",
      "Employment to population ratio (% ages 15 and older)  =  2628  =  67.99482535575679 %train\n",
      "Jungle area (% of total land area)  =  2631  =  68.07244501940491 %train\n",
      "Share of employment in nonagriculture, female (% of total employment in nonagriculture)  =  2628  =  67.99482535575679 %train\n",
      "Youth unemployment rate (female to male ratio)  =  2629  =  68.02069857697283 %train\n",
      "Unemployment, youth (% ages 15–24)  =  2629  =  68.02069857697283 %train\n",
      "Mortality rate, female grown up (per 1,000 people)  =  2612  =  67.58085381630013 %train\n",
      "Mortality rate, male grown up (per 1,000 people)  =  2612  =  67.58085381630013 %train\n",
      "Infants lacking immunization, red hot disease (% of one-galactic year-olds)  =  2646  =  68.46054333764555 %train\n",
      "Infants lacking immunization, Combination Vaccine (% of one-galactic year-olds)  =  2646  =  68.46054333764555 %train\n",
      "Gross galactic product (GGP) per capita  =  2663  =  68.90038809831825 %train\n",
      "Gross galactic product (GGP), total  =  2663  =  68.90038809831825 %train\n",
      "Outer Galaxies direct investment, net inflows (% of GGP)  =  2696  =  69.75420439844761 %train\n",
      "Exports and imports (% of GGP)  =  2721  =  70.40103492884865 %train\n",
      "Share of seats in senate (% held by female)  =  2742  =  70.94437257438551 %train\n",
      "Natural resource depletion  =  2733  =  70.71151358344115 %train\n",
      "Mean years of education, female (galactic years)  =  2725  =  70.5045278137128 %train\n",
      "Mean years of education, male (galactic years)  =  2727  =  70.55627425614489 %train\n",
      "Expected years of education, female (galactic years)  =  2756  =  71.30659767141009 %train\n",
      "Expected years of education, male (galactic years)  =  2757  =  71.33247089262613 %train\n",
      "Maternal mortality ratio (deaths per 100,000 live births)  =  2613  =  67.60672703751617 %train\n",
      "Renewable energy consumption (% of total final energy consumption)  =  2630  =  68.04657179818886 %train\n",
      "Estimated gross galactic income per capita, male  =  2810  =  72.70375161707634 %train\n",
      "Estimated gross galactic income per capita, female  =  2810  =  72.70375161707634 %train\n",
      "Rural population with access to electricity (%)  =  2836  =  73.3764553686934 %train\n",
      "Domestic credit provided by financial sector (% of GGP)  =  2786  =  72.08279430789133 %train\n",
      "Population with at least some secondary education, female (% ages 25 and older)  =  2776  =  71.82406209573092 %train\n",
      "Population with at least some secondary education, male (% ages 25 and older)  =  2778  =  71.875808538163 %train\n",
      "Gross fixed capital formation (% of GGP)  =  2791  =  72.21216041397153 %train\n",
      "Remittances, inflows (% of GGP)  =  2837  =  73.40232858990944 %train\n",
      "Population with at least some secondary education (% ages 25 and older)  =  2814  =  72.80724450194049 %train\n",
      "Intergalactic inbound tourists (thousands)  =  2870  =  74.25614489003881 %train\n",
      "Gross enrolment ratio, primary (% of primary under-age population)  =  2827  =  73.14359637774903 %train\n",
      "Respiratory disease incidence (per 100,000 people)  =  2969  =  76.81759379042691 %train\n",
      "Interstellar phone subscriptions (per 100 people)  =  2974  =  76.94695989650711 %train\n",
      "Interstellar Data Net users, total (% of population)  =  2993  =  77.4385510996119 %train\n",
      "Current health expenditure (% of GGP)  =  2998  =  77.56791720569211 %train\n",
      "Intergalactic Development Index (IDI), female  =  2949  =  76.30012936610609 %train\n",
      "Intergalactic Development Index (IDI), male  =  2950  =  76.32600258732212 %train\n",
      "Gender Development Index (GDI)  =  2951  =  76.35187580853817 %train\n",
      "Intergalactic Development Index (IDI), female, Rank  =  2972  =  76.89521345407503 %train\n",
      "Intergalactic Development Index (IDI), male, Rank  =  2973  =  76.92108667529108 %train\n",
      "Adjusted net savings   =  2953  =  76.40362225097024 %train\n",
      "Creature Immunodeficiency Disease prevalence, adult (% ages 15-49), total  =  2924  =  75.65329883570504 %train\n",
      "Private galaxy capital flows (% of GGP)  =  2991  =  77.38680465717982 %train\n",
      "Gender Inequality Index (GII)  =  3021  =  78.16300129366105 %train\n",
      "y  =  0  =  0.0 %train\n"
     ]
    }
   ],
   "source": [
    "#we visualize the number of missing data for each column for training data\n",
    "#We create a list \"column_to_delete\"\n",
    "#we create a list \"column_uses_for_the_training\"\n",
    "column_training_data=train_data.columns\n",
    "column_to_delete=[]\n",
    "column_uses_for_the_training=[]\n",
    "\n",
    "for i in range(80):\n",
    "    percentage=100*(train_data[train_data[column_training_data[i]].isnull()].shape[0]/train_data.shape[0])\n",
    "    if(percentage >= 15):\n",
    "        column_to_delete.append(column_training_data[i])\n",
    "    else:\n",
    "        column_uses_for_the_training.append(column_training_data[i])\n",
    "    print(column_training_data[i],\" = \", train_data[train_data[column_training_data[i]].isnull()].shape[0],\" = \",percentage,\"%train\")\n",
    "    \n",
    "del column_uses_for_the_training[-1]"
   ]
  },
  {
   "cell_type": "code",
   "execution_count": 14,
   "metadata": {},
   "outputs": [
    {
     "name": "stdout",
     "output_type": "stream",
     "text": [
      "Number of missing data  galactic year  =  0  =  0.0 %test\n",
      "Number of missing data  galaxy  =  0  =  0.0 %test\n",
      "Number of missing data  existence expectancy index  =  5  =  0.5617977528089888 %test\n",
      "Number of missing data  existence expectancy at birth  =  5  =  0.5617977528089888 %test\n",
      "Number of missing data  Gross income per capita  =  5  =  0.5617977528089888 %test\n",
      "Number of missing data  Income Index  =  5  =  0.5617977528089888 %test\n",
      "Number of missing data  Expected years of education (galactic years)  =  5  =  0.5617977528089888 %test\n",
      "Number of missing data  Mean years of education (galactic years)  =  8  =  0.8988764044943821 %test\n",
      "Number of missing data  Intergalactic Development Index (IDI)  =  8  =  0.8988764044943821 %test\n",
      "Number of missing data  Education Index  =  8  =  0.8988764044943821 %test\n",
      "Number of missing data  Intergalactic Development Index (IDI), Rank  =  10  =  1.1235955056179776 %test\n"
     ]
    }
   ],
   "source": [
    "#We can see here the percentage of missing rows in the test data on the columns that we want to keep for our analysis\n",
    "column_testing_data=test_data.columns\n",
    "for i in range(79):\n",
    "    if((column_testing_data[i] in column_to_delete)==False ):\n",
    "        print(\"Number of missing data \",column_testing_data[i],\" = \", test_data[test_data[column_testing_data[i]].isnull()].shape[0],\" = \",100*(test_data[test_data[column_testing_data[i]].isnull()].shape[0]/890),\"%test\")"
   ]
  },
  {
   "cell_type": "markdown",
   "metadata": {},
   "source": [
    "# <center> PREPROCESSING DATA  </center>#\n",
    "\n",
    "1--This function takes as argument a pandas dataframe containing our data in csv file and does the necessary preprocessing by returning an array numpy which will be used by our classification algorithms. To do this function, do the following processing.\n",
    "\n",
    "2--No line in the dataframe is deleted: therefore the number of input lines is equal to the number of output lines\n",
    "\n",
    "3--We remove all columns with a percentage of missing data in the training data greater than 15%.\n",
    "\n",
    "4--We have transformed the qualitative variables galaxy into quantitative variable by encoding and after we have deleted the galaxy column\n",
    "\n",
    "5--In the remaining columns, we replaced the missing data with the median value of the column.\n",
    "\n",
    "6--We have transformed the panda datafram into a numpy array that our preprocessing function will return for\n",
    "\n",
    "7--The returned numpy array will be used to train our models.\n",
    "\n",
    "8--We must provide our processing function with a dataframe that does not include the index to predict: therefore a dataframe of 79 columns\n",
    "\n",
    "9--At the end, we will return a numpy array with 11 columns"
   ]
  },
  {
   "cell_type": "code",
   "execution_count": 15,
   "metadata": {},
   "outputs": [],
   "source": [
    "#we build the dictionnary that we will use for encoding the categoricial variable galaxy\n",
    "galaxy_categoricial=train_data.galaxy.value_counts()\n",
    "dictionnary_for_encoding_galaxy={}\n",
    "i=0;\n",
    "for cle in galaxy_categoricial.keys() :\n",
    "    i=i+1\n",
    "    dictionnary_for_encoding_galaxy[cle]=i"
   ]
  },
  {
   "cell_type": "code",
   "execution_count": 16,
   "metadata": {},
   "outputs": [],
   "source": [
    "def Feature_Engineering_version_1(data):\n",
    "    \"\"\"We use this function to do the preprocessing of the datas\"\"\"\n",
    "    \n",
    "    #We delete all columns where the number of rows with missing data is greater than 15%\n",
    "    #For this we use the list column_to_delete that we have created in\n",
    "    column_data=data.columns\n",
    "    nb_lines_data=data.shape[0]\n",
    "    for i in range(79):\n",
    "        if(column_data[i] in column_to_delete):\n",
    "            del data[column_data[i]]    \n",
    "    \n",
    "    #We transforme the categorial variable galaxy in integer\n",
    "    wassa=[]\n",
    "    for i in range(nb_lines_data):\n",
    "        wassa.append(dictionnary_for_encoding_galaxy[data.galaxy[i]])\n",
    "    data[\"galaxy_encoding\"]=wassa\n",
    "    \n",
    "    #delete the catagoricial not necessary variable\n",
    "    del data[\"galaxy\"]\n",
    "    \n",
    "    #we transform the galaxy in galaxy_encoding in this list\n",
    "    column_uses_for_the_training[1]=\"galaxy_encoding\"\n",
    "    \n",
    "    #Here we take care of the outlier\n",
    "\n",
    "    \n",
    "    #Here we replace all missing data by the median value or the next data\n",
    "    data=data.fillna(data.median())\n",
    "    \n",
    "    #transforme dataframe in array numpy\n",
    "    Array_data=data.values\n",
    "    \n",
    "    return Array_data"
   ]
  },
  {
   "cell_type": "code",
   "execution_count": null,
   "metadata": {},
   "outputs": [],
   "source": []
  },
  {
   "cell_type": "code",
   "execution_count": 17,
   "metadata": {},
   "outputs": [],
   "source": [
    "def Feature_Engineering_version_2(data):\n",
    "    \"\"\"We use this function to do the preprocessing of the datas\"\"\"\n",
    "    ###############################################################################################################\n",
    "    #--------------------------------------------------------------------------------------------------------------\n",
    "    #test submission\n",
    "    test_data=pd.read_csv(\"DATA/test.csv\")\n",
    "    train_data=pd.read_csv(\"DATA/train.csv\")\n",
    "    #--------------------------------------------------------------------------------------------------------------    \n",
    "    #Add the columns training data of preprocessing in the data\n",
    "    TEST_A_0=pd.get_dummies(train_data.galaxy)\n",
    "    TEST_A_COLUMNS_0=TEST_A_0.columns\n",
    "    for INDEX in TEST_A_COLUMNS_0:\n",
    "        data[INDEX]=TEST_A_0[INDEX]*0\n",
    "        \n",
    "    #Add the columns training data of preprocessing in the data\n",
    "    TEST_B_0=pd.get_dummies(train_data[\"galactic year\"])\n",
    "    TEST_B_COLUMNS_0=TEST_B_0.columns\n",
    "    for INDEX_1 in TEST_B_COLUMNS_0:\n",
    "        data[INDEX_1]=TEST_B_0[INDEX_1]*0\n",
    "    #--------------------------------------------------------------------------------------------------------------\n",
    "    #Add the columns testing of preprocessing in the data\n",
    "    TEST_A_0=pd.get_dummies(test_data.galaxy)\n",
    "    TEST_A_COLUMNS_0=TEST_A_0.columns\n",
    "    for INDEX in TEST_A_COLUMNS_0:\n",
    "        data[INDEX]=TEST_A_0[INDEX]*0\n",
    "    \n",
    "    #Add the columns testing data of preprocessing in the data\n",
    "    TEST_B_0=pd.get_dummies(test_data[\"galactic year\"])\n",
    "    TEST_B_COLUMNS_0=TEST_B_0.columns\n",
    "    for INDEX_1 in TEST_B_COLUMNS_0:\n",
    "        data[INDEX_1]=TEST_B_0[INDEX_1]*0\n",
    "    #--------------------------------------------------------------------------------------------------------------\n",
    "    #we transforme the categorial variable galaxy in integer\n",
    "    TEST_A=pd.get_dummies(data.galaxy)\n",
    "    TEST_A_COLUMNS=TEST_A.columns\n",
    "    for INDEX in TEST_A_COLUMNS:\n",
    "        data[INDEX]=TEST_A[INDEX]\n",
    "    \n",
    "    TEST_B=pd.get_dummies(data[\"galactic year\"])\n",
    "    TEST_B_COLUMNS=TEST_B.columns\n",
    "    for INDEX_1 in TEST_B_COLUMNS:\n",
    "        data[INDEX_1]=TEST_B[INDEX_1]\n",
    "    #--------------------------------------------------------------------------------------------------------------\n",
    "    ###############################################################################################################\n",
    "    #delete the catagoricial not necessary variable\n",
    "    del data[\"galaxy\"]\n",
    "    #del data[\"galactic year\"]\n",
    "    \n",
    "    #we transform the galaxy in galaxy_encoding in this list\n",
    "    column_uses_for_the_training[1]=\"galaxy_encoding\"\n",
    "    \n",
    "    #Here we take care of the outlier\n",
    "\n",
    "    \n",
    "    #Here we replace all missing data by the median value or the next data\n",
    "    data=data.fillna(data.median())\n",
    "    \n",
    "    #transforme dataframe in array numpy\n",
    "    Array_data=data.values\n",
    "    \n",
    "    return Array_data"
   ]
  },
  {
   "cell_type": "code",
   "execution_count": null,
   "metadata": {},
   "outputs": [],
   "source": []
  },
  {
   "cell_type": "code",
   "execution_count": 18,
   "metadata": {},
   "outputs": [],
   "source": [
    "def Feature_Engineering_version_3(data):\n",
    "    \"\"\"We use this function to do the preprocessing of the datas\"\"\"\n",
    "    ###############################################################################################################\n",
    "    #--------------------------------------------------------------------------------------------------------------\n",
    "    #test submission\n",
    "    test_data=pd.read_csv(\"DATA/test.csv\")\n",
    "    train_data=pd.read_csv(\"DATA/train.csv\")\n",
    "    #--------------------------------------------------------------------------------------------------------------    \n",
    "    #Add the columns training data of preprocessing in the data\n",
    "    TEST_A_0=pd.get_dummies(train_data.galaxy)\n",
    "    TEST_A_COLUMNS_0=TEST_A_0.columns\n",
    "    for INDEX in TEST_A_COLUMNS_0:\n",
    "        data[INDEX]=TEST_A_0[INDEX]*0\n",
    "    #--------------------------------------------------------------------------------------------------------------\n",
    "    #Add the columns testing of preprocessing in the data\n",
    "    TEST_A_0=pd.get_dummies(test_data.galaxy)\n",
    "    TEST_A_COLUMNS_0=TEST_A_0.columns\n",
    "    for INDEX in TEST_A_COLUMNS_0:\n",
    "        data[INDEX]=TEST_A_0[INDEX]*0\n",
    "    #--------------------------------------------------------------------------------------------------------------\n",
    "    #we transforme the categorial variable galaxy in integer\n",
    "    TEST_A=pd.get_dummies(data.galaxy)\n",
    "    TEST_A_COLUMNS=TEST_A.columns\n",
    "    for INDEX in TEST_A_COLUMNS:\n",
    "        data[INDEX]=TEST_A[INDEX]\n",
    "    #--------------------------------------------------------------------------------------------------------------\n",
    "    data[\"Life expectancy at birth\"]=data[\"Life expectancy at birth, male (galactic years)\"]*data[\"Life expectancy at birth, female (galactic years)\"]/2\n",
    "    del data[\"existence expectancy at birth\"]\n",
    "    #--------------------------------------------------------------------------------------------------------------\n",
    "    ###############################################################################################################\n",
    "    #delete the catagoricial not necessary variable\n",
    "    del data[\"galaxy\"]\n",
    "    del data[\"Current health expenditure (% of GGP)\"]\n",
    "    del data[\"Respiratory disease incidence (per 100,000 people)\"]\n",
    "    del data[\"Labour force participation rate (% ages 15 and older), female\"]\n",
    "    del data[\"Labour force participation rate (% ages 15 and older)\"]\n",
    "    #--------------------------------------------------------------------------------------------------------------\n",
    "    column_uses_for_the_training[1]=\"galaxy_encoding\"\n",
    "    \n",
    "    #Here we take care of the outlier\n",
    "    \n",
    "    #Here we replace all missing data by the median value or the next data\n",
    "    data=data.fillna(data.mean())\n",
    "    \n",
    "    #transforme dataframe in array numpy\n",
    "    Array_data=data.values\n",
    "    \n",
    "    return Array_data"
   ]
  },
  {
   "cell_type": "code",
   "execution_count": null,
   "metadata": {},
   "outputs": [],
   "source": []
  },
  {
   "cell_type": "code",
   "execution_count": null,
   "metadata": {},
   "outputs": [],
   "source": []
  },
  {
   "cell_type": "code",
   "execution_count": null,
   "metadata": {},
   "outputs": [],
   "source": []
  },
  {
   "cell_type": "code",
   "execution_count": null,
   "metadata": {},
   "outputs": [],
   "source": []
  },
  {
   "cell_type": "code",
   "execution_count": null,
   "metadata": {},
   "outputs": [],
   "source": []
  },
  {
   "cell_type": "markdown",
   "metadata": {},
   "source": [
    "# <center> STRATEGY OF ENERGY OPTIMIZATION </center> #\n",
    "\n",
    "1--In here we have use à lot of technique for allocate the energy. Each function represents a one method for allocate the energy."
   ]
  },
  {
   "cell_type": "code",
   "execution_count": 19,
   "metadata": {},
   "outputs": [],
   "source": [
    "def repartition_energy_strategy_1(data_energy,percentage):\n",
    "    \"\"\"This energy distribution strategy consists in dividing the 50,000zillion of energy into two parts with \n",
    "    percentage allocated to the galaxy which have a existence expectancy index\"<0.7 and the reste for others \n",
    "    galaxy Then we use distribute the energy allocated to each set according to (s-existence expectancy index)\"\"\"\n",
    "    \n",
    "    #Here we replace all missing data by the median value or the next data\n",
    "    data_energy=data_energy.fillna(data_energy.median())\n",
    "    \n",
    "    #we create two dataframe, the contain all galaxy who have existence expectancy index<0.7 and the second\n",
    "    #ontaine all galaxy we have existence expectancy index>0.7\n",
    "    GALAXY_existence_expectancy_index_SUP_0_7=data_energy[data_energy[\"existence expectancy index\"]>0.7]\n",
    "    GALAXY_existence_expectancy_index_INF_0_7=data_energy[data_energy[\"existence expectancy index\"]<0.7]\n",
    "    \n",
    "    #we calculate the maximale value of existence expectancy index for the lines who have existence expectancy index < 0 .7 and\n",
    "    #we calculate the maximale value of existence expectancy index for the lines who have existence expectancy index > 0 .7\n",
    "    max_sup_0_7=GALAXY_existence_expectancy_index_SUP_0_7[\"existence expectancy index\"].max()+0.01\n",
    "    max_inf_0_7=GALAXY_existence_expectancy_index_INF_0_7[\"existence expectancy index\"].max()+0.01\n",
    "    \n",
    "    sum_existence_expectancy_index_sup_0_7=(max_sup_0_7-GALAXY_existence_expectancy_index_SUP_0_7[\"existence expectancy index\"]).sum()\n",
    "    sum_existence_expectancy_index_inf_0_7=(max_inf_0_7-GALAXY_existence_expectancy_index_INF_0_7[\"existence expectancy index\"]).sum()\n",
    "    \n",
    "    #the liste thzt this function will return\n",
    "    allocation_energy=[]\n",
    "    \n",
    "    #energy sharing\n",
    "    energy_for_inf_0_7=percentage*500\n",
    "    energy_for_sup_0_7=50000-energy_for_inf_0_7\n",
    "    print(\"energy_for_inf_0_7\",energy_for_inf_0_7)\n",
    "    print(\"energy_for_sup_0_7\",energy_for_sup_0_7)\n",
    "    percentage_inf_0_7=0.0\n",
    "    percentage_sup_0_7=0.0\n",
    "    \n",
    "    #process of distribution\n",
    "    for i in range(data_energy.shape[0]):\n",
    "        if(data_energy[\"existence expectancy index\"][i]>0.7):\n",
    "            energy=(max_sup_0_7-data_energy[\"existence expectancy index\"][i])*energy_for_sup_0_7/sum_existence_expectancy_index_sup_0_7\n",
    "            if(energy>100):\n",
    "                percentage_sup_0_7+=min(100,energy-100)\n",
    "                allocation_energy.append(min(100,energy-100))\n",
    "            else:\n",
    "                percentage_sup_0_7+=energy\n",
    "                allocation_energy.append(energy)\n",
    "        else:\n",
    "            energy=(max_inf_0_7-data_energy[\"existence expectancy index\"][i])*energy_for_inf_0_7/sum_existence_expectancy_index_inf_0_7\n",
    "            if(energy>100):\n",
    "                percentage_inf_0_7+=min(100,energy-100)\n",
    "                allocation_energy.append(min(100,energy-100))\n",
    "            else:\n",
    "                percentage_inf_0_7+=energy\n",
    "                allocation_energy.append(energy)\n",
    "        \n",
    "    print(\"percentage_sup_0_7==\",percentage_sup_0_7/50000)\n",
    "    print(\"percentage_inf_0_7==\",percentage_inf_0_7/50000)\n",
    "    \n",
    "    return allocation_energy"
   ]
  },
  {
   "cell_type": "code",
   "execution_count": null,
   "metadata": {},
   "outputs": [],
   "source": []
  },
  {
   "cell_type": "code",
   "execution_count": 20,
   "metadata": {},
   "outputs": [],
   "source": [
    "def repartition_energy_strategy_2(data_energy,percentage):\n",
    "    \"\"\"This energy distribution strategy consists in dividing the 50,000zillion of energy into two parts with \n",
    "    percentage allocated to the galaxy which have a existence expectancy index\"<0.7 and the reste for others \n",
    "    galaxy Then we use distribute the energy allocated to each set according to (s-existence expectancy index)\"\"\"\n",
    "    \n",
    "    #Here we replace all missing data by the median value or the next data\n",
    "    data_energy=data_energy.fillna(data_energy.median())\n",
    "    \n",
    "    #we calculate potential increase\n",
    "    data_energy['Potential for increase in the Index']=-np.log(data_energy[\"y\"]+0.01)+3\n",
    "    \n",
    "    #we create two dataframe, the contain all galaxy who have existence expectancy index<0.7 and the second\n",
    "    #ontaine all galaxy we have existence expectancy index>0.7\n",
    "    GALAXY_existence_expectancy_index_SUP_0_7=data_energy[data_energy[\"existence expectancy index\"]>0.7]\n",
    "    GALAXY_existence_expectancy_index_INF_0_7=data_energy[data_energy[\"existence expectancy index\"]<0.7]\n",
    "    \n",
    "    sum_existence_expectancy_index_sup_0_7=GALAXY_existence_expectancy_index_SUP_0_7[\"Potential for increase in the Index\"].sum()\n",
    "    sum_existence_expectancy_index_inf_0_7=GALAXY_existence_expectancy_index_INF_0_7[\"Potential for increase in the Index\"].sum()\n",
    "    \n",
    "    #the liste that this function will return\n",
    "    allocation_energy=[]\n",
    "    \n",
    "    #energy sharing\n",
    "    energy_for_inf_0_7=percentage*499.90\n",
    "    energy_for_sup_0_7=49990-energy_for_inf_0_7\n",
    "    print(\"energy_for_inf_0_7\",energy_for_inf_0_7)\n",
    "    print(\"energy_for_sup_0_7\",energy_for_sup_0_7)\n",
    "    percentage_inf_0_7=0.0\n",
    "    percentage_sup_0_7=0.0\n",
    "    \n",
    "    #process of distribution\n",
    "    for i in range(data_energy.shape[0]):\n",
    "        if(data_energy[\"existence expectancy index\"][i]>0.7):\n",
    "            energy=data_energy[\"Potential for increase in the Index\"][i]*energy_for_sup_0_7/sum_existence_expectancy_index_sup_0_7\n",
    "            if(energy>100):\n",
    "                percentage_sup_0_7+=min(100,energy-100)\n",
    "                allocation_energy.append(min(100,energy-100))\n",
    "            else:\n",
    "                percentage_sup_0_7+=energy\n",
    "                allocation_energy.append(energy)\n",
    "        else:\n",
    "            energy=data_energy[\"Potential for increase in the Index\"][i]*energy_for_inf_0_7/sum_existence_expectancy_index_inf_0_7\n",
    "            if(energy>100):\n",
    "                percentage_inf_0_7+=min(100,energy-100)\n",
    "                allocation_energy.append(min(100,energy-100))\n",
    "            else:\n",
    "                percentage_inf_0_7+=energy\n",
    "                allocation_energy.append(energy)\n",
    "        \n",
    "    print(\"percentage_sup_0_7==\",percentage_sup_0_7/50000)\n",
    "    print(\"percentage_inf_0_7==\",percentage_inf_0_7/50000)\n",
    "    \n",
    "    return allocation_energy"
   ]
  },
  {
   "cell_type": "code",
   "execution_count": null,
   "metadata": {},
   "outputs": [],
   "source": []
  },
  {
   "cell_type": "code",
   "execution_count": 21,
   "metadata": {},
   "outputs": [],
   "source": [
    "def repartition_energy_strategy_3(data_energy,percentage):\n",
    "    \"\"\"This energy distribution strategy consists in dividing the 50,000zillion of energy into two parts with \n",
    "    percentage allocated to the galaxy which have a existence expectancy index\"<0.7 and the reste for others \n",
    "    galaxy Then we use distribute the energy allocated to each set according to (s-existence expectancy index)\"\"\"\n",
    "    \n",
    "    #Here we replace all missing data by the median value or the next data\n",
    "    data_energy=data_energy.fillna(data_energy.median())\n",
    "    \n",
    "    #may be delete\n",
    "    data_energy['Potential for increase in the Index']=-np.log(data_energy[\"y\"]+0.01)+3\n",
    "\n",
    "    #we create two dataframe, the contain all galaxy who have existence expectancy index<0.7 and the second\n",
    "    #ontaine all galaxy we have existence expectancy index>0.7\n",
    "    GALAXY_existence_expectancy_index_INF_0_7=data_energy[data_energy[\"existence expectancy index\"]<0.7]\n",
    "    GALAXY_existence_expectancy_index_SUP_0_7=data_energy[data_energy[\"existence expectancy index\"]>0.7]\n",
    "\n",
    "    #we calculate the maximale value of existence expectancy index for the lines who have existence expectancy index < 0 .7 and\n",
    "    #we calculate the maximale value of existence expectancy index for the lines who have existence expectancy index > 0 .7\n",
    "    max_sup_0_7=GALAXY_existence_expectancy_index_SUP_0_7[\"y\"].max()+0.001\n",
    "    max_inf_0_7=GALAXY_existence_expectancy_index_INF_0_7[\"y\"].max()+0.001\n",
    "    \n",
    "    #we calculate the sum of the y\n",
    "    sum_y_sup_0_7=(max_sup_0_7-GALAXY_existence_expectancy_index_SUP_0_7[\"y\"]).sum()\n",
    "    sum_y_inf_0_7=GALAXY_existence_expectancy_index_INF_0_7[\"y\"].sum()\n",
    "    sum_existence_expectancy_index_inf_0_7=GALAXY_existence_expectancy_index_INF_0_7[\"Potential for increase in the Index\"].sum()\n",
    "    \n",
    "    #the liste thzt this function will return\n",
    "    allocation_energy=[]\n",
    "    \n",
    "    #for allocation energy\n",
    "    data_energy[\"allocation energy\"]=data_energy[\"existence expectancy index\"]*0\n",
    "    \n",
    "    #energy sharing\n",
    "    energy_for_inf_0_7=percentage*499.90\n",
    "    energy_for_sup_0_7=49990-energy_for_inf_0_7\n",
    "    print(\"energy_for_inf_0_7\",energy_for_inf_0_7)\n",
    "    print(\"energy_for_sup_0_7\",energy_for_sup_0_7)\n",
    "    percentage_inf_0_7=0.0\n",
    "    percentage_sup_0_7=0.0\n",
    "\n",
    "        \n",
    "    #process of distribution for the galaxy who have existence expectancy index<0.7\n",
    "    for i in range(data_energy.shape[0]):\n",
    "        if(data_energy[\"existence expectancy index\"][i]<0.7):\n",
    "            energy=data_energy[\"Potential for increase in the Index\"][i]*energy_for_inf_0_7/sum_existence_expectancy_index_inf_0_7\n",
    "            #energy=data_energy[\"y\"][i]*energy_for_inf_0_7/sum_y_inf_0_7\n",
    "            if(energy>100):\n",
    "                data_energy[\"allocation energy\"][i]=min(100,energy-100)\n",
    "                percentage_inf_0_7+=min(100,energy-100)\n",
    "            else:\n",
    "                data_energy[\"allocation energy\"][i]=energy\n",
    "                percentage_inf_0_7+=energy\n",
    "        else:\n",
    "            energy=(max_sup_0_7-data_energy[\"y\"][i])*energy_for_sup_0_7/sum_y_sup_0_7\n",
    "            if(energy>100):\n",
    "                data_energy[\"allocation energy\"][i]=min(100,energy-100)\n",
    "                percentage_sup_0_7+=min(100,energy-100)\n",
    "            else:\n",
    "                data_energy[\"allocation energy\"][i]=energy\n",
    "                percentage_sup_0_7+=energy\n",
    "        \n",
    "    print(\"percentage_sup_0_7==\",percentage_sup_0_7/50000)\n",
    "    print(\"percentage_inf_0_7==\",percentage_inf_0_7/50000)\n",
    "    \n",
    "    return data_energy[\"allocation energy\"].values.tolist()"
   ]
  },
  {
   "cell_type": "code",
   "execution_count": null,
   "metadata": {},
   "outputs": [],
   "source": []
  },
  {
   "cell_type": "code",
   "execution_count": 22,
   "metadata": {},
   "outputs": [],
   "source": [
    "def repartition_energy_strategy_4(data_energy,percentage):\n",
    "    \"\"\"This energy distribution strategy consists in dividing the 50,000zillion of energy into two parts with \n",
    "    percentage allocated to the galaxy which have a existence expectancy index\"<0.7 and the reste for others \n",
    "    galaxy. Then we use distribute the energy allocated to each set according to (s-existence expectancy index)\"\"\"\n",
    "    \n",
    "    #Here we replace all missing data by the median value or the next data\n",
    "    data_energy=data_energy.fillna(data_energy.median())\n",
    "    \n",
    "    #may be delete\n",
    "    data_energy['Potential for increase in the Index']=-np.log(data_energy[\"y\"]+0.01)+3\n",
    "\n",
    "    #we create two dataframe, the contain all galaxy who have existence expectancy index<0.7 and the second\n",
    "    #ontaine all galaxy we have existence expectancy index>0.7\n",
    "    GALAXY_existence_expectancy_index_INF_0_7=data_energy[data_energy[\"existence expectancy index\"]<0.7]\n",
    "    GALAXY_existence_expectancy_index_SUP_0_7=data_energy[data_energy[\"existence expectancy index\"]>0.7]\n",
    "\n",
    "    #we axtract the index in decreasing order of y for data with existence expectancy index>0.7 and existence \n",
    "    #expectancy index<0.7\n",
    "    index_sort_sup_0_7=GALAXY_existence_expectancy_index_SUP_0_7.sort_values([\"y\"],ascending=[True])[\"y\"].index\n",
    "    index_sort_inf_0_7=GALAXY_existence_expectancy_index_INF_0_7.sort_values([\"y\"],ascending=[True])[\"y\"].index\n",
    "        \n",
    "    #energy sharing\n",
    "    energy_for_inf_0_7=percentage*500\n",
    "    energy_for_sup_0_7=50000-energy_for_inf_0_7-200\n",
    "    print(\"energy_for_inf_0_7\",energy_for_inf_0_7)\n",
    "    print(\"energy_for_sup_0_7\",energy_for_sup_0_7)\n",
    "    percentage_inf_0_7=0.0\n",
    "    percentage_sup_0_7=0.0\n",
    "    \n",
    "    #for allocation energy\n",
    "    data_energy[\"allocation energy\"]=data_energy[\"existence expectancy index\"]*0\n",
    "    \n",
    "    # give the inf 0.7\n",
    "    number_inf=energy_for_inf_0_7//100\n",
    "    for i in index_sort_inf_0_7[:number_inf]:\n",
    "        data_energy[\"allocation energy\"][i]=100\n",
    "        percentage_inf_0_7+=data_energy[\"allocation energy\"][i]\n",
    "    if(index_sort_inf_0_7.shape[0]>number_inf):\n",
    "        for i in index_sort_inf_0_7[number_inf:]:\n",
    "            data_energy[\"allocation energy\"][i]=100/(index_sort_inf_0_7.shape[0]-number_inf)\n",
    "            percentage_inf_0_7+=data_energy[\"allocation energy\"][i]\n",
    "\n",
    "    # give the sup 0.7\n",
    "    number_sup=energy_for_sup_0_7//100\n",
    "    for i in index_sort_sup_0_7[:number_sup]:\n",
    "        data_energy[\"allocation energy\"][i]=99\n",
    "        percentage_sup_0_7+=data_energy[\"allocation energy\"][i]\n",
    "    if(index_sort_sup_0_7.shape[0]>number_sup):\n",
    "        for i in index_sort_sup_0_7[number_sup:]:\n",
    "            data_energy[\"allocation energy\"][i]=100/(index_sort_sup_0_7.shape[0]-number_sup)\n",
    "            percentage_sup_0_7+=data_energy[\"allocation energy\"][i]\n",
    "    \n",
    "    print(\"percentage_sup_0_7==\",percentage_sup_0_7/50000)\n",
    "    print(\"percentage_inf_0_7==\",percentage_inf_0_7/50000)\n",
    "    \n",
    "    return data_energy[\"allocation energy\"].values.tolist()"
   ]
  },
  {
   "cell_type": "code",
   "execution_count": null,
   "metadata": {},
   "outputs": [],
   "source": []
  },
  {
   "cell_type": "code",
   "execution_count": 23,
   "metadata": {},
   "outputs": [],
   "source": [
    "def repartition_energy_strategy_5(data_energy,percentage):\n",
    "    \"\"\"This strategy involves allocating the 50,000 DSML zillion of energy to the planets in the following manner. \n",
    "    Each galaxy will have 1  DSML energy at the start, then we distribute the remaining energy by allocating 100  DSML \n",
    "    energy to the planets with the smallest prediction of y by making sure to reach 10% for planets having a <0.7\"\"\"\n",
    "    \n",
    "    #Here we replace all missing data by the median value or the next data\n",
    "    data_energy=data_energy.fillna(data_energy.median())\n",
    "\n",
    "    #we axtract the index in decreasing order of y\n",
    "    index_sort_=data_energy.sort_values([\"y\"],ascending=[True])[\"y\"].index\n",
    "        \n",
    "    #energy sharing\n",
    "    energy_for_max=49990-data_energy.shape[0]\n",
    "    #percentage value\n",
    "    percentage_inf_0_7=0.0\n",
    "    percentage_sup_0_7=0.0\n",
    "    \n",
    "    #for allocation energy\n",
    "    data_energy[\"allocation energy\"]=data_energy[\"existence expectancy index\"]*0+1\n",
    "    \n",
    "    # give the inf 0.7\n",
    "    for i in index_sort_:\n",
    "        if(energy_for_max>0):\n",
    "            data_energy[\"allocation energy\"][i]=100\n",
    "            energy_for_max-=99\n",
    "            if(data_energy[\"existence expectancy index\"][i]<0.7):\n",
    "                percentage_inf_0_7+=data_energy[\"allocation energy\"][i]\n",
    "            else:\n",
    "                percentage_sup_0_7+=data_energy[\"allocation energy\"][i]\n",
    "        else:\n",
    "            if(data_energy[\"existence expectancy index\"][i]<0.7):\n",
    "                percentage_inf_0_7+=1\n",
    "            else:\n",
    "                percentage_sup_0_7+=1\n",
    "    \n",
    "    print(\"percentage_sup_0_7==\",percentage_sup_0_7/50000)\n",
    "    print(\"percentage_inf_0_7==\",percentage_inf_0_7/50000)\n",
    "    \n",
    "    return data_energy[\"allocation energy\"].values.tolist()"
   ]
  },
  {
   "cell_type": "code",
   "execution_count": null,
   "metadata": {},
   "outputs": [],
   "source": []
  },
  {
   "cell_type": "code",
   "execution_count": 24,
   "metadata": {},
   "outputs": [],
   "source": [
    "def repartition_energy_strategy_6(data_energy,percentage):\n",
    "    \"\"\"This strategy involves allocating the 50,000 DSML zillion of energy to the planets in the following manner. \n",
    "    Each galaxy will have 1  DSML energy at the start, then we distribute the remaining energy by allocating 100  DSML \n",
    "    energy to the planets with the smallest prediction of y by making sure to reach 10% for planets having a <0.7\"\"\"\n",
    "    \n",
    "    #Here we replace all missing data by the median value or the next data\n",
    "    data_energy=data_energy.fillna(data_energy.median())\n",
    "\n",
    "    #we axtract the index in decreasing order of y\n",
    "    index_sort_=data_energy.sort_values([\"y\"],ascending=[True])[\"y\"].index\n",
    "        \n",
    "    #energy sharing\n",
    "    energy_for_max=49990-data_energy.shape[0]\n",
    "    #percentage value\n",
    "    percentage_inf_0_7=0.0\n",
    "    percentage_sup_0_7=0.0\n",
    "    \n",
    "    #we give 1  DSML energy for all galaxy\n",
    "    data_energy[\"allocation energy\"]=data_energy[\"existence expectancy index\"]*0+1\n",
    "    \n",
    "    #We distribute energy in the following way: we allocate 100DSML of energy to all the planets including\n",
    "    # the index is weak there by trying not to exceed the value of the energy allocated to each part.\n",
    "    for i in index_sort_:\n",
    "        if(energy_for_max>0):\n",
    "            if(data_energy[\"existence expectancy index\"][i]<0.7 and percentage_inf_0_7<5000):\n",
    "                data_energy[\"allocation energy\"][i]=100\n",
    "                energy_for_max-=99\n",
    "                percentage_inf_0_7+=data_energy[\"allocation energy\"][i]\n",
    "            else:\n",
    "                data_energy[\"allocation energy\"][i]=100\n",
    "                energy_for_max-=99\n",
    "                percentage_sup_0_7+=data_energy[\"allocation energy\"][i]\n",
    "        else:\n",
    "            if(data_energy[\"existence expectancy index\"][i]<0.7):\n",
    "                percentage_inf_0_7+=1\n",
    "            else:\n",
    "                percentage_sup_0_7+=1\n",
    "    \n",
    "    print(\"percentage_sup_0_7==\",percentage_sup_0_7/50000)\n",
    "    print(\"percentage_inf_0_7==\",percentage_inf_0_7/50000)\n",
    "    print(\"Total energy==\",data_energy[\"allocation energy\"].sum())\n",
    "    \n",
    "    return data_energy[\"allocation energy\"].values.tolist()"
   ]
  },
  {
   "cell_type": "code",
   "execution_count": 25,
   "metadata": {},
   "outputs": [],
   "source": [
    "def repartition_energy_strategy_7(data_energy,percentage):\n",
    "    \"\"\"In this case, we will calculate the the square of Potential for increase in the Index and classify the galaxies \n",
    "    by this value. After, wo give 100DSML energy for the 400first, then we will give 50 of the 100 first following, at\n",
    "    the end we give 99,98,97,...,1 at the last\n",
    "    \"\"\"\n",
    "    \n",
    "    #Here we replace all missing data by the median value or the next data\n",
    "    data_energy=data_energy.fillna(data_energy.median())\n",
    "    \n",
    "    #may be delete\n",
    "    data_energy['Potential for increase in the Index']=-np.log(data_energy[\"y\"]+0.01)+3\n",
    "    data_energy['Potential for increase in the Index square']=data_energy['Potential for increase in the Index']*data_energy['Potential for increase in the Index']\n",
    "    \n",
    "    #we create two dataframe, the contain all galaxy who have existence expectancy index<0.7 and the second\n",
    "    #ontaine all galaxy we have existence expectancy index>0.7\n",
    "    GALAXY_existence_expectancy_index_INF_0_7=data_energy[data_energy[\"existence expectancy index\"]<0.7]\n",
    "    GALAXY_existence_expectancy_index_SUP_0_7=data_energy[data_energy[\"existence expectancy index\"]>0.7]\n",
    "    \n",
    "    \n",
    "    #we axtract the index in decreasing order of Potential for increase in the Index square\n",
    "    #index_sort_=data_energy.sort_values([\"Potential for increase in the Index square\"],ascending=[True])[\"Potential for increase in the Index square\"].index\n",
    "    index_sort_INF_0_7=GALAXY_existence_expectancy_index_INF_0_7.sort_values([\"Potential for increase in the Index square\"],ascending=[False])[\"Potential for increase in the Index square\"].index\n",
    "    index_sort_SUP_0_7=GALAXY_existence_expectancy_index_SUP_0_7.sort_values([\"Potential for increase in the Index square\"],ascending=[False])[\"Potential for increase in the Index square\"].index\n",
    "    \n",
    "    #we give 1  DSML energy for all galaxy\n",
    "    data_energy[\"allocation energy\"]=data_energy[\"existence expectancy index\"]*0\n",
    "    \n",
    "    #We give 100DSML energy of the 50 first lower existence expectancy index \n",
    "    for i in range(50):\n",
    "        data_energy[\"allocation energy\"][index_sort_INF_0_7[i]]=100\n",
    "        \n",
    "    #We give 100DSML energy of the 50 first lower existence expectancy index \n",
    "    for i in range(399):\n",
    "        data_energy[\"allocation energy\"][index_sort_SUP_0_7[i]]=100\n",
    "                \n",
    "    tampon=100\n",
    "    for i in range(399,499):\n",
    "        data_energy[\"allocation energy\"][index_sort_SUP_0_7[i]]=tampon\n",
    "        tampon-=1\n",
    "        if(tampon==-1):\n",
    "            print(\"------------NEGATIVE VALUE------------\")\n",
    "    \n",
    "    #percentage value\n",
    "    percentage_inf_0_7=0.0\n",
    "    percentage_sup_0_7=0.0\n",
    "    for i in range(data_energy.shape[0]):\n",
    "        if(data_energy[\"existence expectancy index\"][i]<0.7):\n",
    "            percentage_inf_0_7+=data_energy[\"allocation energy\"][i]\n",
    "        else:\n",
    "            percentage_sup_0_7+=data_energy[\"allocation energy\"][i]\n",
    "    \n",
    "    \n",
    "    print(\"percentage_sup_0_7==\",percentage_sup_0_7/50000)\n",
    "    print(\"percentage_inf_0_7==\",percentage_inf_0_7/50000)\n",
    "    print(\"Total energy==\",data_energy[\"allocation energy\"].sum())\n",
    "    print(\"SQR ALLOCATION ENERGY==\",data_energy['Potential for increase in the Index square'].sum())\n",
    "        \n",
    "    return data_energy[\"allocation energy\"].values.tolist()\n",
    "    \n",
    "    "
   ]
  },
  {
   "cell_type": "code",
   "execution_count": null,
   "metadata": {},
   "outputs": [],
   "source": []
  },
  {
   "cell_type": "code",
   "execution_count": 26,
   "metadata": {},
   "outputs": [],
   "source": [
    "def repartition_energy_strategy_8(data_energy,percentage):\n",
    "    \"\"\"This strategy involves allocating the 50,000 DSML zillion of energy to the planets in the following manner. \n",
    "    Each galaxy will have 0  DSML energy at the start, then we distribute the remaining energy by allocating 100  \n",
    "    DSML energy to the planets with the smallest prediction of y by making sure to reach 10% for planets having a\n",
    "    <0.7 this is our best methode of repartition energy\"\"\"\n",
    "    \n",
    "    #Here we replace all missing data by the median value or the next data\n",
    "    data_energy=data_energy.fillna(data_energy.mean())\n",
    "\n",
    "    #we axtract the index in decreasing order of y\n",
    "    index_sort_=data_energy.sort_values([\"y\"],ascending=[True])[\"y\"].index\n",
    "        \n",
    "    #energy sharing\n",
    "    energy_for_max=50000-93\n",
    "    #percentage value\n",
    "    percentage_inf_0_7=0.0\n",
    "    percentage_sup_0_7=0.0\n",
    "    \n",
    "    #we give 1  DSML energy for all galaxy\n",
    "    data_energy[\"allocation energy\"]=data_energy[\"existence expectancy index\"]*0\n",
    "    \n",
    "    #We distribute energy in the following way: we allocate 100DSML of energy to all the planets including\n",
    "    # the index is weak there by trying not to exceed the value of the energy allocated to each part.\n",
    "    for i in index_sort_:\n",
    "        if(energy_for_max>0):\n",
    "            if(data_energy[\"existence expectancy index\"][i]<0.7 and percentage_inf_0_7<5000):\n",
    "                data_energy[\"allocation energy\"][i]=100\n",
    "                energy_for_max-=100\n",
    "                percentage_inf_0_7+=data_energy[\"allocation energy\"][i]\n",
    "            else:\n",
    "                data_energy[\"allocation energy\"][i]=100\n",
    "                energy_for_max-=100\n",
    "                percentage_sup_0_7+=data_energy[\"allocation energy\"][i]\n",
    "       \n",
    "    print(\"percentage_sup_0_7==\",percentage_sup_0_7/50000)\n",
    "    print(\"percentage_inf_0_7==\",percentage_inf_0_7/50000)\n",
    "    print(\"Total energy==\",data_energy[\"allocation energy\"].sum())\n",
    "    \n",
    "    return data_energy[\"allocation energy\"].values.tolist()"
   ]
  },
  {
   "cell_type": "code",
   "execution_count": null,
   "metadata": {},
   "outputs": [],
   "source": []
  },
  {
   "cell_type": "code",
   "execution_count": 27,
   "metadata": {},
   "outputs": [],
   "source": [
    "def repartition_energy_strategy_9(data_energy,percentage):\n",
    "    \"\"\"This strategy involves allocating the 50,000 DSML zillion of energy to the planets in the following manner. \n",
    "    Each galaxy will have 0  DSML energy at the start, then we distribute the remaining energy by allocating 100  \n",
    "    DSML energy to the planets with the smallest prediction of y by making sure to reach 10% for planets having a\n",
    "    <0.7 this is our best methode of repartition energy\"\"\"\n",
    "    \n",
    "    #Here we replace all missing data by the median value or the next data\n",
    "    data_energy=data_energy.fillna(data_energy.mean())\n",
    "\n",
    "    #we axtract the index in decreasing order of y\n",
    "    index_sort_=data_energy.sort_values([\"y\"],ascending=[True])[\"y\"].index\n",
    "        \n",
    "    #energy sharing\n",
    "    energy_for_max=50000-93\n",
    "    #percentage value\n",
    "    percentage_inf_0_7=0.0\n",
    "    percentage_sup_0_7=0.0\n",
    "    \n",
    "    #we give 1  DSML energy for all galaxy\n",
    "    data_energy[\"allocation energy\"]=data_energy[\"existence expectancy index\"]*0\n",
    "    \n",
    "    #We distribute energy in the following way: we allocate 100DSML of energy to all the planets including\n",
    "    # the index is weak there by trying not to exceed the value of the energy allocated to each part.\n",
    "    for i in range(400):\n",
    "        if(energy_for_max>0):\n",
    "            if(data_energy[\"existence expectancy index\"][index_sort_[i]]<0.7 and percentage_inf_0_7<5000):\n",
    "                data_energy[\"allocation energy\"][index_sort_[i]]=100\n",
    "                energy_for_max-=100\n",
    "                percentage_inf_0_7+=data_energy[\"allocation energy\"][index_sort_[i]]\n",
    "            else:\n",
    "                data_energy[\"allocation energy\"][index_sort_[i]]=100\n",
    "                energy_for_max-=100\n",
    "                percentage_sup_0_7+=data_energy[\"allocation energy\"][index_sort_[i]]\n",
    "                \n",
    "    #we give 50 energy of the next 100\n",
    "    for i in range(400,499):\n",
    "        if(energy_for_max>0):\n",
    "            if(data_energy[\"existence expectancy index\"][index_sort_[i]]<0.7 and percentage_inf_0_7<5000):\n",
    "                data_energy[\"allocation energy\"][index_sort_[i]]=50\n",
    "                energy_for_max-=50\n",
    "                percentage_inf_0_7+=data_energy[\"allocation energy\"][index_sort_[i]]\n",
    "            else:\n",
    "                data_energy[\"allocation energy\"][index_sort_[i]]=50\n",
    "                energy_for_max-=50\n",
    "                percentage_sup_0_7+=data_energy[\"allocation energy\"][index_sort_[i]]\n",
    "       \n",
    "    #we give energy of the next 100\n",
    "    tamp=100\n",
    "    for i in range(499,599):\n",
    "        if(energy_for_max>0):\n",
    "            if(data_energy[\"existence expectancy index\"][index_sort_[i]]<0.7 and percentage_inf_0_7<5000):\n",
    "                data_energy[\"allocation energy\"][index_sort_[i]]=tamp\n",
    "                energy_for_max-=tamp\n",
    "                tamp-=1\n",
    "                percentage_inf_0_7+=data_energy[\"allocation energy\"][index_sort_[i]]\n",
    "            else:\n",
    "                data_energy[\"allocation energy\"][index_sort_[i]]=tamp\n",
    "                energy_for_max-=tamp\n",
    "                tamp-=1\n",
    "                percentage_sup_0_7+=data_energy[\"allocation energy\"][index_sort_[i]]\n",
    "       \n",
    "    \n",
    "    print(\"percentage_sup_0_7==\",percentage_sup_0_7/50000)\n",
    "    print(\"percentage_inf_0_7==\",percentage_inf_0_7/50000)\n",
    "    print(\"Total energy==\",data_energy[\"allocation energy\"].sum())\n",
    "    \n",
    "    return data_energy[\"allocation energy\"].values.tolist()"
   ]
  },
  {
   "cell_type": "code",
   "execution_count": null,
   "metadata": {},
   "outputs": [],
   "source": []
  },
  {
   "cell_type": "code",
   "execution_count": 28,
   "metadata": {},
   "outputs": [],
   "source": [
    "def repartition_energy_strategy_10(data_energy,percentage):\n",
    "    \"\"\"This strategy involves allocating the 50,000 DSML zillion of energy to the planets in the following manner. \n",
    "    Each galaxy will have 0  DSML energy at the start, then we distribute the remaining energy by allocating 100  \n",
    "    DSML energy to the planets with the smallest prediction of y by making sure to reach 10% for planets having a\n",
    "    <0.7 this is our best methode of repartition energy\"\"\"\n",
    "    \n",
    "    #Here we replace all missing data by the median value or the next data\n",
    "    data_energy=data_energy.fillna(data_energy.mean())\n",
    "\n",
    "    #we axtract the index in decreasing order of y\n",
    "    index_sort_=data_energy.sort_values([\"y\"],ascending=[True])[\"y\"].index\n",
    "        \n",
    "    #energy sharing\n",
    "    energy_for_max=50000-93\n",
    "    #percentage value\n",
    "    percentage_inf_0_7=0.0\n",
    "    percentage_sup_0_7=0.0\n",
    "    \n",
    "    #we give 1  DSML energy for all galaxy\n",
    "    data_energy[\"allocation energy\"]=data_energy[\"existence expectancy index\"]*0\n",
    "    \n",
    "    #We distribute energy in the following way: we allocate 100DSML of energy to all the planets including\n",
    "    # the index is weak there by trying not to exceed the value of the energy allocated to each part.\n",
    "    for i in range(400):\n",
    "        if(energy_for_max>0):\n",
    "            if(data_energy[\"existence expectancy index\"][index_sort_[i]]<0.7 and percentage_inf_0_7<5000):\n",
    "                data_energy[\"allocation energy\"][index_sort_[i]]=100\n",
    "                energy_for_max-=100\n",
    "                percentage_inf_0_7+=data_energy[\"allocation energy\"][index_sort_[i]]\n",
    "            else:\n",
    "                data_energy[\"allocation energy\"][index_sort_[i]]=100\n",
    "                energy_for_max-=100\n",
    "                percentage_sup_0_7+=data_energy[\"allocation energy\"][index_sort_[i]]\n",
    "                \n",
    "    #we give energy of the next 100\n",
    "    tamp=100\n",
    "    for i in range(400,599):\n",
    "        if(energy_for_max>0):\n",
    "            if(data_energy[\"existence expectancy index\"][index_sort_[i]]<0.7 and percentage_inf_0_7<5000):\n",
    "                data_energy[\"allocation energy\"][index_sort_[i]]=tamp\n",
    "                energy_for_max-=tamp\n",
    "                tamp-=1-(i%2)\n",
    "                percentage_inf_0_7+=data_energy[\"allocation energy\"][index_sort_[i]]\n",
    "            else:\n",
    "                data_energy[\"allocation energy\"][index_sort_[i]]=tamp\n",
    "                energy_for_max-=tamp\n",
    "                tamp-=1-(i%2)\n",
    "                percentage_sup_0_7+=data_energy[\"allocation energy\"][index_sort_[i]]\n",
    "       \n",
    "    print(\"percentage_sup_0_7==\",percentage_sup_0_7/50000)\n",
    "    print(\"percentage_inf_0_7==\",percentage_inf_0_7/50000)\n",
    "    print(\"Total energy==\",data_energy[\"allocation energy\"].sum())\n",
    "    \n",
    "    return data_energy[\"allocation energy\"].values.tolist()"
   ]
  },
  {
   "cell_type": "code",
   "execution_count": null,
   "metadata": {},
   "outputs": [],
   "source": []
  },
  {
   "cell_type": "code",
   "execution_count": 29,
   "metadata": {},
   "outputs": [],
   "source": [
    "def repartition_energy_strategy_11(data_energy,percentage):\n",
    "    \"\"\"This strategy involves allocating the 50,000 DSML zillion of energy to the planets in the following manner. \n",
    "    Each galaxy will have 0  DSML energy at the start, then we distribute the remaining energy by allocating 100  \n",
    "    DSML energy to the planets with the smallest prediction of y by making sure to reach 10% for planets having a\n",
    "    <0.7 this is our best methode of repartition energy\"\"\"\n",
    "    \n",
    "    #Here we replace all missing data by the median value or the next data\n",
    "    data_energy=data_energy.fillna(data_energy.mean())\n",
    "\n",
    "    #we axtract the index in decreasing order of y\n",
    "    index_sort_=data_energy.sort_values([\"y\"],ascending=[True])[\"y\"].index\n",
    "        \n",
    "    #energy sharing\n",
    "    energy_for_max=50000-93\n",
    "    #percentage value\n",
    "    percentage_inf_0_7=0.0\n",
    "    percentage_sup_0_7=0.0\n",
    "    \n",
    "    #we give 1  DSML energy for all galaxy\n",
    "    data_energy[\"allocation energy\"]=data_energy[\"existence expectancy index\"]*0\n",
    "    \n",
    "    #We distribute energy in the following way: we allocate 100DSML of energy to all the planets including\n",
    "    # the index is weak there by trying not to exceed the value of the energy allocated to each part.\n",
    "    for i in range(300):\n",
    "        if(energy_for_max>0):\n",
    "            if(data_energy[\"existence expectancy index\"][index_sort_[i]]<0.7 and percentage_inf_0_7<5000):\n",
    "                data_energy[\"allocation energy\"][index_sort_[i]]=100\n",
    "                energy_for_max-=100\n",
    "                percentage_inf_0_7+=data_energy[\"allocation energy\"][index_sort_[i]]\n",
    "            else:\n",
    "                data_energy[\"allocation energy\"][index_sort_[i]]=100\n",
    "                energy_for_max-=100\n",
    "                percentage_sup_0_7+=data_energy[\"allocation energy\"][index_sort_[i]]\n",
    "                \n",
    "    #we give energy of the next 100\n",
    "    tamp=100\n",
    "    for i in range(300,599):\n",
    "        if(energy_for_max>0):\n",
    "            if(data_energy[\"existence expectancy index\"][index_sort_[i]]<0.7 and percentage_inf_0_7<5000):\n",
    "                data_energy[\"allocation energy\"][index_sort_[i]]=tamp\n",
    "                energy_for_max-=tamp\n",
    "                if(i%3==0):\n",
    "                    tamp-=1\n",
    "                percentage_inf_0_7+=data_energy[\"allocation energy\"][index_sort_[i]]\n",
    "            else:\n",
    "                data_energy[\"allocation energy\"][index_sort_[i]]=tamp\n",
    "                energy_for_max-=tamp\n",
    "                if(i%3==0):\n",
    "                    tamp-=1\n",
    "                percentage_sup_0_7+=data_energy[\"allocation energy\"][index_sort_[i]]\n",
    "       \n",
    "    print(\"percentage_sup_0_7==\",percentage_sup_0_7/50000)\n",
    "    print(\"percentage_inf_0_7==\",percentage_inf_0_7/50000)\n",
    "    print(\"Total energy==\",data_energy[\"allocation energy\"].sum())\n",
    "    \n",
    "    return data_energy[\"allocation energy\"].values.tolist()"
   ]
  },
  {
   "cell_type": "code",
   "execution_count": null,
   "metadata": {},
   "outputs": [],
   "source": []
  },
  {
   "cell_type": "code",
   "execution_count": null,
   "metadata": {},
   "outputs": [],
   "source": []
  },
  {
   "cell_type": "code",
   "execution_count": null,
   "metadata": {},
   "outputs": [],
   "source": []
  },
  {
   "cell_type": "code",
   "execution_count": null,
   "metadata": {},
   "outputs": [],
   "source": []
  },
  {
   "cell_type": "code",
   "execution_count": null,
   "metadata": {},
   "outputs": [],
   "source": []
  },
  {
   "cell_type": "markdown",
   "metadata": {},
   "source": [
    "# <center> Uses this function for to have statistique in our prediction </center> #"
   ]
  },
  {
   "cell_type": "code",
   "execution_count": 30,
   "metadata": {},
   "outputs": [],
   "source": [
    "def optimization_energey_statistique(prediction_liste):\n",
    "    \"\"\"This function calculate the potential for increase in the index, the Likely increase in the index, the total\n",
    "    energy and the total index\"\"\"\n",
    "    \n",
    "    size_list=len(prediction_liste)\n",
    "    Potential_for_increase_in_the_Index=0.0\n",
    "    Likely_increase_in_the_Index=0.0\n",
    "    total_index=0.0\n",
    "    \n",
    "    for i in range(size_list):\n",
    "        Potential_for_increase_in_the_Index+= -np.log(prediction_liste[i][0]+0.01)+3\n",
    "        Likely_increase_in_the_Index+=prediction_liste[i][1]*(-np.log(prediction_liste[i][0]+0.01)+3)*(-np.log(prediction_liste[i][0]+0.01)+3)/1000\n",
    "        total_index+=prediction_liste[i][0]\n",
    "        \n",
    "    return Potential_for_increase_in_the_Index, Likely_increase_in_the_Index, total_index"
   ]
  },
  {
   "cell_type": "code",
   "execution_count": null,
   "metadata": {},
   "outputs": [],
   "source": []
  },
  {
   "cell_type": "markdown",
   "metadata": {},
   "source": [
    "# <center> Prediction Error Visualization Tools </center> #"
   ]
  },
  {
   "cell_type": "code",
   "execution_count": 98,
   "metadata": {},
   "outputs": [],
   "source": [
    "def graphe_error_visualization(Y_node_test_preprocessing,prediction_):\n",
    "    \"\"\"This function allow us to see the difference between of the real target y and the prediction\"\"\"\n",
    "    \n",
    "    Y1=Y_node_test_preprocessing\n",
    "    Y2=prediction_\n",
    "    size_list=len(Y_node_test_preprocessing)\n",
    "    X=np.arange(0, size_list)\n",
    "    \n",
    "    plt.figure(figsize=(40,15))\n",
    "    plt.plot(X, Y2, 'b', label=\"prediction\")\n",
    "    plt.plot(X, Y1, 'r', label=\"Y_node_test_preprocessing\")\n",
    "    plt.legend(loc='best', fontsize=8)\n",
    "    plt.xlabel('NUMBER OF PARAMETERS')\n",
    "    plt.title('GRAPH')\n",
    "    plt.show()\n",
    "    \n",
    "    plt.figure(figsize=(40,15))\n",
    "    plt.plot(X, Y1, 'r', label=\"Y_node_test_preprocessing\")\n",
    "    plt.plot(X, Y2, 'b', label=\"prediction\")\n",
    "    plt.legend(loc='best', fontsize=8)\n",
    "    plt.xlabel('NUMBER OF PARAMETERS')\n",
    "    plt.title('GRAPH')\n",
    "    plt.show()"
   ]
  },
  {
   "cell_type": "code",
   "execution_count": null,
   "metadata": {},
   "outputs": [],
   "source": []
  },
  {
   "cell_type": "markdown",
   "metadata": {},
   "source": [
    "# <center> Error Analysis Function </center> #"
   ]
  },
  {
   "cell_type": "code",
   "execution_count": 99,
   "metadata": {},
   "outputs": [],
   "source": [
    "def error_change(Y_node_test_preprocessing,prediction_,rate):\n",
    "    \"\"\"this function displays the targets that present a prediction error greater than rate and make the \n",
    "    correction. After that, the function displays the RMSE before processing by the function and the RMSE after \n",
    "    processing\"\"\"\n",
    "    \n",
    "    rmse1=sqrt(mean_squared_error(Y_node_test_preprocessing,prediction_))\n",
    "    \n",
    "    Y_node_test_preprocessing_values=np.array(Y_node_test_preprocessing.values)\n",
    "    prediction_value=np.array(prediction_)\n",
    "    \n",
    "    for i in range(len(Y_node_test_preprocessing_values)):\n",
    "    \n",
    "        if(Y_node_test_preprocessing_values[i]-prediction_value[i]>rate):\n",
    "            print(\"Y_node_test_preprocessing[\",i,\"]=\",Y_node_test_preprocessing_values[i],\"    prediction_value[\",i,\"]=\",prediction_value[i],\" error=\",Y_node_test_preprocessing_values[i]-prediction_value[i])\n",
    "            prediction_value[i]+=Y_node_test_preprocessing_values[i]-prediction_value[i]\n",
    "    \n",
    "        if(prediction_value[i]-Y_node_test_preprocessing_values[i]>rate):\n",
    "            print(\"Y_node_test_preprocessing[\",i,\"]=\",Y_node_test_preprocessing_values[i],\"    prediction_value[\",i,\"]=\",prediction_value[i],\" error=\",prediction_value[i]-Y_node_test_preprocessing_values[i])\n",
    "            Y_node_test_preprocessing_values[i]+=prediction_value[i]-Y_node_test_preprocessing_values[i]\n",
    "    \n",
    "    rmse2=sqrt(mean_squared_error(Y_node_test_preprocessing_values,prediction_value))\n",
    "    \n",
    "    print(\"FIRST ERROR=\",rmse1,\"   SECOND ERROR=\",rmse2)"
   ]
  },
  {
   "cell_type": "code",
   "execution_count": null,
   "metadata": {},
   "outputs": [],
   "source": []
  },
  {
   "cell_type": "markdown",
   "metadata": {},
   "source": [
    "# <center> PREDICTION ALGORITHM </center> #\n",
    "\n",
    "# 1-- we have implemented several classification algorithms. The goal is to determine which is the best algorithm.\n",
    "# 2-- For each algorithm, we determined the execution time and we built a graph which gives the precision graph as a function of the number of parameters\n",
    "# 3-- To train our prediction algorithms, we split the data into 2 parts: 70% for training the data and 30% for testing the data.\n"
   ]
  },
  {
   "cell_type": "markdown",
   "metadata": {},
   "source": [
    "# GRADIENT BOOSTING REGRESSOR #\n"
   ]
  },
  {
   "cell_type": "code",
   "execution_count": 150,
   "metadata": {},
   "outputs": [
    {
     "name": "stdout",
     "output_type": "stream",
     "text": [
      "\n",
      "Time taken: 0 hours 2 minutes and 39.56 seconds.\n"
     ]
    }
   ],
   "source": [
    "#load data \n",
    "train_data=pd.read_csv(\"DATA/train.csv\")\n",
    "\n",
    "#we extract the index in training data\n",
    "Y_train_data_preprocessing=train_data[\"y\"]\n",
    "\n",
    "#we delete the index so that our the dataframe can be processed by our preprocessing function\n",
    "del train_data[\"y\"]\n",
    "\n",
    "#preprocessing Data\n",
    "train_data_preprocessing=Feature_Engineering_version_4(train_data)\n",
    "\n",
    "#to divide data to training and testing data\n",
    "DATA_node_train_preprocessing, DATA_node_test_preprocessing, Y_node_train_preprocessing, Y_node_test_preprocessing= train_test_split(train_data_preprocessing, Y_train_data_preprocessing, test_size=0.2, random_state=10)\n",
    "\n",
    "\n",
    "#TRAINING THE MODEL FOR A LOT OF PARAMETER\n",
    "#for trace the graph\n",
    "accuracy_BaggingRegressor=[]\n",
    "parameter_BaggingRegressor=[]\n",
    "\n",
    "#for obtain the best caracteristique\n",
    "min_rmse=1.0\n",
    "rate=0.0\n",
    "estimator=0\n",
    "\n",
    "start_time = timer(None)\n",
    "for i in range(10000,10001):\n",
    "    parameter_BaggingRegressor.append(i+1)\n",
    "    bagging_regressor = GradientBoostingRegressor(n_estimators=i+1, learning_rate= 0.09, max_depth=3,min_samples_split=3, min_samples_leaf=1)\n",
    "    #training the bagging model\n",
    "    bagging_regressor.fit(DATA_node_train_preprocessing, Y_node_train_preprocessing)\n",
    "\n",
    "    #predictor and calcul rms\n",
    "    prediction_=bagging_regressor.predict(DATA_node_test_preprocessing)\n",
    "    rmse=sqrt(mean_squared_error(Y_node_test_preprocessing,prediction_))\n",
    "    if(rmse<min_rmse):\n",
    "        min_rmse=rmse\n",
    "        rate=0.02\n",
    "        estimator=i+1\n",
    "    accuracy_BaggingRegressor.append(rmse)\n",
    "timer(start_time)"
   ]
  },
  {
   "cell_type": "code",
   "execution_count": 151,
   "metadata": {},
   "outputs": [
    {
     "data": {
      "image/png": "[encoded data removed]",
      "text/plain": [
       "<Figure size 432x288 with 1 Axes>"
      ]
     },
     "metadata": {
      "needs_background": "light"
     },
     "output_type": "display_data"
    },
    {
     "name": "stdout",
     "output_type": "stream",
     "text": [
      "MIN ERROR RMSE== 0.015500878442443708     OBTAIN WITH learning_rate== 0.02      and n_estimators== 10001\n"
     ]
    }
   ],
   "source": [
    "#BUILD THE GRAPH\n",
    "X=np.array(parameter_BaggingRegressor)\n",
    "Y=np.array(accuracy_BaggingRegressor)\n",
    "plt.plot(X, Y, 'r')\n",
    "plt.xlabel('NUMBER OF PARAMETERS')\n",
    "plt.ylabel('RMSE ERROR')\n",
    "plt.title('GRAPH')\n",
    "plt.show()\n",
    "print(\"MIN ERROR RMSE==\",min_rmse,\"    OBTAIN WITH learning_rate==\",rate,\"     and n_estimators==\",estimator)"
   ]
  },
  {
   "cell_type": "code",
   "execution_count": null,
   "metadata": {},
   "outputs": [],
   "source": []
  },
  {
   "cell_type": "code",
   "execution_count": null,
   "metadata": {},
   "outputs": [],
   "source": [
    "#visualisation error\n",
    "graphe_error_visualization(Y_node_test_preprocessing,prediction_)"
   ]
  },
  {
   "cell_type": "code",
   "execution_count": null,
   "metadata": {},
   "outputs": [],
   "source": []
  },
  {
   "cell_type": "code",
   "execution_count": 156,
   "metadata": {},
   "outputs": [],
   "source": [
    "#analyze the error\n",
    "error_change(Y_node_test_preprocessing,prediction_,0.04)"
   ]
  },
  {
   "cell_type": "code",
   "execution_count": 97,
   "metadata": {},
   "outputs": [],
   "source": []
  },
  {
   "cell_type": "markdown",
   "metadata": {},
   "source": [
    "MIN ERROR RMSE== 0.020920659887323532     OBTAIN WITH learning_rate== 0.02      and n_estimators== 100001\n",
    "MIN ERROR RMSE== 0.020967149332005625     OBTAIN WITH learning_rate== 0.02      and n_estimators== 500001\n",
    "MIN ERROR RMSE== 0.020858002041096474     OBTAIN WITH learning_rate== 0.02      and n_estimators== 100001 \n",
    "        MAX_DEPTH=3 MIN_SAMPLES_SPLIT=3 MIN_SAMPLES_LEAF=1\n",
    "MIN ERROR RMSE== 0.02079566695403087     OBTAIN WITH learning_rate== 0.02      and n_estimators== 100001\n",
    "        MAX_DEPTH=3 MIN_SAMPLES_SPLIT=3 MIN_SAMPLES_LEAF=1\n",
    "MIN ERROR RMSE== 0.020557447070987417     OBTAIN WITH learning_rate== 0.09      and n_estimators== 100001\n",
    "        MAX_DEPTH=3 MIN_SAMPLES_SPLIT=3 MIN_SAMPLES_LEAF=1\n",
    "MIN ERROR RMSE== 0.020528025813641004     OBTAIN WITH learning_rate== 0.02      and n_estimators== 100001\n",
    "        MAX_DEPTH=3 MIN_SAMPLES_SPLIT=3 MIN_SAMPLES_LEAF=1\n"
   ]
  },
  {
   "cell_type": "code",
   "execution_count": 133,
   "metadata": {},
   "outputs": [],
   "source": [
    "def Feature_Engineering_version_4(data):\n",
    "    \"\"\"We use this function to do the preprocessing of the datas\"\"\"\n",
    "    ###############################################################################################################\n",
    "    #--------------------------------------------------------------------------------------------------------------\n",
    "    #test submission\n",
    "    test_data=pd.read_csv(\"DATA/test.csv\")\n",
    "    train_data=pd.read_csv(\"DATA/train.csv\")\n",
    "    #--------------------------------------------------------------------------------------------------------------    \n",
    "    #Add the columns training data of preprocessing in the data\n",
    "    TEST_A_0=pd.get_dummies(train_data.galaxy)\n",
    "    TEST_A_COLUMNS_0=TEST_A_0.columns\n",
    "    for INDEX in TEST_A_COLUMNS_0:\n",
    "        data[INDEX]=TEST_A_0[INDEX]*0\n",
    "    #--------------------------------------------------------------------------------------------------------------\n",
    "    #Add the columns testing of preprocessing in the data\n",
    "    TEST_A_0=pd.get_dummies(test_data.galaxy)\n",
    "    TEST_A_COLUMNS_0=TEST_A_0.columns\n",
    "    for INDEX in TEST_A_COLUMNS_0:\n",
    "        data[INDEX]=TEST_A_0[INDEX]*0\n",
    "    #--------------------------------------------------------------------------------------------------------------\n",
    "    #we transforme the categorial variable galaxy in integer\n",
    "    TEST_A=pd.get_dummies(data.galaxy)\n",
    "    TEST_A_COLUMNS=TEST_A.columns\n",
    "    for INDEX in TEST_A_COLUMNS:\n",
    "        data[INDEX]=TEST_A[INDEX]\n",
    "    #--------------------------------------------------------------------------------------------------------------\n",
    "    data[\"Life expectancy at birth\"]=data[\"Life expectancy at birth, male (galactic years)\"]*data[\"Life expectancy at birth, female (galactic years)\"]/2\n",
    "    del data[\"existence expectancy at birth\"]\n",
    "    ###############################################################################################################\n",
    "    ###############################################################################################################\n",
    "    #--------------------------------------------------------------------------------------------------------------\n",
    "    #data[\"existence expectancy\"]=data[\"existence expectancy index\"]*data[\"existence expectancy at birth\"]\n",
    "    #data[\"Intergalactic Development Index (IDI) Rank\"]=data[\"Intergalactic Development Index (IDI), female, Rank\"]*data[\"Intergalactic Development Index (IDI), male, Rank\"]/2\n",
    "    #data[\"Intergalactic Development Index (IDI)\"]=data[\"Intergalactic Development Index (IDI), female\"]*data[\"Intergalactic Development Index (IDI), male\"]/2\n",
    "    #data[\"Estimated gross galactic income per capita\"]=data[\"Estimated gross galactic income per capita, male\"]*data[\"Estimated gross galactic income per capita, female\"]/2\n",
    "    #data[\"Expected years of education\"]=data[\"Expected years of education, female (galactic years)\"]*data[\"Expected years of education, male (galactic years)\"]/2\n",
    "    #data[\"Mean years of education\"]=data[\"Mean years of education, female (galactic years)\"]*data[\"Mean years of education, male (galactic years)\"]/2\n",
    "    #data[\"Youth unemployment\"]=data[\"Youth unemployment rate (female to male ratio)\"]*data[\"Mortality rate, female grown up (per 1,000 people)\"]\n",
    "    #data[\"123 456 789\"]=data[\"Population with at least some secondary education (% ages 25 and older)\"]*data[\"Population, total (millions)\"]\n",
    "    #data[\"123 456 789\"]=data[\"galactic year\"]*data[\"Exports and imports (% of GGP)\"]\n",
    "    data[\"random\"]=data[\"Labour force participation rate (% ages 15 and older), female\"]*data[\"Mortality rate, male grown up (per 1,000 people)\"]/2\n",
    "    #data[\"random1\"]=data[\"Labour force participation rate (% ages 15 and older)\"]*data[\"Mortality rate, female grown up (per 1,000 people)\"]/2\n",
    "    data[\"random123456\"]=data[\"Labour force participation rate (% ages 15 and older), female\"]\n",
    "    #data[\"Labour force participatio\"]=data[\"Labour force participation rate (% ages 15 and older)\"]*data[\"Labour force participation rate (% ages 15 and older), female\"]/2\n",
    "    #data[\"\"]=data[\"\"]data[\"\"]\n",
    "    #data[\"\"]=data[\"\"]data[\"\"]\n",
    "    #data[\"\"]=data[\"\"]data[\"\"]\n",
    "    #data[\"\"]=data[\"\"]data[\"\"]\n",
    "    #data[\"\"]=data[\"\"]data[\"\"]\n",
    "    #data[\"\"]=data[\"\"]data[\"\"]\n",
    "    #data[\"\"]=data[\"\"]data[\"\"]\n",
    "    #data[\"\"]=data[\"\"]data[\"\"]\n",
    "    #del data[\"galactic year\"]\n",
    "    #del data[\"Mortality rate, female grown up (per 1,000 people)\"]\n",
    "    #del data[\"Mortality rate, male grown up (per 1,000 people)\"]\n",
    "    #we transform the galaxy in galaxy_encoding in this list\n",
    "    #--------------------------------------------------------------------------------------------------------------\n",
    "    ###############################################################################################################\n",
    "    ###############################################################################################################\n",
    "    #delete the catagoricial not necessary variable\n",
    "    del data[\"galaxy\"]\n",
    "    del data[\"Current health expenditure (% of GGP)\"]\n",
    "    del data[\"Respiratory disease incidence (per 100,000 people)\"]\n",
    "    del data[\"Labour force participation rate (% ages 15 and older), female\"]\n",
    "    del data[\"Labour force participation rate (% ages 15 and older)\"]\n",
    "    #--------------------------------------------------------------------------------------------------------------\n",
    "    column_uses_for_the_training[1]=\"galaxy_encoding\"\n",
    "    \n",
    "    #Here we take care of the outlier\n",
    "    \n",
    "    #Here we replace all missing data by the median value or the next data\n",
    "    data=data.fillna(data.mean())\n",
    "    \n",
    "    #transforme dataframe in array numpy\n",
    "    Array_data=data.values\n",
    "    \n",
    "    return Array_data"
   ]
  },
  {
   "cell_type": "code",
   "execution_count": null,
   "metadata": {},
   "outputs": [],
   "source": []
  },
  {
   "cell_type": "code",
   "execution_count": null,
   "metadata": {},
   "outputs": [],
   "source": []
  },
  {
   "cell_type": "code",
   "execution_count": null,
   "metadata": {},
   "outputs": [],
   "source": []
  },
  {
   "cell_type": "code",
   "execution_count": null,
   "metadata": {},
   "outputs": [],
   "source": [
    "MIN ERROR RMSE== 0.01989708933947141     OBTAIN WITH learning_rate== 0.02      and n_estimators== 10001->median : \n",
    "MIN ERROR RMSE== 0.01723624213581525     OBTAIN WITH learning_rate== 0.02      and n_estimators== 10001\n",
    "MIN ERROR RMSE== 0.01657887536976412     OBTAIN WITH learning_rate== 0.02      and n_estimators== 10001\n",
    "MIN ERROR RMSE== 0.01610883821330026     OBTAIN WITH learning_rate== 0.02      and n_estimators== 10001\n",
    "MIN ERROR RMSE== 0.01585686397528856     OBTAIN WITH learning_rate== 0.02      and n_estimators== 10001->delete existence expectancy at birth : "
   ]
  },
  {
   "cell_type": "code",
   "execution_count": null,
   "metadata": {},
   "outputs": [],
   "source": []
  },
  {
   "cell_type": "code",
   "execution_count": null,
   "metadata": {},
   "outputs": [],
   "source": []
  },
  {
   "cell_type": "code",
   "execution_count": 141,
   "metadata": {},
   "outputs": [],
   "source": [
    "test_data=pd.read_csv(\"DATA/test.csv\")\n",
    "#print(np.exp(test_data[\"existence expectancy at birth\"]))\n",
    "test_data[\"sawadogo\"]=np.exp(test_data[\"existence expectancy at birth\"])"
   ]
  },
  {
   "cell_type": "code",
   "execution_count": 145,
   "metadata": {},
   "outputs": [
    {
     "name": "stdout",
     "output_type": "stream",
     "text": [
      "100.42765303163964\n"
     ]
    }
   ],
   "source": [
    "print(test_data[\"existence expectancy at birth\"].max())"
   ]
  },
  {
   "cell_type": "code",
   "execution_count": 147,
   "metadata": {},
   "outputs": [
    {
     "data": {
      "text/plain": [
       "101.0"
      ]
     },
     "execution_count": 147,
     "metadata": {},
     "output_type": "execute_result"
    }
   ],
   "source": [
    "np.log(np.exp(101))"
   ]
  },
  {
   "cell_type": "code",
   "execution_count": null,
   "metadata": {},
   "outputs": [],
   "source": []
  },
  {
   "cell_type": "code",
   "execution_count": null,
   "metadata": {},
   "outputs": [],
   "source": []
  },
  {
   "cell_type": "code",
   "execution_count": 56,
   "metadata": {},
   "outputs": [
    {
     "name": "stderr",
     "output_type": "stream",
     "text": [
      "/home/panongbene/anaconda3/lib/python3.7/site-packages/ipykernel_launcher.py:31: SettingWithCopyWarning: \n",
      "A value is trying to be set on a copy of a slice from a DataFrame\n",
      "\n",
      "See the caveats in the documentation: http://pandas.pydata.org/pandas-docs/stable/indexing.html#indexing-view-versus-copy\n",
      "/home/panongbene/anaconda3/lib/python3.7/site-packages/ipykernel_launcher.py:27: SettingWithCopyWarning: \n",
      "A value is trying to be set on a copy of a slice from a DataFrame\n",
      "\n",
      "See the caveats in the documentation: http://pandas.pydata.org/pandas-docs/stable/indexing.html#indexing-view-versus-copy\n",
      "/home/panongbene/anaconda3/lib/python3.7/site-packages/ipykernel_launcher.py:46: SettingWithCopyWarning: \n",
      "A value is trying to be set on a copy of a slice from a DataFrame\n",
      "\n",
      "See the caveats in the documentation: http://pandas.pydata.org/pandas-docs/stable/indexing.html#indexing-view-versus-copy\n"
     ]
    },
    {
     "name": "stdout",
     "output_type": "stream",
     "text": [
      "percentage_sup_0_7== 0.799\n",
      "percentage_inf_0_7== 0.1\n",
      "Total energy== 44950.0\n",
      "----------------------------------------------------------------------------------------------------------\n",
      "POTENTIAL FOR INCREASE ON THE INDEX  =  5029.346662953033\n",
      "LIKELY INCREASE IN THE INDEX         =  1689.7530896173425\n",
      "TOTAL INDEX                          =  71.13751091666992\n"
     ]
    }
   ],
   "source": [
    "#test submission\n",
    "test_data=pd.read_csv(\"DATA/test.csv\")\n",
    "train_data=pd.read_csv(\"DATA/train.csv\")\n",
    "\n",
    "#we extract the index in training data\n",
    "Y_train_data_preprocessing=train_data[\"y\"]\n",
    "\n",
    "#we delete the index so that our the dataframe can be processed by our preprocessing function\n",
    "del train_data[\"y\"]\n",
    "################################################################################################################\n",
    "#--------------------------------------------------------------------------------------------------------------#\n",
    "#preprocessing Data\n",
    "#train_data_preprocessing=Feature_Engineering_version_1train_data)\n",
    "#test_data_preprocessing=Feature_Engineering_version_1(test_data)\n",
    "#train_data_preprocessing=Feature_Engineering_version_2(train_data)\n",
    "#test_data_preprocessing=Feature_Engineering_version_2(test_data)\n",
    "train_data_preprocessing=Feature_Engineering_version_3(train_data)\n",
    "test_data_preprocessing=Feature_Engineering_version_3(test_data)\n",
    "#train_data_preprocessing=Feature_Engineering_version_4(train_data)\n",
    "#test_data_preprocessing=Feature_Engineering_version_4(test_data)\n",
    "#--------------------------------------------------------------------------------------------------------------#\n",
    "################################################################################################################\n",
    "#build the model\n",
    "bagging_regressor = GradientBoostingRegressor(n_estimators=10001, learning_rate= 0.09, max_depth=3,min_samples_split=3, min_samples_leaf=1)\n",
    "\n",
    "#fit the model\n",
    "bagging_regressor.fit(train_data_preprocessing, Y_train_data_preprocessing)\n",
    "\n",
    "\n",
    "prediction_test=bagging_regressor.predict(test_data_preprocessing)\n",
    "test_data[\"y\"]=prediction_test\n",
    "################################################################################################################\n",
    "#---------------------------------------------------------------------------------------------------------------\n",
    "#op_pred=repartition_energy_strategy_1(test_data,10)\n",
    "#op_pred=repartition_energy_strategy_2(test_data,11)\n",
    "#op_pred=repartition_energy_strategy_3(test_data,11)\n",
    "#op_pred=repartition_energy_strategy_4(test_data,10)\n",
    "#op_pred=repartition_energy_strategy_5(test_data,10)\n",
    "#op_pred=repartition_energy_strategy_6(test_data,10)\n",
    "#op_pred=repartition_energy_strategy_7(test_data,10)\n",
    "#op_pred=repartition_energy_strategy_9(test_data,10)\n",
    "#op_pred=repartition_energy_strategy_10(test_data,10)\n",
    "#op_pred=repartition_energy_strategy_11(test_data,10)\n",
    "op_pred=repartition_energy_strategy_12(test_data,10)\n",
    "#---------------------------------------------------------------------------------------------------------------\n",
    "################################################################################################################\n",
    "prediction_liste=[]\n",
    "#---------------------------------------------------------------------------------------------------------------\n",
    "for i in range(prediction_test.shape[0]):\n",
    "    prediction_liste.append([prediction_test[i],op_pred[i]])\n",
    "\n",
    "#statistique \n",
    "Potential_for_increase_in_the_Index, Likely_increase_in_the_Index, total_index=optimization_energey_statistique(prediction_liste)\n",
    "print(\"----------------------------------------------------------------------------------------------------------\")\n",
    "print(\"POTENTIAL FOR INCREASE ON THE INDEX  = \",Potential_for_increase_in_the_Index)\n",
    "print(\"LIKELY INCREASE IN THE INDEX         = \",Likely_increase_in_the_Index)\n",
    "print(\"TOTAL INDEX                          = \",total_index)\n",
    "\n",
    "#save the prediction\n",
    "#save_liste(prediction_liste,\"prediction_\")"
   ]
  },
  {
   "cell_type": "code",
   "execution_count": 70,
   "metadata": {},
   "outputs": [
    {
     "name": "stdout",
     "output_type": "stream",
     "text": [
      "0.5195756756090388\n",
      "0.5815595307693956\n",
      "0.4448283317114444\n",
      "0.41586820469764735\n"
     ]
    }
   ],
   "source": [
    "prediction_test_test=np.array(prediction_test)\n",
    "for i in range(len(prediction_test)):\n",
    "    if(prediction_test_test[i]>0.4):\n",
    "        print(prediction_test_test[i])"
   ]
  },
  {
   "cell_type": "code",
   "execution_count": null,
   "metadata": {},
   "outputs": [],
   "source": []
  },
  {
   "cell_type": "code",
   "execution_count": 55,
   "metadata": {},
   "outputs": [],
   "source": [
    "def repartition_energy_strategy_12(data_energy,percentage):\n",
    "    \"\"\"This strategy involves allocating the 50,000 DSML zillion of energy to the planets in the following manner. \n",
    "    Each galaxy will have 0  DSML energy at the start, then we distribute the remaining energy by allocating 100  \n",
    "    DSML energy to the planets with the smallest prediction of y by making sure to reach 10% for planets having a\n",
    "    <0.7 this is our best methode of repartition energy\"\"\"\n",
    "    \n",
    "    #Here we replace all missing data by the median value or the next data\n",
    "    data_energy=data_energy.fillna(data_energy.mean())\n",
    "\n",
    "    #we axtract the index in decreasing order of y\n",
    "    index_sort_=data_energy.sort_values([\"y\"],ascending=[True])[\"y\"].index\n",
    "        \n",
    "    #energy sharing\n",
    "    energy_for_max=50000-93\n",
    "    #percentage value\n",
    "    percentage_inf_0_7=0.0\n",
    "    percentage_sup_0_7=0.0\n",
    "    \n",
    "    #we give 1  DSML energy for all galaxy\n",
    "    data_energy[\"allocation energy\"]=data_energy[\"existence expectancy index\"]*0\n",
    "    \n",
    "    #We distribute energy in the following way: we allocate 100DSML of energy to all the planets including\n",
    "    # the index is weak there by trying not to exceed the value of the energy allocated to each part.\n",
    "    for i in range(300):\n",
    "        if(energy_for_max>0):\n",
    "            if(data_energy[\"existence expectancy index\"][index_sort_[i]]<0.7 and percentage_inf_0_7<5000):\n",
    "                data_energy[\"allocation energy\"][index_sort_[i]]=100\n",
    "                energy_for_max-=100\n",
    "                percentage_inf_0_7+=data_energy[\"allocation energy\"][index_sort_[i]]\n",
    "            else:\n",
    "                data_energy[\"allocation energy\"][index_sort_[i]]=100\n",
    "                energy_for_max-=100\n",
    "                percentage_sup_0_7+=data_energy[\"allocation energy\"][index_sort_[i]]\n",
    "                \n",
    "    #we give energy of the next 100\n",
    "    tamp=100\n",
    "    for i in range(300,599):\n",
    "        if(energy_for_max>0):\n",
    "            if(data_energy[\"existence expectancy index\"][index_sort_[i]]<0.7 and percentage_inf_0_7<5000):\n",
    "                data_energy[\"allocation energy\"][index_sort_[i]]=tamp\n",
    "                energy_for_max-=tamp\n",
    "                if(i%3==0):\n",
    "                    tamp-=1\n",
    "                percentage_inf_0_7+=data_energy[\"allocation energy\"][index_sort_[i]]\n",
    "            else:\n",
    "                data_energy[\"allocation energy\"][index_sort_[i]]=tamp\n",
    "                energy_for_max-=tamp\n",
    "                if(i%3==0):\n",
    "                    tamp-=1\n",
    "                percentage_sup_0_7+=data_energy[\"allocation energy\"][index_sort_[i]]\n",
    "       \n",
    "    print(\"percentage_sup_0_7==\",percentage_sup_0_7/50000)\n",
    "    print(\"percentage_inf_0_7==\",percentage_inf_0_7/50000)\n",
    "    print(\"Total energy==\",data_energy[\"allocation energy\"].sum())\n",
    "    \n",
    "    return data_energy[\"allocation energy\"].values.tolist()"
   ]
  },
  {
   "cell_type": "code",
   "execution_count": null,
   "metadata": {},
   "outputs": [],
   "source": []
  },
  {
   "cell_type": "code",
   "execution_count": 165,
   "metadata": {},
   "outputs": [],
   "source": []
  },
  {
   "cell_type": "code",
   "execution_count": null,
   "metadata": {},
   "outputs": [],
   "source": []
  },
  {
   "cell_type": "code",
   "execution_count": null,
   "metadata": {},
   "outputs": [],
   "source": [
    "#op_pred=repartition_energy_strategy_5(test_data,10)\n",
    "percentage_sup_0_7== 0.86788\n",
    "percentage_inf_0_7== 0.132\n",
    "POTENTIAL FOR INCREASE ON THE INDEX  =  5002.288931566672\n",
    "LIKELY INCREASE IN THE INDEX         =  1845.3137889820994\n",
    "TOTAL INDEX                          =  72.84831390636701\n",
    "#op_pred=repartition_energy_strategy_6(test_data,10)\n",
    "percentage_sup_0_7== 0.89988\n",
    "percentage_inf_0_7== 0.1\n",
    "POTENTIAL FOR INCREASE ON THE INDEX  =  5003.845370998089\n",
    "LIKELY INCREASE IN THE INDEX         =  1850.1326338520128\n",
    "TOTAL INDEX                          =  73.15030614138203\n",
    "#op_pred=repartition_energy_strategy_6(test_data,10)==10001\n",
    "percentage_sup_0_7== 0.89988\n",
    "percentage_inf_0_7== 0.1\n",
    "POTENTIAL FOR INCREASE ON THE INDEX  =  5002.822920834223\n",
    "LIKELY INCREASE IN THE INDEX         =  1848.0800644412034\n",
    "TOTAL INDEX                          =  73.14867232815361\n",
    "#op_pred=repartition_energy_strategy_5(test_data,10)=10001\n",
    "percentage_sup_0_7== 0.86788\n",
    "percentage_inf_0_7== 0.132\n",
    "POTENTIAL FOR INCREASE ON THE INDEX  =  5002.548136507249\n",
    "LIKELY INCREASE IN THE INDEX         =  1847.8340468262816\n",
    "TOTAL INDEX                          =  73.1447088933696\n",
    "#op_pred=repartition_energy_strategy_4(test_data,10)=10001\n",
    "percentage_sup_0_7== 0.8890399999999755\n",
    "percentage_inf_0_7== 0.102\n",
    "POTENTIAL FOR INCREASE ON THE INDEX  =  5002.44429713667\n",
    "LIKELY INCREASE IN THE INDEX         =  1829.1378070213807\n",
    "TOTAL INDEX                          =  73.21192033270165\n",
    "#op_pred=repartition_energy_strategy_3(test_data,11)=10001\n",
    "percentage_sup_0_7== 0.889821999999999\n",
    "percentage_inf_0_7== 0.10997799999999998\n",
    "POTENTIAL FOR INCREASE ON THE INDEX  =  5002.940033743109\n",
    "LIKELY INCREASE IN THE INDEX         =  1671.7373396603184\n",
    "TOTAL INDEX                          =  73.15123132939549\n",
    "#op_pred=repartition_energy_strategy_2(test_data,11)=10001\n",
    "POTENTIAL FOR INCREASE ON THE INDEX  =  5002.0952960183995\n",
    "LIKELY INCREASE IN THE INDEX         =  1648.1500470471433\n",
    "TOTAL INDEX                          =  73.26254196177963\n",
    "#op_pred=repartition_energy_strategy_1(test_data,11)=10001\n",
    "POTENTIAL FOR INCREASE ON THE INDEX  =  5002.342979700957\n",
    "LIKELY INCREASE IN THE INDEX         =  1627.1542064459184\n",
    "TOTAL INDEX                          =  73.19998087350122\n",
    "#op_pred=repartition_energy_strategy_8(test_data,11)=10001\n",
    "percentage_sup_0_7== 0.9\n",
    "percentage_inf_0_7== 0.1\n",
    "Total energy== 50000.0\n",
    "POTENTIAL FOR INCREASE ON THE INDEX  =  5001.295519990818\n",
    "LIKELY INCREASE IN THE INDEX         =  1850.8819608038777\n",
    "TOTAL INDEX                          =  73.00876638217554\n",
    "#op_pred=repartition_energy_strategy_8(test_data,11)=10001\n",
    "percentage_sup_0_7== 0.9\n",
    "percentage_inf_0_7== 0.1\n",
    "Total energy== 50000.0\n",
    "POTENTIAL FOR INCREASE ON THE INDEX  =  5019.839939052477\n",
    "LIKELY INCREASE IN THE INDEX         =  1853.7819768026716\n",
    "TOTAL INDEX                          =  71.26682961595846\n",
    "#op_pred=repartition_energy_strategy_8(test_data,11)=10001\n",
    "percentage_sup_0_7== 0.9\n",
    "percentage_inf_0_7== 0.1\n",
    "Total energy== 50000.0\n",
    "POTENTIAL FOR INCREASE ON THE INDEX  =  5023.980554036348\n",
    "LIKELY INCREASE IN THE INDEX         =  1861.5233870477325\n",
    "TOTAL INDEX                          =  71.46667469924262\n",
    "\n",
    "#-------------------------------------------------------------------------------------------------------------#"
   ]
  },
  {
   "cell_type": "code",
   "execution_count": null,
   "metadata": {},
   "outputs": [],
   "source": []
  },
  {
   "cell_type": "markdown",
   "metadata": {},
   "source": [
    " ## IN HERE WE TRY TO BUILD THE GRAPHE OF LIKELY INCREASE IN FACT PARAMETOR OF MODEL USING GRADIENT BOOSTING "
   ]
  },
  {
   "cell_type": "code",
   "execution_count": 98,
   "metadata": {},
   "outputs": [
    {
     "name": "stderr",
     "output_type": "stream",
     "text": [
      "/home/panongbene/anaconda3/lib/python3.7/site-packages/ipykernel_launcher.py:27: SettingWithCopyWarning: \n",
      "A value is trying to be set on a copy of a slice from a DataFrame\n",
      "\n",
      "See the caveats in the documentation: http://pandas.pydata.org/pandas-docs/stable/indexing.html#indexing-view-versus-copy\n",
      "/home/panongbene/anaconda3/lib/python3.7/site-packages/ipykernel_launcher.py:31: SettingWithCopyWarning: \n",
      "A value is trying to be set on a copy of a slice from a DataFrame\n",
      "\n",
      "See the caveats in the documentation: http://pandas.pydata.org/pandas-docs/stable/indexing.html#indexing-view-versus-copy\n"
     ]
    },
    {
     "name": "stdout",
     "output_type": "stream",
     "text": [
      "percentage_sup_0_7== 0.9\n",
      "percentage_inf_0_7== 0.1\n",
      "Total energy== 50000.0\n",
      "POTENTIAL FOR INCREASE ON THE INDEX  =  4791.107294397383\n",
      "LIKELY INCREASE IN THE INDEX         =  1481.5331514719387\n",
      "TOTAL INDEX                          =  73.5710195281129\n"
     ]
    },
    {
     "name": "stderr",
     "output_type": "stream",
     "text": [
      "/home/panongbene/anaconda3/lib/python3.7/site-packages/ipykernel_launcher.py:31: SettingWithCopyWarning: \n",
      "A value is trying to be set on a copy of a slice from a DataFrame\n",
      "\n",
      "See the caveats in the documentation: http://pandas.pydata.org/pandas-docs/stable/indexing.html#indexing-view-versus-copy\n",
      "/home/panongbene/anaconda3/lib/python3.7/site-packages/ipykernel_launcher.py:27: SettingWithCopyWarning: \n",
      "A value is trying to be set on a copy of a slice from a DataFrame\n",
      "\n",
      "See the caveats in the documentation: http://pandas.pydata.org/pandas-docs/stable/indexing.html#indexing-view-versus-copy\n"
     ]
    },
    {
     "name": "stdout",
     "output_type": "stream",
     "text": [
      "percentage_sup_0_7== 0.9\n",
      "percentage_inf_0_7== 0.1\n",
      "Total energy== 50000.0\n",
      "POTENTIAL FOR INCREASE ON THE INDEX  =  4958.079242586148\n",
      "LIKELY INCREASE IN THE INDEX         =  1798.0748795371505\n",
      "TOTAL INDEX                          =  74.30858689736287\n"
     ]
    },
    {
     "name": "stderr",
     "output_type": "stream",
     "text": [
      "/home/panongbene/anaconda3/lib/python3.7/site-packages/ipykernel_launcher.py:31: SettingWithCopyWarning: \n",
      "A value is trying to be set on a copy of a slice from a DataFrame\n",
      "\n",
      "See the caveats in the documentation: http://pandas.pydata.org/pandas-docs/stable/indexing.html#indexing-view-versus-copy\n",
      "/home/panongbene/anaconda3/lib/python3.7/site-packages/ipykernel_launcher.py:27: SettingWithCopyWarning: \n",
      "A value is trying to be set on a copy of a slice from a DataFrame\n",
      "\n",
      "See the caveats in the documentation: http://pandas.pydata.org/pandas-docs/stable/indexing.html#indexing-view-versus-copy\n"
     ]
    },
    {
     "name": "stdout",
     "output_type": "stream",
     "text": [
      "percentage_sup_0_7== 0.9\n",
      "percentage_inf_0_7== 0.1\n",
      "Total energy== 50000.0\n",
      "POTENTIAL FOR INCREASE ON THE INDEX  =  4987.548874613591\n",
      "LIKELY INCREASE IN THE INDEX         =  1826.2617163581829\n",
      "TOTAL INDEX                          =  72.84447960783076\n"
     ]
    },
    {
     "name": "stderr",
     "output_type": "stream",
     "text": [
      "/home/panongbene/anaconda3/lib/python3.7/site-packages/ipykernel_launcher.py:31: SettingWithCopyWarning: \n",
      "A value is trying to be set on a copy of a slice from a DataFrame\n",
      "\n",
      "See the caveats in the documentation: http://pandas.pydata.org/pandas-docs/stable/indexing.html#indexing-view-versus-copy\n",
      "/home/panongbene/anaconda3/lib/python3.7/site-packages/ipykernel_launcher.py:27: SettingWithCopyWarning: \n",
      "A value is trying to be set on a copy of a slice from a DataFrame\n",
      "\n",
      "See the caveats in the documentation: http://pandas.pydata.org/pandas-docs/stable/indexing.html#indexing-view-versus-copy\n"
     ]
    },
    {
     "name": "stdout",
     "output_type": "stream",
     "text": [
      "percentage_sup_0_7== 0.9\n",
      "percentage_inf_0_7== 0.1\n",
      "Total energy== 50000.0\n",
      "POTENTIAL FOR INCREASE ON THE INDEX  =  5000.7967292813055\n",
      "LIKELY INCREASE IN THE INDEX         =  1838.1152371163605\n",
      "TOTAL INDEX                          =  72.18850952584411\n"
     ]
    },
    {
     "name": "stderr",
     "output_type": "stream",
     "text": [
      "/home/panongbene/anaconda3/lib/python3.7/site-packages/ipykernel_launcher.py:31: SettingWithCopyWarning: \n",
      "A value is trying to be set on a copy of a slice from a DataFrame\n",
      "\n",
      "See the caveats in the documentation: http://pandas.pydata.org/pandas-docs/stable/indexing.html#indexing-view-versus-copy\n",
      "/home/panongbene/anaconda3/lib/python3.7/site-packages/ipykernel_launcher.py:27: SettingWithCopyWarning: \n",
      "A value is trying to be set on a copy of a slice from a DataFrame\n",
      "\n",
      "See the caveats in the documentation: http://pandas.pydata.org/pandas-docs/stable/indexing.html#indexing-view-versus-copy\n"
     ]
    },
    {
     "name": "stdout",
     "output_type": "stream",
     "text": [
      "percentage_sup_0_7== 0.9\n",
      "percentage_inf_0_7== 0.1\n",
      "Total energy== 50000.0\n",
      "POTENTIAL FOR INCREASE ON THE INDEX  =  5008.328265479813\n",
      "LIKELY INCREASE IN THE INDEX         =  1846.456730997967\n",
      "TOTAL INDEX                          =  71.89764026759207\n"
     ]
    },
    {
     "name": "stderr",
     "output_type": "stream",
     "text": [
      "/home/panongbene/anaconda3/lib/python3.7/site-packages/ipykernel_launcher.py:31: SettingWithCopyWarning: \n",
      "A value is trying to be set on a copy of a slice from a DataFrame\n",
      "\n",
      "See the caveats in the documentation: http://pandas.pydata.org/pandas-docs/stable/indexing.html#indexing-view-versus-copy\n",
      "/home/panongbene/anaconda3/lib/python3.7/site-packages/ipykernel_launcher.py:27: SettingWithCopyWarning: \n",
      "A value is trying to be set on a copy of a slice from a DataFrame\n",
      "\n",
      "See the caveats in the documentation: http://pandas.pydata.org/pandas-docs/stable/indexing.html#indexing-view-versus-copy\n"
     ]
    },
    {
     "name": "stdout",
     "output_type": "stream",
     "text": [
      "percentage_sup_0_7== 0.9\n",
      "percentage_inf_0_7== 0.1\n",
      "Total energy== 50000.0\n",
      "POTENTIAL FOR INCREASE ON THE INDEX  =  5013.28639922767\n",
      "LIKELY INCREASE IN THE INDEX         =  1850.6402718911702\n",
      "TOTAL INDEX                          =  71.65728123167393\n"
     ]
    },
    {
     "name": "stderr",
     "output_type": "stream",
     "text": [
      "/home/panongbene/anaconda3/lib/python3.7/site-packages/ipykernel_launcher.py:31: SettingWithCopyWarning: \n",
      "A value is trying to be set on a copy of a slice from a DataFrame\n",
      "\n",
      "See the caveats in the documentation: http://pandas.pydata.org/pandas-docs/stable/indexing.html#indexing-view-versus-copy\n",
      "/home/panongbene/anaconda3/lib/python3.7/site-packages/ipykernel_launcher.py:27: SettingWithCopyWarning: \n",
      "A value is trying to be set on a copy of a slice from a DataFrame\n",
      "\n",
      "See the caveats in the documentation: http://pandas.pydata.org/pandas-docs/stable/indexing.html#indexing-view-versus-copy\n"
     ]
    },
    {
     "name": "stdout",
     "output_type": "stream",
     "text": [
      "percentage_sup_0_7== 0.9\n",
      "percentage_inf_0_7== 0.1\n",
      "Total energy== 50000.0\n",
      "POTENTIAL FOR INCREASE ON THE INDEX  =  5016.411350333299\n",
      "LIKELY INCREASE IN THE INDEX         =  1854.1013420389922\n",
      "TOTAL INDEX                          =  71.57294026324902\n"
     ]
    },
    {
     "name": "stderr",
     "output_type": "stream",
     "text": [
      "/home/panongbene/anaconda3/lib/python3.7/site-packages/ipykernel_launcher.py:31: SettingWithCopyWarning: \n",
      "A value is trying to be set on a copy of a slice from a DataFrame\n",
      "\n",
      "See the caveats in the documentation: http://pandas.pydata.org/pandas-docs/stable/indexing.html#indexing-view-versus-copy\n",
      "/home/panongbene/anaconda3/lib/python3.7/site-packages/ipykernel_launcher.py:27: SettingWithCopyWarning: \n",
      "A value is trying to be set on a copy of a slice from a DataFrame\n",
      "\n",
      "See the caveats in the documentation: http://pandas.pydata.org/pandas-docs/stable/indexing.html#indexing-view-versus-copy\n"
     ]
    },
    {
     "name": "stdout",
     "output_type": "stream",
     "text": [
      "percentage_sup_0_7== 0.9\n",
      "percentage_inf_0_7== 0.1\n",
      "Total energy== 50000.0\n",
      "POTENTIAL FOR INCREASE ON THE INDEX  =  5018.461807121872\n",
      "LIKELY INCREASE IN THE INDEX         =  1854.5294881254135\n",
      "TOTAL INDEX                          =  71.33539253707544\n"
     ]
    },
    {
     "name": "stderr",
     "output_type": "stream",
     "text": [
      "/home/panongbene/anaconda3/lib/python3.7/site-packages/ipykernel_launcher.py:31: SettingWithCopyWarning: \n",
      "A value is trying to be set on a copy of a slice from a DataFrame\n",
      "\n",
      "See the caveats in the documentation: http://pandas.pydata.org/pandas-docs/stable/indexing.html#indexing-view-versus-copy\n",
      "/home/panongbene/anaconda3/lib/python3.7/site-packages/ipykernel_launcher.py:27: SettingWithCopyWarning: \n",
      "A value is trying to be set on a copy of a slice from a DataFrame\n",
      "\n",
      "See the caveats in the documentation: http://pandas.pydata.org/pandas-docs/stable/indexing.html#indexing-view-versus-copy\n"
     ]
    },
    {
     "name": "stdout",
     "output_type": "stream",
     "text": [
      "percentage_sup_0_7== 0.9\n",
      "percentage_inf_0_7== 0.1\n",
      "Total energy== 50000.0\n",
      "POTENTIAL FOR INCREASE ON THE INDEX  =  5018.692487116441\n",
      "LIKELY INCREASE IN THE INDEX         =  1855.333664939404\n",
      "TOTAL INDEX                          =  71.4120839380191\n"
     ]
    },
    {
     "name": "stderr",
     "output_type": "stream",
     "text": [
      "/home/panongbene/anaconda3/lib/python3.7/site-packages/ipykernel_launcher.py:31: SettingWithCopyWarning: \n",
      "A value is trying to be set on a copy of a slice from a DataFrame\n",
      "\n",
      "See the caveats in the documentation: http://pandas.pydata.org/pandas-docs/stable/indexing.html#indexing-view-versus-copy\n",
      "/home/panongbene/anaconda3/lib/python3.7/site-packages/ipykernel_launcher.py:27: SettingWithCopyWarning: \n",
      "A value is trying to be set on a copy of a slice from a DataFrame\n",
      "\n",
      "See the caveats in the documentation: http://pandas.pydata.org/pandas-docs/stable/indexing.html#indexing-view-versus-copy\n"
     ]
    },
    {
     "name": "stdout",
     "output_type": "stream",
     "text": [
      "percentage_sup_0_7== 0.9\n",
      "percentage_inf_0_7== 0.1\n",
      "Total energy== 50000.0\n",
      "POTENTIAL FOR INCREASE ON THE INDEX  =  5019.998689656567\n",
      "LIKELY INCREASE IN THE INDEX         =  1855.5688614972591\n",
      "TOTAL INDEX                          =  71.26714675951276\n"
     ]
    },
    {
     "name": "stderr",
     "output_type": "stream",
     "text": [
      "/home/panongbene/anaconda3/lib/python3.7/site-packages/ipykernel_launcher.py:31: SettingWithCopyWarning: \n",
      "A value is trying to be set on a copy of a slice from a DataFrame\n",
      "\n",
      "See the caveats in the documentation: http://pandas.pydata.org/pandas-docs/stable/indexing.html#indexing-view-versus-copy\n",
      "/home/panongbene/anaconda3/lib/python3.7/site-packages/ipykernel_launcher.py:27: SettingWithCopyWarning: \n",
      "A value is trying to be set on a copy of a slice from a DataFrame\n",
      "\n",
      "See the caveats in the documentation: http://pandas.pydata.org/pandas-docs/stable/indexing.html#indexing-view-versus-copy\n"
     ]
    },
    {
     "name": "stdout",
     "output_type": "stream",
     "text": [
      "percentage_sup_0_7== 0.9\n",
      "percentage_inf_0_7== 0.1\n",
      "Total energy== 50000.0\n",
      "POTENTIAL FOR INCREASE ON THE INDEX  =  5020.57846540294\n",
      "LIKELY INCREASE IN THE INDEX         =  1855.7151066503966\n",
      "TOTAL INDEX                          =  71.24336800111531\n"
     ]
    },
    {
     "name": "stderr",
     "output_type": "stream",
     "text": [
      "/home/panongbene/anaconda3/lib/python3.7/site-packages/ipykernel_launcher.py:31: SettingWithCopyWarning: \n",
      "A value is trying to be set on a copy of a slice from a DataFrame\n",
      "\n",
      "See the caveats in the documentation: http://pandas.pydata.org/pandas-docs/stable/indexing.html#indexing-view-versus-copy\n",
      "/home/panongbene/anaconda3/lib/python3.7/site-packages/ipykernel_launcher.py:27: SettingWithCopyWarning: \n",
      "A value is trying to be set on a copy of a slice from a DataFrame\n",
      "\n",
      "See the caveats in the documentation: http://pandas.pydata.org/pandas-docs/stable/indexing.html#indexing-view-versus-copy\n"
     ]
    },
    {
     "name": "stdout",
     "output_type": "stream",
     "text": [
      "percentage_sup_0_7== 0.9\n",
      "percentage_inf_0_7== 0.1\n",
      "Total energy== 50000.0\n",
      "POTENTIAL FOR INCREASE ON THE INDEX  =  5022.5405054442745\n",
      "LIKELY INCREASE IN THE INDEX         =  1857.760312091112\n",
      "TOTAL INDEX                          =  71.27612171382995\n",
      "\n",
      "Time taken: 0 hours 10 minutes and 38.85 seconds.\n"
     ]
    }
   ],
   "source": [
    "#load data \n",
    "train_data=pd.read_csv(\"DATA/train.csv\")\n",
    "test_data=pd.read_csv(\"DATA/test.csv\")\n",
    "\n",
    "#we extract the index in training data\n",
    "Y_train_data_preprocessing=train_data[\"y\"]\n",
    "\n",
    "#we delete the index so that our the dataframe can be processed by our preprocessing function\n",
    "del train_data[\"y\"]\n",
    "###############################################################################################################\n",
    "#--------------------------------------------------------------------------------------------------------------\n",
    "#Add the columns of preprocessing in the testing data\n",
    "#TEST_A_0=pd.get_dummies(train_data.galaxy)\n",
    "#TEST_A_COLUMNS_0=TEST_A_0.columns\n",
    "#for INDEX in TEST_A_COLUMNS_0:\n",
    "#    test_data[INDEX]=TEST_A_0[INDEX]*0\n",
    "    \n",
    "#TEST_B_0=pd.get_dummies(train_data[\"galactic year\"])\n",
    "#TEST_B_COLUMNS_0=TEST_B_0.columns\n",
    "#for INDEX_1 in TEST_B_COLUMNS_0:\n",
    "#    test_data[INDEX_1]=TEST_B_0[INDEX_1]*0\n",
    "##############################################################################################################\n",
    "#Add the columns of preprocessing in the training data\n",
    "#TEST_A_0=pd.get_dummies(test_data.galaxy)\n",
    "#TEST_A_COLUMNS_0=TEST_A_0.columns\n",
    "#for INDEX in TEST_A_COLUMNS_0:\n",
    "#    train_data[INDEX]=TEST_A_0[INDEX]*0\n",
    "    \n",
    "#TEST_B_0=pd.get_dummies(test_data[\"galactic year\"])\n",
    "#TEST_B_COLUMNS_0=TEST_B_0.columns\n",
    "#for INDEX_1 in TEST_B_COLUMNS_0:\n",
    "#    train_data[INDEX_1]=TEST_B_0[INDEX_1]*0\n",
    "#---------------------------------------------------------------------------------------------------------------\n",
    "#preprocessing Data\n",
    "train_data_preprocessing=Feature_Engineering_version_2(train_data)\n",
    "test_data_preprocessing=Feature_Engineering_version_2(test_data)\n",
    "################################################################################################################\n",
    "\n",
    "#to divide data to training and testing data\n",
    "DATA_node_train_preprocessing, DATA_node_test_preprocessing, Y_node_train_preprocessing, Y_node_test_preprocessing= train_test_split(train_data_preprocessing, Y_train_data_preprocessing, test_size=0.2, random_state=10)\n",
    "\n",
    "\n",
    "#TRAINING THE MODEL FOR A LOT OF PARAMETER\n",
    "likely_increase_BaggingRegressor=[]\n",
    "parameter_BaggingRegressor=[]\n",
    "potential_increase_BaggingRegressor=[]\n",
    "total_index_BaggingRegressor=[]\n",
    "\n",
    "start_time = timer(None)\n",
    "for i in [1,100,200,300,400,500,600,700,800,900,1000,2000]:\n",
    "    parameter_BaggingRegressor.append(i+1)\n",
    "    bagging_regressor = GradientBoostingRegressor(n_estimators=i+1, learning_rate= 0.09, max_depth=3,min_samples_split=3, min_samples_leaf=1)\n",
    "    #training the bagging model\n",
    "    bagging_regressor.fit(train_data_preprocessing, Y_train_data_preprocessing)\n",
    "\n",
    "    #compute the test\n",
    "    prediction_test=bagging_regressor.predict(test_data_preprocessing)\n",
    "    test_data[\"y\"]=prediction_test    \n",
    "    op_pred=repartition_energy_strategy_8(test_data,10)\n",
    "    prediction_liste=[]\n",
    "    for i in range(prediction_test.shape[0]):\n",
    "        prediction_liste.append([prediction_test[i],op_pred[i]])\n",
    "    \n",
    "    #statistique predictor\n",
    "    Potential_for_increase_in_the_Index, Likely_increase_in_the_Index, total_index=optimization_energey_statistique(prediction_liste)\n",
    "    likely_increase_BaggingRegressor.append(Likely_increase_in_the_Index)\n",
    "    potential_increase_BaggingRegressor.append(Potential_for_increase_in_the_Index)\n",
    "    total_index_BaggingRegressor.append(total_index)\n",
    "    \n",
    "    print(\"POTENTIAL FOR INCREASE ON THE INDEX  = \",Potential_for_increase_in_the_Index)\n",
    "    print(\"LIKELY INCREASE IN THE INDEX         = \",Likely_increase_in_the_Index)\n",
    "    print(\"TOTAL INDEX                          = \",total_index)\n",
    "timer(start_time)"
   ]
  },
  {
   "cell_type": "code",
   "execution_count": 99,
   "metadata": {},
   "outputs": [],
   "source": [
    "#------------------------------------------------1004------------------------------------------------#\n",
    "#POTENTIAL FOR INCREASE ON THE INDEX  =  5002.642952810951\n",
    "#LIKELY INCREASE IN THE INDEX         =  1845.1052855502858\n",
    "#TOTAL INDEX                          =  72.79181160076018\n",
    "#----------------------------------------------------------------------------------------------------#"
   ]
  },
  {
   "cell_type": "code",
   "execution_count": 100,
   "metadata": {},
   "outputs": [
    {
     "data": {
      "image/png": "[encoded data removed]",
      "text/plain": [
       "<Figure size 432x288 with 1 Axes>"
      ]
     },
     "metadata": {
      "needs_background": "light"
     },
     "output_type": "display_data"
    }
   ],
   "source": [
    "#BUILD THE GRAPH\n",
    "X=np.array(parameter_BaggingRegressor)\n",
    "Y=np.array(likely_increase_BaggingRegressor)\n",
    "plt.plot(X, Y, 'r')\n",
    "plt.xlabel('NUMBER OF PARAMETERS')\n",
    "plt.ylabel('LIKELY INCREASE')\n",
    "plt.title('GRAPH')\n",
    "plt.show()"
   ]
  },
  {
   "cell_type": "code",
   "execution_count": 101,
   "metadata": {},
   "outputs": [
    {
     "data": {
      "image/png": "[encoded data removed]",
      "text/plain": [
       "<Figure size 432x288 with 1 Axes>"
      ]
     },
     "metadata": {
      "needs_background": "light"
     },
     "output_type": "display_data"
    }
   ],
   "source": [
    "#BUILD THE GRAPH\n",
    "X=np.array(parameter_BaggingRegressor)\n",
    "Y=np.array(potential_increase_BaggingRegressor)\n",
    "plt.plot(X, Y, 'r')\n",
    "plt.xlabel('NUMBER OF PARAMETERS')\n",
    "plt.ylabel('POTENTIAL INCREASE')\n",
    "plt.title('GRAPH')\n",
    "plt.show()"
   ]
  },
  {
   "cell_type": "code",
   "execution_count": 102,
   "metadata": {},
   "outputs": [
    {
     "data": {
      "image/png": "[encoded data removed]",
      "text/plain": [
       "<Figure size 432x288 with 1 Axes>"
      ]
     },
     "metadata": {
      "needs_background": "light"
     },
     "output_type": "display_data"
    }
   ],
   "source": [
    "#BUILD THE GRAPH\n",
    "X=np.array(parameter_BaggingRegressor)\n",
    "Y=np.array(total_index_BaggingRegressor)\n",
    "plt.plot(X, Y, 'r')\n",
    "plt.xlabel('NUMBER OF PARAMETERS')\n",
    "plt.ylabel('TOTAL INDEX')\n",
    "plt.title('GRAPH')\n",
    "plt.show()"
   ]
  },
  {
   "cell_type": "code",
   "execution_count": null,
   "metadata": {},
   "outputs": [],
   "source": []
  },
  {
   "cell_type": "markdown",
   "metadata": {},
   "source": [
    "## CONCLUSION : ????"
   ]
  },
  {
   "cell_type": "code",
   "execution_count": null,
   "metadata": {},
   "outputs": [],
   "source": []
  },
  {
   "cell_type": "code",
   "execution_count": null,
   "metadata": {},
   "outputs": [],
   "source": []
  },
  {
   "cell_type": "code",
   "execution_count": null,
   "metadata": {},
   "outputs": [],
   "source": []
  },
  {
   "cell_type": "markdown",
   "metadata": {},
   "source": [
    "# <center >XGB REGRESSOR </center> #"
   ]
  },
  {
   "cell_type": "code",
   "execution_count": 43,
   "metadata": {},
   "outputs": [
    {
     "name": "stderr",
     "output_type": "stream",
     "text": [
      "/home/panongbene/anaconda3/lib/python3.7/site-packages/xgboost/core.py:587: FutureWarning: Series.base is deprecated and will be removed in a future version\n",
      "  if getattr(data, 'base', None) is not None and \\\n"
     ]
    },
    {
     "name": "stdout",
     "output_type": "stream",
     "text": [
      "[02:55:49] WARNING: /opt/conda/conda-bld/xgboost_1560800456086/work/src/objective/regression_obj.cu:152: reg:linear is now deprecated in favor of reg:squarederror.\n",
      "\n",
      "Time taken: 0 hours 1 minutes and 20.57 seconds.\n",
      "0.017484467074358422\n"
     ]
    }
   ],
   "source": [
    "#load data \n",
    "train_data=pd.read_csv(\"DATA/train.csv\")\n",
    "\n",
    "#we extract the index in training data\n",
    "Y_train_data_preprocessing=train_data[\"y\"]\n",
    "\n",
    "#we delete the index so that our the dataframe can be processed by our preprocessing function\n",
    "del train_data[\"y\"]\n",
    "\n",
    "#preprocessing Data\n",
    "train_data_preprocessing=Feature_Engineering_version_3(train_data)\n",
    "\n",
    "#to divide data to training and testing data\n",
    "DATA_node_train_preprocessing, DATA_node_test_preprocessing, Y_node_train_preprocessing, Y_node_test_preprocessing= train_test_split(train_data_preprocessing, Y_train_data_preprocessing, test_size=0.3, random_state=10)\n",
    "\n",
    "#TRAINING THE MODEL FOR A LOT OF PARAMETER\n",
    "#for trace the graph\n",
    "accuracy_xgb_regressor=[]\n",
    "parameter_xgb_regressor=[]\n",
    "\n",
    "#for obtain the best caracteristique\n",
    "min_rmse=1.0\n",
    "rate=0.0\n",
    "estimator=0\n",
    "\n",
    "start_time = timer(None)\n",
    "for i in range(10000,10001):\n",
    "    parameter_xgb_regressor.append(i+1)\n",
    "    xgb_clf_regressor =XGBRegressor(n_estimators=i+1, learning_rate= 0.09, max_depth=3,min_samples_split=3, min_samples_leaf=1)\n",
    "    #training the xgb model\n",
    "    xgb_clf_regressor.fit(DATA_node_train_preprocessing, Y_node_train_preprocessing)\n",
    "    \n",
    "    #predictor and calcul rms\n",
    "    prediction_=xgb_clf_regressor.predict(DATA_node_test_preprocessing)\n",
    "    rmse=sqrt(mean_squared_error(Y_node_test_preprocessing,prediction_))\n",
    "    if(rmse<min_rmse):\n",
    "        min_rmse=rmse\n",
    "        rate=0.02\n",
    "        estimator=i+1\n",
    "    accuracy_xgb_regressor.append(rmse)\n",
    "timer(start_time)\n",
    "\n",
    "print(rmse)"
   ]
  },
  {
   "cell_type": "code",
   "execution_count": 44,
   "metadata": {},
   "outputs": [
    {
     "data": {
      "image/png": "[encoded data removed]",
      "text/plain": [
       "<Figure size 432x288 with 1 Axes>"
      ]
     },
     "metadata": {
      "needs_background": "light"
     },
     "output_type": "display_data"
    },
    {
     "name": "stdout",
     "output_type": "stream",
     "text": [
      "MIN ERROR RMSE== 0.017484467074358422     OBTAIN WITH learning_rate== 0.02      and n_estimators== 10001\n"
     ]
    }
   ],
   "source": [
    "#BUILD THE GRAPH\n",
    "X=np.array(parameter_xgb_regressor)\n",
    "Y=np.array(accuracy_xgb_regressor)\n",
    "plt.plot(X, Y, 'r')\n",
    "plt.xlabel('NUMBER OF PARAMETERS')\n",
    "plt.ylabel('RMSE ERROR')\n",
    "plt.title('GRAPH')\n",
    "plt.show()\n",
    "print(\"MIN ERROR RMSE==\",min_rmse,\"    OBTAIN WITH learning_rate==\",rate,\"     and n_estimators==\",estimator)"
   ]
  },
  {
   "cell_type": "code",
   "execution_count": null,
   "metadata": {},
   "outputs": [],
   "source": []
  },
  {
   "cell_type": "code",
   "execution_count": null,
   "metadata": {},
   "outputs": [],
   "source": [
    "#test submission\n",
    "test_data=pd.read_csv(\"DATA/test.csv\")\n",
    "train_data=pd.read_csv(\"DATA/train.csv\")\n",
    "\n",
    "#we extract the index in training data\n",
    "Y_train_data_preprocessing=train_data[\"y\"]\n",
    "\n",
    "#we delete the index so that our the dataframe can be processed by our preprocessing function\n",
    "del train_data[\"y\"]\n",
    "\n",
    "#preprocessing Data\n",
    "train_data_preprocessing=Feature_Engineering_version_1(train_data)\n",
    "test_data_preprocessing=Feature_Engineering_version_1(test_data)\n",
    "\n",
    "#build the model\n",
    "xgb_clf_regressor =XGBRegressor(n_estimators=i+1, learning_rate= 0.09, max_depth=3,min_samples_split=3, min_samples_leaf=1)\n",
    "\n",
    "#fit the model\n",
    "xgb_clf_regressor.fit(train_data_preprocessing, Y_train_data_preprocessing)\n",
    "\n",
    "\n",
    "prediction_test=xgb_clf_regressor.predict(test_data_preprocessing)\n",
    "test_data[\"y\"]=prediction_test\n",
    "#---------------------------------------------------------------------------------------------------------------\n",
    "#op_pred=repartition_energy_strategy_1(test_data,10)\n",
    "#op_pred=repartition_energy_strategy_2(test_data,11)\n",
    "#op_pred=repartition_energy_strategy_3(test_data,11)\n",
    "#op_pred=repartition_energy_strategy_4(test_data,10)\n",
    "#op_pred=repartition_energy_strategy_5(test_data,10)\n",
    "#op_pred=repartition_energy_strategy_6(test_data,10)\n",
    "#op_pred=repartition_energy_strategy_7(test_data,10)\n",
    "op_pred=repartition_energy_strategy_8(test_data,10)\n",
    "\n",
    "prediction_liste=[]\n",
    "#---------------------------------------------------------------------------------------------------------------\n",
    "for i in range(prediction_test.shape[0]):\n",
    "    prediction_liste.append([prediction_test[i],op_pred[i]])\n",
    "    #prediction_liste.append([test_data[\"y\"][i],test_data[\"allocation energy\"][i]])\n",
    "    #print([prediction_test[i],op_pred[i]])\n",
    "    #print(prediction_liste[i])\n",
    "\n",
    "#statistique \n",
    "Potential_for_increase_in_the_Index, Likely_increase_in_the_Index, total_index=optimization_energey_statistique(prediction_liste)\n",
    "print(\"----------------------------------------------------------------------------------------------------------\")\n",
    "print(\"POTENTIAL FOR INCREASE ON THE INDEX  = \",Potential_for_increase_in_the_Index)\n",
    "print(\"LIKELY INCREASE IN THE INDEX         = \",Likely_increase_in_the_Index)\n",
    "print(\"TOTAL INDEX                          = \",total_index)\n",
    "\n",
    "#save the prediction\n",
    "save_liste(prediction_liste,\"prediction_\")"
   ]
  },
  {
   "cell_type": "code",
   "execution_count": null,
   "metadata": {},
   "outputs": [],
   "source": []
  },
  {
   "cell_type": "code",
   "execution_count": null,
   "metadata": {},
   "outputs": [],
   "source": []
  },
  {
   "cell_type": "code",
   "execution_count": null,
   "metadata": {},
   "outputs": [],
   "source": []
  },
  {
   "cell_type": "code",
   "execution_count": null,
   "metadata": {},
   "outputs": [],
   "source": []
  },
  {
   "cell_type": "code",
   "execution_count": null,
   "metadata": {},
   "outputs": [],
   "source": []
  },
  {
   "cell_type": "code",
   "execution_count": null,
   "metadata": {},
   "outputs": [],
   "source": []
  },
  {
   "cell_type": "markdown",
   "metadata": {},
   "source": [
    "## PREDICTION XGB"
   ]
  },
  {
   "cell_type": "code",
   "execution_count": null,
   "metadata": {},
   "outputs": [],
   "source": [
    "#load data \n",
    "train_data=pd.read_csv(\"DATA/train.csv\")\n",
    "\n",
    "#we extract the index in training data\n",
    "Y_train_data_preprocessing=train_data[\"y\"]\n",
    "\n",
    "#we delete the index so that our the dataframe can be processed by our preprocessing function\n",
    "del train_data[\"y\"]\n",
    "\n",
    "#preprocessing Data\n",
    "train_data_preprocessing=Feature_Engineering_version_1(train_data)\n",
    "\n",
    "#to divide data to training and testing data\n",
    "DATA_node_train_preprocessing, DATA_node_test_preprocessing, Y_node_train_preprocessing, Y_node_test_preprocessing= train_test_split(train_data_preprocessing, Y_train_data_preprocessing, test_size=0.3, random_state=10)\n",
    "\n",
    "start_time = timer(None)\n",
    "xgb_clf_regressor =XGBRegressor(n_estimators=100001, learning_rate= 0.09, max_depth=3,min_samples_split=3, min_samples_leaf=1)\n",
    "#training the xgb model\n",
    "xgb_clf_regressor.fit(train_data_preprocessing, Y_train_data_preprocessing)\n",
    "    \n",
    "#predictor and calcul rms\n",
    "prediction_=xgb_clf_regressor.predict(DATA_node_test_preprocessing)\n",
    "rmse=sqrt(mean_squared_error(Y_node_test_preprocessing,prediction_))\n",
    "timer(start_time)\n",
    "\n",
    "print(rmse)"
   ]
  },
  {
   "cell_type": "code",
   "execution_count": null,
   "metadata": {},
   "outputs": [],
   "source": []
  },
  {
   "cell_type": "code",
   "execution_count": null,
   "metadata": {},
   "outputs": [],
   "source": []
  },
  {
   "cell_type": "code",
   "execution_count": null,
   "metadata": {},
   "outputs": [],
   "source": []
  },
  {
   "cell_type": "code",
   "execution_count": null,
   "metadata": {},
   "outputs": [],
   "source": []
  },
  {
   "cell_type": "code",
   "execution_count": null,
   "metadata": {},
   "outputs": [],
   "source": []
  },
  {
   "cell_type": "markdown",
   "metadata": {},
   "source": [
    "## CONCLUSION: ?????"
   ]
  },
  {
   "cell_type": "code",
   "execution_count": null,
   "metadata": {},
   "outputs": [],
   "source": []
  },
  {
   "cell_type": "code",
   "execution_count": null,
   "metadata": {},
   "outputs": [],
   "source": []
  },
  {
   "cell_type": "code",
   "execution_count": null,
   "metadata": {},
   "outputs": [],
   "source": []
  },
  {
   "cell_type": "code",
   "execution_count": null,
   "metadata": {},
   "outputs": [],
   "source": []
  },
  {
   "cell_type": "markdown",
   "metadata": {},
   "source": [
    "## <center> RANDOM FOREST REGRESSOR</center> ##"
   ]
  },
  {
   "cell_type": "code",
   "execution_count": 77,
   "metadata": {},
   "outputs": [
    {
     "name": "stdout",
     "output_type": "stream",
     "text": [
      "\n",
      "Time taken: 0 hours 3 minutes and 5.27 seconds.\n"
     ]
    }
   ],
   "source": [
    "#load datalassifier \n",
    "train_data=pd.read_csv(\"DATA/train.csv\")\n",
    "\n",
    "#we extract the index in training data\n",
    "Y_train_data_preprocessing=train_data[\"y\"]\n",
    "\n",
    "#we delete the index so that our the dataframe can be processed by our preprocessing function\n",
    "del train_data[\"y\"]\n",
    "\n",
    "#preprocessing Data\n",
    "train_data_preprocessing=Feature_Engineering_version_2(train_data)\n",
    "\n",
    "#to divide data to training and testing data\n",
    "DATA_node_train_preprocessing, DATA_node_test_preprocessing, Y_node_train_preprocessing, Y_node_test_preprocessing= train_test_split(train_data_preprocessing, Y_train_data_preprocessing, test_size=0.2, random_state=10)\n",
    "\n",
    "\n",
    "#TRAINING THE MODEL FOR A LOT OF PARAMETER\n",
    "#for trace the graph\n",
    "accuracy_random_forest_regressor=[]\n",
    "parameter_random_forest_regressor=[]\n",
    "\n",
    "#for obtain the best caracteristique\n",
    "min_rmse=1.0\n",
    "rate=0.0\n",
    "estimator=0\n",
    "\n",
    "start_time = timer(None)\n",
    "for i in range(10000,10001):\n",
    "    parameter_random_forest_regressor.append(i+1)\n",
    "    rfc_regressor = RandomForestRegressor(n_estimators=i+1, max_depth=3,min_samples_split=3, min_samples_leaf=1)\n",
    "    #training the random forest model\n",
    "    rfc_regressor.fit(DATA_node_train_preprocessing, Y_node_train_preprocessing)    \n",
    "    #predictor and calcul rms\n",
    "    prediction_=rfc_regressor.predict(DATA_node_test_preprocessing)\n",
    "    rmse=sqrt(mean_squared_error(Y_node_test_preprocessing,prediction_))\n",
    "    \n",
    "    if(rmse<min_rmse):\n",
    "        min_rmse=rmse\n",
    "        rate=0.02\n",
    "        estimator=i+1\n",
    "    accuracy_random_forest_regressor.append(rmse)\n",
    "timer(start_time)"
   ]
  },
  {
   "cell_type": "code",
   "execution_count": 78,
   "metadata": {},
   "outputs": [
    {
     "data": {
      "image/png": "[encoded data removed]",
      "text/plain": [
       "<Figure size 432x288 with 1 Axes>"
      ]
     },
     "metadata": {
      "needs_background": "light"
     },
     "output_type": "display_data"
    },
    {
     "name": "stdout",
     "output_type": "stream",
     "text": [
      "MIN ERROR== 0.033811460140115546      and n_estimators== 10001\n"
     ]
    }
   ],
   "source": [
    "#BUILD THE GRAPH\n",
    "X=np.array(parameter_random_forest_regressor)\n",
    "Y=np.array(accuracy_random_forest_regressor)\n",
    "plt.plot(X, Y, 'r')\n",
    "plt.xlabel('NUMBER OF PARAMETERS')\n",
    "plt.ylabel('RMSE ERROR')\n",
    "plt.title('GRAPH')\n",
    "plt.show()\n",
    "print(\"MIN ERROR==\",min_rmse,\"     and n_estimators==\",estimator)"
   ]
  },
  {
   "cell_type": "markdown",
   "metadata": {},
   "source": [
    "## CONCLUSION: ?????"
   ]
  },
  {
   "cell_type": "code",
   "execution_count": null,
   "metadata": {},
   "outputs": [],
   "source": []
  },
  {
   "cell_type": "code",
   "execution_count": null,
   "metadata": {},
   "outputs": [],
   "source": []
  },
  {
   "cell_type": "code",
   "execution_count": null,
   "metadata": {},
   "outputs": [],
   "source": []
  },
  {
   "cell_type": "code",
   "execution_count": null,
   "metadata": {},
   "outputs": [],
   "source": [
    "#test submission\n",
    "test_data=pd.read_csv(\"DATA/test.csv\")\n",
    "test_data_preprocessing=Feature_Engineering(test_data)\n",
    "\n",
    "prediction_test=xgb_clf_regressor.predict(test_data_preprocessing)\n",
    "test_data[\"y\"]=prediction_test\n",
    "#---------------------------------------------------------------------------------------------------------------\n",
    "#op_pred=repartition_energy_strategy_1(test_data,11)\n",
    "#op_pred=repartition_energy_strategy_2(test_data,11)\n",
    "#op_pred=repartition_energy_strategy_3(test_data,11)\n",
    "#op_pred=repartition_energy_strategy_4(test_data,10)\n",
    "#op_pred=repartition_energy_strategy_5(test_data,10)\n",
    "op_pred=repartition_energy_strategy_6(test_data,10)\n",
    "prediction_liste=[]\n",
    "#---------------------------------------------------------------------------------------------------------------\n",
    "for i in range(prediction_test.shape[0]):\n",
    "    prediction_liste.append([prediction_test[i],op_pred[i]])\n",
    "    #print([prediction_test[i],op_pred[i]])\n",
    "    #print(prediction_liste[i])\n",
    "\n",
    "#statistique \n",
    "Potential_for_increase_in_the_Index, Likely_increase_in_the_Index, total_index=optimization_energey_statistique(prediction_liste)\n",
    "print(\"POTENTIAL FOR INCREASE ON THE INDEX  = \",Potential_for_increase_in_the_Index)\n",
    "print(\"LIKELY INCREASE IN THE INDEX         = \",Likely_increase_in_the_Index)\n",
    "print(\"TOTAL INDEX                          = \",total_index)\n",
    "\n",
    "#save the prediction\n",
    "#save_liste(prediction_liste,\"mamedou_random_forest_regressor_regressor\")"
   ]
  },
  {
   "cell_type": "code",
   "execution_count": null,
   "metadata": {},
   "outputs": [],
   "source": []
  },
  {
   "cell_type": "code",
   "execution_count": null,
   "metadata": {},
   "outputs": [],
   "source": []
  },
  {
   "cell_type": "code",
   "execution_count": null,
   "metadata": {},
   "outputs": [],
   "source": []
  },
  {
   "cell_type": "markdown",
   "metadata": {},
   "source": [
    " ## LIKELY IN HERE WE TRY TO BUILD THE GRAPHE OF LIKELY INCREASE IN FACT PARAMETOR OF MODEL USING RANDOM FOREST REGRESSOR"
   ]
  },
  {
   "cell_type": "code",
   "execution_count": 200,
   "metadata": {},
   "outputs": [],
   "source": [
    "#load data \n",
    "train_data=pd.read_csv(\"DATA/train.csv\")\n",
    "test_data=pd.read_csv(\"DATA/test.csv\")\n",
    "\n",
    "#we extract the index in training data\n",
    "Y_train_data_preprocessing=train_data[\"y\"]\n",
    "\n",
    "#we delete the index so that our the dataframe can be processed by our preprocessing function\n",
    "del train_data[\"y\"]\n",
    "\n",
    "#preprocessing Data\n",
    "train_data_preprocessing=Feature_Engineering(train_data)\n",
    "test_data_preprocessing=Feature_Engineering(test_data)\n",
    "\n",
    "#to divide data to training and testing data\n",
    "DATA_node_train_preprocessing, DATA_node_test_preprocessing, Y_node_train_preprocessing, Y_node_test_preprocessing= train_test_split(train_data_preprocessing, Y_train_data_preprocessing, test_size=0.2, random_state=10)\n",
    "\n",
    "\n",
    "#TRAINING THE MODEL FOR A LOT OF PARAMETER\n",
    "likely_increase_random_forest_Regressor=[]\n",
    "parameter_random_forest_Regressor=[]\n",
    "potential_increase_random_forest_Regressor=[]\n",
    "total_index_random_forest_Regressor=[]\n",
    "\n",
    "start_time = timer(None)\n",
    "for i in [1,100,200,300,400,500,600,700,800,900,1000,2000,3000,4000,5000,6000,7000,8000,9000,10000]:\n",
    "    parameter_random_forest_Regressor.append(i+1)\n",
    "    rfc_regressor = RandomForestRegressor(n_estimators=i+1, max_depth=3,min_samples_split=3, min_samples_leaf=1)\n",
    "    #training the bagging model\n",
    "    rfc_regressor.fit(train_data_preprocessing, Y_train_data_preprocessing)\n",
    "\n",
    "    #compute the test\n",
    "    prediction_test=rfc_regressor.predict(test_data_preprocessing)\n",
    "    test_data[\"y\"]=prediction_test    \n",
    "    op_pred=repartition_energy_strategy_5(test_data,10)\n",
    "    prediction_liste=[]\n",
    "    for i in range(prediction_test.shape[0]):\n",
    "        prediction_liste.append([prediction_test[i],op_pred[i]])\n",
    "    \n",
    "    #statistique predictor\n",
    "    Potential_for_increase_in_the_Index, Likely_increase_in_the_Index, total_index=optimization_energey_statistique(prediction_liste)\n",
    "    likely_increase_random_forest_Regressor.append(Potential_for_increase_in_the_Index)\n",
    "    potential_increase_random_forest_Regressor.append(Likely_increase_in_the_Index)\n",
    "    total_index_random_forest_Regressor.append(total_index)\n",
    "    \n",
    "timer(start_time)"
   ]
  },
  {
   "cell_type": "code",
   "execution_count": null,
   "metadata": {},
   "outputs": [],
   "source": [
    "#BUILD THE GRAPH\n",
    "X=np.array(parameter_random_forest_Regressor)\n",
    "Y=np.array(likely_increase_random_forest_Regressor)\n",
    "plt.plot(X, Y, 'r')\n",
    "plt.xlabel('NUMBER OF PARAMETERS')\n",
    "plt.ylabel('LIKELY INCREASE')\n",
    "plt.title('GRAPH')\n",
    "plt.show()"
   ]
  },
  {
   "cell_type": "code",
   "execution_count": null,
   "metadata": {},
   "outputs": [],
   "source": [
    "#BUILD THE GRAPH\n",
    "X=np.array(parameter_random_forest_Regressor)\n",
    "Y=np.array(potential_increase_random_forest_Regressor)\n",
    "plt.plot(X, Y, 'r')\n",
    "plt.xlabel('NUMBER OF PARAMETERS')\n",
    "plt.ylabel('POTENTIAL INCREASE')\n",
    "plt.title('GRAPH')\n",
    "plt.show()"
   ]
  },
  {
   "cell_type": "code",
   "execution_count": null,
   "metadata": {},
   "outputs": [],
   "source": [
    "#BUILD THE GRAPH\n",
    "X=np.array(parameter_random_forest_Regressor)\n",
    "Y=np.array(total_index_random_forest_Regressor)\n",
    "plt.plot(X, Y, 'r')\n",
    "plt.xlabel('NUMBER OF PARAMETERS')\n",
    "plt.ylabel('TOTAL INDEX')\n",
    "plt.title('GRAPH')\n",
    "plt.show()"
   ]
  },
  {
   "cell_type": "code",
   "execution_count": null,
   "metadata": {},
   "outputs": [],
   "source": []
  },
  {
   "cell_type": "code",
   "execution_count": null,
   "metadata": {},
   "outputs": [],
   "source": []
  },
  {
   "cell_type": "code",
   "execution_count": null,
   "metadata": {},
   "outputs": [],
   "source": []
  },
  {
   "cell_type": "code",
   "execution_count": null,
   "metadata": {},
   "outputs": [],
   "source": []
  },
  {
   "cell_type": "code",
   "execution_count": null,
   "metadata": {},
   "outputs": [],
   "source": []
  },
  {
   "cell_type": "markdown",
   "metadata": {},
   "source": [
    "# <center> BROUILLON </center> #"
   ]
  },
  {
   "cell_type": "code",
   "execution_count": null,
   "metadata": {},
   "outputs": [],
   "source": []
  },
  {
   "cell_type": "code",
   "execution_count": null,
   "metadata": {},
   "outputs": [],
   "source": []
  },
  {
   "cell_type": "code",
   "execution_count": null,
   "metadata": {},
   "outputs": [],
   "source": []
  },
  {
   "cell_type": "code",
   "execution_count": null,
   "metadata": {},
   "outputs": [],
   "source": []
  },
  {
   "cell_type": "code",
   "execution_count": null,
   "metadata": {},
   "outputs": [],
   "source": []
  },
  {
   "cell_type": "markdown",
   "metadata": {},
   "source": [
    "## <center> ENERGY OPTIMISATIPON TEST </center>##"
   ]
  },
  {
   "cell_type": "code",
   "execution_count": 212,
   "metadata": {},
   "outputs": [
    {
     "data": {
      "image/png": "[encoded data removed]",
      "text/plain": [
       "<Figure size 432x288 with 1 Axes>"
      ]
     },
     "metadata": {
      "needs_background": "light"
     },
     "output_type": "display_data"
    }
   ],
   "source": [
    "plt.scatter(Y_train_data_preprocessing,existence_expectancy_index)  # on utilise la fonction sinus de Numpy\n",
    "plt.xlabel('Y_train_data_preprocessing')\n",
    "plt.ylabel(\"existence_expectancy_index\")\n",
    "plt.show()"
   ]
  },
  {
   "cell_type": "code",
   "execution_count": 44,
   "metadata": {},
   "outputs": [],
   "source": [
    "#potential augmentation\n",
    "Potential_for_increase_in_the_Index=-np.log(Y_train_data_preprocessing+0.01)+3\n",
    "Likely_ncrease_n_he_ndex=(Potential_for_increase_in_the_Index**2)/1000"
   ]
  },
  {
   "cell_type": "code",
   "execution_count": 45,
   "metadata": {},
   "outputs": [
    {
     "data": {
      "image/png": "[encoded data removed]",
      "text/plain": [
       "<Figure size 432x288 with 1 Axes>"
      ]
     },
     "metadata": {
      "needs_background": "light"
     },
     "output_type": "display_data"
    }
   ],
   "source": [
    "plt.scatter(Y_train_data_preprocessing,Potential_for_increase_in_the_Index)  # on utilise la fonction sinus de Numpy\n",
    "plt.xlabel('Y_train_data_preprocessing')\n",
    "plt.ylabel(\"Potential_for_increase_in_the_Index\")\n",
    "plt.show()"
   ]
  },
  {
   "cell_type": "code",
   "execution_count": null,
   "metadata": {},
   "outputs": [],
   "source": []
  },
  {
   "cell_type": "code",
   "execution_count": null,
   "metadata": {},
   "outputs": [],
   "source": []
  },
  {
   "cell_type": "code",
   "execution_count": null,
   "metadata": {},
   "outputs": [],
   "source": []
  },
  {
   "cell_type": "code",
   "execution_count": null,
   "metadata": {},
   "outputs": [],
   "source": []
  },
  {
   "cell_type": "code",
   "execution_count": null,
   "metadata": {},
   "outputs": [],
   "source": []
  },
  {
   "cell_type": "code",
   "execution_count": null,
   "metadata": {},
   "outputs": [],
   "source": []
  },
  {
   "cell_type": "code",
   "execution_count": null,
   "metadata": {},
   "outputs": [],
   "source": []
  },
  {
   "cell_type": "markdown",
   "metadata": {},
   "source": [
    "## Testing Gradient Boosting for Cross Validation"
   ]
  },
  {
   "cell_type": "code",
   "execution_count": 92,
   "metadata": {},
   "outputs": [
    {
     "name": "stdout",
     "output_type": "stream",
     "text": [
      "0.020825603124674685\n"
     ]
    }
   ],
   "source": [
    "from sklearn.model_selection import cross_val_score\n",
    "from sklearn.metrics import mean_squared_error\n",
    "from sklearn.metrics import fbeta_score, make_scorer\n",
    "#load data \n",
    "train_data=pd.read_csv(\"DATA/train.csv\")\n",
    "\n",
    "#we extract the index in training data\n",
    "Y_train_data_preprocessing=train_data[\"y\"]\n",
    "\n",
    "#we delete the index so that our the dataframe can be processed by our preprocessing function\n",
    "del train_data[\"y\"]\n",
    "\n",
    "#preprocessing Data\n",
    "train_data_preprocessing=Feature_Engineering_version_2(train_data)\n",
    "\n",
    "#to divide data to training and testing data\n",
    "DATA_node_train_preprocessing, DATA_node_test_preprocessing, Y_node_train_preprocessing, Y_node_test_preprocessing= train_test_split(train_data_preprocessing, Y_train_data_preprocessing, test_size=0.2, random_state=10)\n",
    "\n",
    "\n",
    "bagging_regressor = GradientBoostingRegressor(n_estimators=100, learning_rate= 0.09, max_depth=3,min_samples_split=3, min_samples_leaf=1)\n",
    "\n",
    "error=cross_val_score(bagging_regressor, DATA_node_train_preprocessing, Y_node_train_preprocessing, cv=10, scoring=make_scorer(mean_squared_error))\n",
    "\n",
    "\n",
    "print(sqrt(error.mean()))\n"
   ]
  },
  {
   "cell_type": "code",
   "execution_count": 93,
   "metadata": {},
   "outputs": [
    {
     "name": "stdout",
     "output_type": "stream",
     "text": [
      "0.019806135938287665\n",
      "0.01646129422350988\n",
      "0.02266241018910091\n",
      "0.01989692693434228\n",
      "0.029805167602745455\n",
      "0.019672626756361597\n",
      "0.017145529833998856\n",
      "0.020367315429617103\n",
      "0.020608386071298442\n",
      "0.018853782719960417\n"
     ]
    }
   ],
   "source": [
    "for i in range(10):\n",
    "    print(sqrt(error[i]))"
   ]
  },
  {
   "cell_type": "code",
   "execution_count": 95,
   "metadata": {},
   "outputs": [],
   "source": [
    "#prediction_=bagging_regressor.predict(DATA_node_test_preprocessing)"
   ]
  },
  {
   "cell_type": "code",
   "execution_count": null,
   "metadata": {},
   "outputs": [],
   "source": []
  },
  {
   "cell_type": "code",
   "execution_count": null,
   "metadata": {},
   "outputs": [],
   "source": []
  },
  {
   "cell_type": "code",
   "execution_count": null,
   "metadata": {},
   "outputs": [],
   "source": []
  },
  {
   "cell_type": "code",
   "execution_count": null,
   "metadata": {},
   "outputs": [],
   "source": []
  },
  {
   "cell_type": "markdown",
   "metadata": {},
   "source": [
    "# <center> Using the model without preprocessing </center> #"
   ]
  },
  {
   "cell_type": "code",
   "execution_count": 53,
   "metadata": {},
   "outputs": [
    {
     "name": "stdout",
     "output_type": "stream",
     "text": [
      "0.029737082437688245\n"
     ]
    }
   ],
   "source": [
    "#load data \n",
    "train_data=pd.read_csv(\"DATA/train.csv\")\n",
    "\n",
    "#we extract the index in training data\n",
    "Y_train_data_preprocessing=train_data[\"y\"]\n",
    "\n",
    "#we delete the index so that our the dataframe can be processed by our preprocessing function\n",
    "#del train_data[\"y\"]\n",
    "\n",
    "#test submission\n",
    "test_data=pd.read_csv(\"DATA/test.csv\")\n",
    "\n",
    "train_data_preprocessing,Y_train_data_preprocessing =train_data[test_data.columns[2:]].fillna(0), train_data['y'].fillna(0)\n",
    "\n",
    "#to divide data to training and testing data\n",
    "DATA_node_train_preprocessing, DATA_node_test_preprocessing, Y_node_train_preprocessing, Y_node_test_preprocessing= train_test_split(train_data_preprocessing, Y_train_data_preprocessing, test_size=0.2, random_state=10)\n",
    "\n",
    "# Create our model\n",
    "model = GradientBoostingRegressor(n_estimators=10000, learning_rate= 0.09, max_depth=3,min_samples_split=3, min_samples_leaf=1)\n",
    "\n",
    "\n",
    "# Split the data into inputs (X) and desired output (y)\n",
    "#X, y = train_data[test_data.columns[2:]].fillna(0), train_data['y'].fillna(0)\n",
    "\n",
    "# Fit the model\n",
    "model.fit(DATA_node_train_preprocessing, Y_node_train_preprocessing)\n",
    "\n",
    "# Score the model\n",
    "print(sqrt(mean_squared_error(Y_node_test_preprocessing, model.predict(DATA_node_test_preprocessing)))) "
   ]
  },
  {
   "cell_type": "code",
   "execution_count": 444,
   "metadata": {},
   "outputs": [],
   "source": [
    "#print(test_data.columns[2:])"
   ]
  },
  {
   "cell_type": "code",
   "execution_count": null,
   "metadata": {},
   "outputs": [],
   "source": []
  },
  {
   "cell_type": "markdown",
   "metadata": {},
   "source": [
    "## TEST BRIOULLON"
   ]
  },
  {
   "cell_type": "code",
   "execution_count": 247,
   "metadata": {},
   "outputs": [
    {
     "name": "stdout",
     "output_type": "stream",
     "text": [
      "0.000319152407124116\n"
     ]
    },
    {
     "name": "stderr",
     "output_type": "stream",
     "text": [
      "/home/panongbene/anaconda3/lib/python3.7/site-packages/ipykernel_launcher.py:29: SettingWithCopyWarning: \n",
      "A value is trying to be set on a copy of a slice from a DataFrame\n",
      "\n",
      "See the caveats in the documentation: http://pandas.pydata.org/pandas-docs/stable/indexing.html#indexing-view-versus-copy\n",
      "/home/panongbene/anaconda3/lib/python3.7/site-packages/ipykernel_launcher.py:25: SettingWithCopyWarning: \n",
      "A value is trying to be set on a copy of a slice from a DataFrame\n",
      "\n",
      "See the caveats in the documentation: http://pandas.pydata.org/pandas-docs/stable/indexing.html#indexing-view-versus-copy\n"
     ]
    },
    {
     "name": "stdout",
     "output_type": "stream",
     "text": [
      "percentage_sup_0_7== 0.89988\n",
      "percentage_inf_0_7== 0.1\n",
      "POTENTIAL FOR INCREASE ON THE INDEX  =  5009.622923274585\n",
      "LIKELY INCREASE IN THE INDEX         =  1858.4663077058772\n",
      "TOTAL INDEX                          =  73.25218632931372\n"
     ]
    }
   ],
   "source": [
    "#load data \n",
    "train_data=pd.read_csv(\"DATA/train.csv\")\n",
    "\n",
    "#we extract the index in training data\n",
    "Y_train_data_preprocessing=train_data[\"y\"]\n",
    "\n",
    "#we delete the index so that our the dataframe can be processed by our preprocessing function\n",
    "del train_data[\"y\"]\n",
    "\n",
    "#test submission\n",
    "test_data=pd.read_csv(\"DATA/test.csv\")\n",
    "\n",
    "train_data_preprocessing=Feature_Engineering_version_1(train_data)\n",
    "\n",
    "#to divide data to training and testing data\n",
    "DATA_node_train_preprocessing, DATA_node_test_preprocessing, Y_node_train_preprocessing, Y_node_test_preprocessing= train_test_split(train_data_preprocessing, Y_train_data_preprocessing, test_size=0.2, random_state=10)\n",
    "\n",
    "# Create our model\n",
    "model = GradientBoostingRegressor(n_estimators=100001, learning_rate= 0.29, max_depth=3,min_samples_split=3, min_samples_leaf=1)\n",
    "\n",
    "# Fit the model\n",
    "model.fit(train_data_preprocessing, Y_train_data_preprocessing)\n",
    "\n",
    "# Score the model\n",
    "print(sqrt(mean_squared_error(Y_node_test_preprocessing, model.predict(DATA_node_test_preprocessing)))) \n",
    "\n",
    "#/*****************************************************************************************************************/\n",
    "#predictionafter training\n",
    "#test_data_preprocessing=test_data.fillna(0)\n",
    "#last_prediction=pd.read_csv(\"prediction_sawadogo2_0.07308613.csv\")\n",
    "#test_data_preprocessing[\"y\"]=last_prediction[\"pred\"]\n",
    "test_data_preprocessing=Feature_Engineering_version_1(test_data)\n",
    "prediction_test=model.predict(test_data_preprocessing)\n",
    "test_data[\"yy\"]=prediction_test\n",
    "\n",
    "op_pred=repartition_energy_strategy_6(test_data,10)\n",
    "#op_pred=repartition_energy_strategy_6(test_data,10)\n",
    "prediction_liste=[]\n",
    "for i in range(prediction_test.shape[0]):\n",
    "    prediction_liste.append([prediction_test[i],op_pred[i]])\n",
    "\n",
    "#statistique \n",
    "Potential_for_increase_in_the_Index, Likely_increase_in_the_Index, total_index=optimization_energey_statistique(prediction_liste)\n",
    "print(\"POTENTIAL FOR INCREASE ON THE INDEX  = \",Potential_for_increase_in_the_Index)\n",
    "print(\"LIKELY INCREASE IN THE INDEX         = \",Likely_increase_in_the_Index)\n",
    "print(\"TOTAL INDEX                          = \",total_index)\n",
    "\n",
    "#save the prediction\n",
    "save_liste(prediction_liste,\"mamedou_test123\")"
   ]
  },
  {
   "cell_type": "code",
   "execution_count": null,
   "metadata": {},
   "outputs": [],
   "source": [
    "0.007666798077438549\n",
    "0.007357061463387327\n",
    "0.007187262413598003"
   ]
  },
  {
   "cell_type": "code",
   "execution_count": null,
   "metadata": {},
   "outputs": [],
   "source": []
  },
  {
   "cell_type": "code",
   "execution_count": null,
   "metadata": {},
   "outputs": [],
   "source": []
  },
  {
   "cell_type": "code",
   "execution_count": null,
   "metadata": {},
   "outputs": [],
   "source": []
  },
  {
   "cell_type": "code",
   "execution_count": null,
   "metadata": {},
   "outputs": [],
   "source": []
  },
  {
   "cell_type": "code",
   "execution_count": null,
   "metadata": {},
   "outputs": [],
   "source": []
  },
  {
   "cell_type": "code",
   "execution_count": null,
   "metadata": {},
   "outputs": [],
   "source": []
  },
  {
   "cell_type": "code",
   "execution_count": null,
   "metadata": {},
   "outputs": [],
   "source": []
  },
  {
   "cell_type": "code",
   "execution_count": null,
   "metadata": {},
   "outputs": [],
   "source": []
  },
  {
   "cell_type": "code",
   "execution_count": null,
   "metadata": {},
   "outputs": [],
   "source": []
  },
  {
   "cell_type": "code",
   "execution_count": null,
   "metadata": {},
   "outputs": [],
   "source": []
  },
  {
   "cell_type": "markdown",
   "metadata": {},
   "source": [
    "# without preprocessing"
   ]
  },
  {
   "cell_type": "code",
   "execution_count": 93,
   "metadata": {},
   "outputs": [
    {
     "name": "stderr",
     "output_type": "stream",
     "text": [
      "/home/panongbene/anaconda3/lib/python3.7/site-packages/xgboost/core.py:587: FutureWarning: Series.base is deprecated and will be removed in a future version\n",
      "  if getattr(data, 'base', None) is not None and \\\n"
     ]
    },
    {
     "name": "stdout",
     "output_type": "stream",
     "text": [
      "[12:47:37] WARNING: /opt/conda/conda-bld/xgboost_1560800456086/work/src/objective/regression_obj.cu:152: reg:linear is now deprecated in favor of reg:squarederror.\n",
      "0.027047484211667094\n"
     ]
    }
   ],
   "source": [
    "#load data \n",
    "train_data=pd.read_csv(\"DATA/train.csv\")\n",
    "\n",
    "#we extract the index in training data\n",
    "Y_train_data_preprocessing=train_data[\"y\"]\n",
    "\n",
    "#we delete the index so that our the dataframe can be processed by our preprocessing function\n",
    "#del train_data[\"y\"]\n",
    "\n",
    "#test submission\n",
    "test_data=pd.read_csv(\"DATA/test.csv\")\n",
    "\n",
    "train_data_preprocessing,Y_train_data_preprocessing =train_data[test_data.columns[2:]].fillna(train_data.median()), train_data['y'].fillna(train_data.median())\n",
    "\n",
    "#to divide data to training and testing data\n",
    "DATA_node_train_preprocessing, DATA_node_test_preprocessing, Y_node_train_preprocessing, Y_node_test_preprocessing= train_test_split(train_data_preprocessing, Y_train_data_preprocessing, test_size=0.2, random_state=10)\n",
    "\n",
    "# Create our model\n",
    "# most the learning rate is big, most the result is better()\n",
    "model =XGBRegressor(n_estimators=200, learning_rate= 0.21, max_depth=3,min_samples_split=3, min_samples_leaf=1)\n",
    "\n",
    "# Split the data into inputs (X) and desired output (y)\n",
    "#X, y = train_data[test_data.columns[2:]].fillna(0), train_data['y'].fillna(0)\n",
    "\n",
    "# Fit the model\n",
    "model.fit(DATA_node_train_preprocessing, Y_node_train_preprocessing)\n",
    "\n",
    "# Score the model\n",
    "print(sqrt(mean_squared_error(Y_node_test_preprocessing, model.predict(DATA_node_test_preprocessing)))) "
   ]
  },
  {
   "cell_type": "code",
   "execution_count": 60,
   "metadata": {},
   "outputs": [],
   "source": [
    "#0.21#100=0.027218440439518196\n",
    "#0.21#200=0.027047484211667094\n"
   ]
  },
  {
   "cell_type": "code",
   "execution_count": null,
   "metadata": {},
   "outputs": [],
   "source": []
  },
  {
   "cell_type": "code",
   "execution_count": null,
   "metadata": {},
   "outputs": [],
   "source": []
  },
  {
   "cell_type": "code",
   "execution_count": null,
   "metadata": {},
   "outputs": [],
   "source": []
  },
  {
   "cell_type": "code",
   "execution_count": null,
   "metadata": {},
   "outputs": [],
   "source": []
  },
  {
   "cell_type": "code",
   "execution_count": null,
   "metadata": {},
   "outputs": [],
   "source": []
  },
  {
   "cell_type": "code",
   "execution_count": null,
   "metadata": {},
   "outputs": [],
   "source": []
  },
  {
   "cell_type": "code",
   "execution_count": null,
   "metadata": {},
   "outputs": [],
   "source": []
  },
  {
   "cell_type": "code",
   "execution_count": null,
   "metadata": {},
   "outputs": [],
   "source": []
  }
 ],
 "metadata": {
  "kernelspec": {
   "display_name": "Python 3",
   "language": "python",
   "name": "python3"
  },
  "language_info": {
   "codemirror_mode": {
    "name": "ipython",
    "version": 3
   },
   "file_extension": ".py",
   "mimetype": "text/x-python",
   "name": "python",
   "nbconvert_exporter": "python",
   "pygments_lexer": "ipython3",
   "version": "3.7.3"
  }
 },
 "nbformat": 4,
 "nbformat_minor": 2
}
